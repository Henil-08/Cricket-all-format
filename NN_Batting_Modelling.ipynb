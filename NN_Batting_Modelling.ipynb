{
 "cells": [
  {
   "cell_type": "markdown",
   "metadata": {},
   "source": [
    "# Predicting the Batting Average"
   ]
  },
  {
   "cell_type": "code",
   "execution_count": 1,
   "metadata": {},
   "outputs": [],
   "source": [
    "import pandas as pd\n",
    "import numpy as np\n",
    "import matplotlib.pyplot as plt\n",
    "import seaborn as sns"
   ]
  },
  {
   "cell_type": "markdown",
   "metadata": {},
   "source": [
    "## ODI Batting Average"
   ]
  },
  {
   "cell_type": "code",
   "execution_count": 2,
   "metadata": {},
   "outputs": [
    {
     "data": {
      "text/html": [
       "<div>\n",
       "<style scoped>\n",
       "    .dataframe tbody tr th:only-of-type {\n",
       "        vertical-align: middle;\n",
       "    }\n",
       "\n",
       "    .dataframe tbody tr th {\n",
       "        vertical-align: top;\n",
       "    }\n",
       "\n",
       "    .dataframe thead th {\n",
       "        text-align: right;\n",
       "    }\n",
       "</style>\n",
       "<table border=\"1\" class=\"dataframe\">\n",
       "  <thead>\n",
       "    <tr style=\"text-align: right;\">\n",
       "      <th></th>\n",
       "      <th>Batting Style</th>\n",
       "      <th>Playing Role</th>\n",
       "      <th>Innings_T20_batting</th>\n",
       "      <th>Innings_Test_batting</th>\n",
       "      <th>NO_T20</th>\n",
       "      <th>NO_Test</th>\n",
       "      <th>Runs_T20_batting</th>\n",
       "      <th>Runs_Test_batting</th>\n",
       "      <th>HS_T20</th>\n",
       "      <th>HS_Test</th>\n",
       "      <th>...</th>\n",
       "      <th>50_Test</th>\n",
       "      <th>0_T20</th>\n",
       "      <th>0_Test</th>\n",
       "      <th>T20_Matches</th>\n",
       "      <th>Test_Matches</th>\n",
       "      <th>Country</th>\n",
       "      <th>SpanStart_Test</th>\n",
       "      <th>SpanStart_T20</th>\n",
       "      <th>AgeStart_Test</th>\n",
       "      <th>AgeStart_T20</th>\n",
       "    </tr>\n",
       "  </thead>\n",
       "  <tbody>\n",
       "    <tr>\n",
       "      <th>0</th>\n",
       "      <td>0</td>\n",
       "      <td>1</td>\n",
       "      <td>1</td>\n",
       "      <td>13</td>\n",
       "      <td>1</td>\n",
       "      <td>0</td>\n",
       "      <td>6</td>\n",
       "      <td>310</td>\n",
       "      <td>6</td>\n",
       "      <td>82</td>\n",
       "      <td>...</td>\n",
       "      <td>1</td>\n",
       "      <td>0</td>\n",
       "      <td>1</td>\n",
       "      <td>1</td>\n",
       "      <td>7</td>\n",
       "      <td>5</td>\n",
       "      <td>2023</td>\n",
       "      <td>2024</td>\n",
       "      <td>24.643836</td>\n",
       "      <td>25.643836</td>\n",
       "    </tr>\n",
       "    <tr>\n",
       "      <th>1</th>\n",
       "      <td>1</td>\n",
       "      <td>1</td>\n",
       "      <td>106</td>\n",
       "      <td>18</td>\n",
       "      <td>4</td>\n",
       "      <td>1</td>\n",
       "      <td>2392</td>\n",
       "      <td>401</td>\n",
       "      <td>83</td>\n",
       "      <td>95</td>\n",
       "      <td>...</td>\n",
       "      <td>4</td>\n",
       "      <td>6</td>\n",
       "      <td>3</td>\n",
       "      <td>110</td>\n",
       "      <td>9</td>\n",
       "      <td>4</td>\n",
       "      <td>2018</td>\n",
       "      <td>2015</td>\n",
       "      <td>27.586301</td>\n",
       "      <td>24.586301</td>\n",
       "    </tr>\n",
       "    <tr>\n",
       "      <th>2</th>\n",
       "      <td>0</td>\n",
       "      <td>0</td>\n",
       "      <td>16</td>\n",
       "      <td>10</td>\n",
       "      <td>8</td>\n",
       "      <td>2</td>\n",
       "      <td>65</td>\n",
       "      <td>135</td>\n",
       "      <td>11</td>\n",
       "      <td>43</td>\n",
       "      <td>...</td>\n",
       "      <td>0</td>\n",
       "      <td>2</td>\n",
       "      <td>3</td>\n",
       "      <td>33</td>\n",
       "      <td>6</td>\n",
       "      <td>1</td>\n",
       "      <td>2018</td>\n",
       "      <td>2012</td>\n",
       "      <td>24.819178</td>\n",
       "      <td>18.819178</td>\n",
       "    </tr>\n",
       "    <tr>\n",
       "      <th>3</th>\n",
       "      <td>1</td>\n",
       "      <td>0</td>\n",
       "      <td>11</td>\n",
       "      <td>41</td>\n",
       "      <td>4</td>\n",
       "      <td>5</td>\n",
       "      <td>337</td>\n",
       "      <td>1462</td>\n",
       "      <td>85</td>\n",
       "      <td>162</td>\n",
       "      <td>...</td>\n",
       "      <td>10</td>\n",
       "      <td>2</td>\n",
       "      <td>4</td>\n",
       "      <td>14</td>\n",
       "      <td>26</td>\n",
       "      <td>3</td>\n",
       "      <td>2004</td>\n",
       "      <td>2005</td>\n",
       "      <td>29.080000</td>\n",
       "      <td>30.080000</td>\n",
       "    </tr>\n",
       "    <tr>\n",
       "      <th>4</th>\n",
       "      <td>1</td>\n",
       "      <td>1</td>\n",
       "      <td>2</td>\n",
       "      <td>28</td>\n",
       "      <td>0</td>\n",
       "      <td>0</td>\n",
       "      <td>23</td>\n",
       "      <td>657</td>\n",
       "      <td>15</td>\n",
       "      <td>104</td>\n",
       "      <td>...</td>\n",
       "      <td>4</td>\n",
       "      <td>0</td>\n",
       "      <td>2</td>\n",
       "      <td>2</td>\n",
       "      <td>15</td>\n",
       "      <td>5</td>\n",
       "      <td>2009</td>\n",
       "      <td>2010</td>\n",
       "      <td>19.290411</td>\n",
       "      <td>20.290411</td>\n",
       "    </tr>\n",
       "  </tbody>\n",
       "</table>\n",
       "<p>5 rows × 28 columns</p>\n",
       "</div>"
      ],
      "text/plain": [
       "   Batting Style  Playing Role  Innings_T20_batting  Innings_Test_batting  \\\n",
       "0              0             1                    1                    13   \n",
       "1              1             1                  106                    18   \n",
       "2              0             0                   16                    10   \n",
       "3              1             0                   11                    41   \n",
       "4              1             1                    2                    28   \n",
       "\n",
       "   NO_T20  NO_Test  Runs_T20_batting  Runs_Test_batting  HS_T20  HS_Test  ...  \\\n",
       "0       1        0                 6                310       6       82  ...   \n",
       "1       4        1              2392                401      83       95  ...   \n",
       "2       8        2                65                135      11       43  ...   \n",
       "3       4        5               337               1462      85      162  ...   \n",
       "4       0        0                23                657      15      104  ...   \n",
       "\n",
       "   50_Test  0_T20  0_Test  T20_Matches  Test_Matches  Country  SpanStart_Test  \\\n",
       "0        1      0       1            1             7        5            2023   \n",
       "1        4      6       3          110             9        4            2018   \n",
       "2        0      2       3           33             6        1            2018   \n",
       "3       10      2       4           14            26        3            2004   \n",
       "4        4      0       2            2            15        5            2009   \n",
       "\n",
       "   SpanStart_T20  AgeStart_Test  AgeStart_T20  \n",
       "0           2024      24.643836     25.643836  \n",
       "1           2015      27.586301     24.586301  \n",
       "2           2012      24.819178     18.819178  \n",
       "3           2005      29.080000     30.080000  \n",
       "4           2010      19.290411     20.290411  \n",
       "\n",
       "[5 rows x 28 columns]"
      ]
     },
     "execution_count": 2,
     "metadata": {},
     "output_type": "execute_result"
    }
   ],
   "source": [
    "df = pd.read_csv('Data/Final/odi_bat_processed_data.csv')\n",
    "df.head()"
   ]
  },
  {
   "cell_type": "code",
   "execution_count": 3,
   "metadata": {},
   "outputs": [],
   "source": [
    "X = df.drop('Ave_ODI_batting', axis = 1)"
   ]
  },
  {
   "cell_type": "code",
   "execution_count": 4,
   "metadata": {},
   "outputs": [],
   "source": [
    "y = df['Ave_ODI_batting']"
   ]
  },
  {
   "cell_type": "markdown",
   "metadata": {},
   "source": [
    "##### Dropping with correlation"
   ]
  },
  {
   "cell_type": "code",
   "execution_count": 5,
   "metadata": {},
   "outputs": [
    {
     "data": {
      "image/png": "[encoded data removed]",
      "text/plain": [
       "<Figure size 640x480 with 2 Axes>"
      ]
     },
     "metadata": {},
     "output_type": "display_data"
    }
   ],
   "source": [
    "cor = X.corr()\n",
    "sns.heatmap(cor, annot = False, cmap = plt.cm.CMRmap_r)\n",
    "plt.show()"
   ]
  },
  {
   "cell_type": "code",
   "execution_count": 6,
   "metadata": {},
   "outputs": [],
   "source": [
    "# Select upper triangle of correlation matrix\n",
    "upper = cor.where(np.triu(np.ones(cor.shape), k=1).astype(bool))"
   ]
  },
  {
   "cell_type": "code",
   "execution_count": 7,
   "metadata": {},
   "outputs": [],
   "source": [
    "# Find features with correlation greater than 0.8\n",
    "highly_correlated = [column for column in upper.columns if any(upper[column] > 0.8)]"
   ]
  },
  {
   "cell_type": "code",
   "execution_count": 8,
   "metadata": {},
   "outputs": [
    {
     "data": {
      "text/plain": [
       "['NO_Test',\n",
       " 'Runs_T20_batting',\n",
       " 'Runs_Test_batting',\n",
       " 'BF_T20',\n",
       " '100_Test',\n",
       " '50_T20',\n",
       " '50_Test',\n",
       " '0_Test',\n",
       " 'T20_Matches',\n",
       " 'Test_Matches']"
      ]
     },
     "execution_count": 8,
     "metadata": {},
     "output_type": "execute_result"
    }
   ],
   "source": [
    "highly_correlated"
   ]
  },
  {
   "cell_type": "code",
   "execution_count": 9,
   "metadata": {},
   "outputs": [],
   "source": [
    "# Drop highly correlated features\n",
    "X = X.drop(columns=highly_correlated)"
   ]
  },
  {
   "cell_type": "code",
   "execution_count": 10,
   "metadata": {},
   "outputs": [],
   "source": [
    "import tensorflow as tf\n",
    "from tensorflow import keras\n",
    "from sklearn.model_selection import train_test_split\n",
    "from sklearn.preprocessing import StandardScaler\n",
    "from sklearn.metrics import mean_squared_error, r2_score\n",
    "from sklearn.decomposition import PCA"
   ]
  },
  {
   "cell_type": "code",
   "execution_count": 11,
   "metadata": {},
   "outputs": [],
   "source": [
    "X_train, X_test, y_train, y_test = train_test_split(X, y, test_size=0.2, random_state=42)"
   ]
  },
  {
   "cell_type": "code",
   "execution_count": 12,
   "metadata": {},
   "outputs": [],
   "source": [
    "scaler = StandardScaler()\n",
    "X_train = scaler.fit_transform(X_train)\n",
    "X_test = scaler.transform(X_test)"
   ]
  },
  {
   "cell_type": "code",
   "execution_count": 13,
   "metadata": {},
   "outputs": [],
   "source": [
    "pca = PCA(n_components=0.95)  # Retain 95% variance\n",
    "X_train = pca.fit_transform(X_train)\n",
    "X_test = pca.transform(X_test)"
   ]
  },
  {
   "cell_type": "code",
   "execution_count": 14,
   "metadata": {},
   "outputs": [
    {
     "name": "stderr",
     "output_type": "stream",
     "text": [
      "/Users/henil08/College/Projects/Cricket-all-format/.venv/lib/python3.12/site-packages/keras/src/layers/core/dense.py:87: UserWarning: Do not pass an `input_shape`/`input_dim` argument to a layer. When using Sequential models, prefer using an `Input(shape)` object as the first layer in the model instead.\n",
      "  super().__init__(activity_regularizer=activity_regularizer, **kwargs)\n"
     ]
    }
   ],
   "source": [
    "model = keras.Sequential([\n",
    "    keras.layers.Dense(64, activation='relu', input_shape=(X_train.shape[1],)),\n",
    "    keras.layers.Dense(32, activation='relu'),\n",
    "    keras.layers.Dense(1)  # Regression output\n",
    "])"
   ]
  },
  {
   "cell_type": "code",
   "execution_count": 15,
   "metadata": {},
   "outputs": [],
   "source": [
    "model.compile(optimizer='adam', loss='mse', metrics=['mae'])"
   ]
  },
  {
   "cell_type": "code",
   "execution_count": 16,
   "metadata": {},
   "outputs": [],
   "source": [
    "early_stopping = keras.callbacks.EarlyStopping(monitor='val_loss', patience=20, restore_best_weights=True)\n",
    "reduce_lr = keras.callbacks.ReduceLROnPlateau(monitor='val_loss', factor=0.5, patience=10, verbose=1)"
   ]
  },
  {
   "cell_type": "code",
   "execution_count": 17,
   "metadata": {},
   "outputs": [
    {
     "name": "stdout",
     "output_type": "stream",
     "text": [
      "Epoch 1/300\n",
      "\u001b[1m18/18\u001b[0m \u001b[32m━━━━━━━━━━━━━━━━━━━━\u001b[0m\u001b[37m\u001b[0m \u001b[1m0s\u001b[0m 4ms/step - loss: 944.6920 - mae: 28.5996 - val_loss: 919.8438 - val_mae: 28.5719 - learning_rate: 0.0010\n",
      "Epoch 2/300\n",
      "\u001b[1m18/18\u001b[0m \u001b[32m━━━━━━━━━━━━━━━━━━━━\u001b[0m\u001b[37m\u001b[0m \u001b[1m0s\u001b[0m 2ms/step - loss: 859.4728 - mae: 26.6407 - val_loss: 867.1715 - val_mae: 27.6813 - learning_rate: 0.0010\n",
      "Epoch 3/300\n",
      "\u001b[1m18/18\u001b[0m \u001b[32m━━━━━━━━━━━━━━━━━━━━\u001b[0m\u001b[37m\u001b[0m \u001b[1m0s\u001b[0m 5ms/step - loss: 869.1309 - mae: 26.9447 - val_loss: 802.7978 - val_mae: 26.5379 - learning_rate: 0.0010\n",
      "Epoch 4/300\n",
      "\u001b[1m18/18\u001b[0m \u001b[32m━━━━━━━━━━━━━━━━━━━━\u001b[0m\u001b[37m\u001b[0m \u001b[1m0s\u001b[0m 2ms/step - loss: 722.8533 - mae: 24.3524 - val_loss: 722.2574 - val_mae: 25.0103 - learning_rate: 0.0010\n",
      "Epoch 5/300\n",
      "\u001b[1m18/18\u001b[0m \u001b[32m━━━━━━━━━━━━━━━━━━━━\u001b[0m\u001b[37m\u001b[0m \u001b[1m0s\u001b[0m 2ms/step - loss: 655.4161 - mae: 23.1139 - val_loss: 621.5773 - val_mae: 22.9251 - learning_rate: 0.0010\n",
      "Epoch 6/300\n",
      "\u001b[1m18/18\u001b[0m \u001b[32m━━━━━━━━━━━━━━━━━━━━\u001b[0m\u001b[37m\u001b[0m \u001b[1m0s\u001b[0m 2ms/step - loss: 534.6244 - mae: 20.5839 - val_loss: 504.8352 - val_mae: 20.2881 - learning_rate: 0.0010\n",
      "Epoch 7/300\n",
      "\u001b[1m18/18\u001b[0m \u001b[32m━━━━━━━━━━━━━━━━━━━━\u001b[0m\u001b[37m\u001b[0m \u001b[1m0s\u001b[0m 2ms/step - loss: 470.9657 - mae: 18.8038 - val_loss: 382.2245 - val_mae: 17.2733 - learning_rate: 0.0010\n",
      "Epoch 8/300\n",
      "\u001b[1m18/18\u001b[0m \u001b[32m━━━━━━━━━━━━━━━━━━━━\u001b[0m\u001b[37m\u001b[0m \u001b[1m0s\u001b[0m 2ms/step - loss: 333.5659 - mae: 15.4506 - val_loss: 273.0012 - val_mae: 13.9460 - learning_rate: 0.0010\n",
      "Epoch 9/300\n",
      "\u001b[1m18/18\u001b[0m \u001b[32m━━━━━━━━━━━━━━━━━━━━\u001b[0m\u001b[37m\u001b[0m \u001b[1m0s\u001b[0m 2ms/step - loss: 204.7627 - mae: 11.4952 - val_loss: 199.3036 - val_mae: 11.4447 - learning_rate: 0.0010\n",
      "Epoch 10/300\n",
      "\u001b[1m18/18\u001b[0m \u001b[32m━━━━━━━━━━━━━━━━━━━━\u001b[0m\u001b[37m\u001b[0m \u001b[1m0s\u001b[0m 2ms/step - loss: 130.7343 - mae: 9.2376 - val_loss: 159.0625 - val_mae: 9.8426 - learning_rate: 0.0010\n",
      "Epoch 11/300\n",
      "\u001b[1m18/18\u001b[0m \u001b[32m━━━━━━━━━━━━━━━━━━━━\u001b[0m\u001b[37m\u001b[0m \u001b[1m0s\u001b[0m 2ms/step - loss: 125.2076 - mae: 8.6281 - val_loss: 140.0445 - val_mae: 9.0055 - learning_rate: 0.0010\n",
      "Epoch 12/300\n",
      "\u001b[1m18/18\u001b[0m \u001b[32m━━━━━━━━━━━━━━━━━━━━\u001b[0m\u001b[37m\u001b[0m \u001b[1m0s\u001b[0m 2ms/step - loss: 101.4985 - mae: 7.7282 - val_loss: 129.8763 - val_mae: 8.6084 - learning_rate: 0.0010\n",
      "Epoch 13/300\n",
      "\u001b[1m18/18\u001b[0m \u001b[32m━━━━━━━━━━━━━━━━━━━━\u001b[0m\u001b[37m\u001b[0m \u001b[1m0s\u001b[0m 2ms/step - loss: 109.1793 - mae: 7.7557 - val_loss: 121.1560 - val_mae: 8.3187 - learning_rate: 0.0010\n",
      "Epoch 14/300\n",
      "\u001b[1m18/18\u001b[0m \u001b[32m━━━━━━━━━━━━━━━━━━━━\u001b[0m\u001b[37m\u001b[0m \u001b[1m0s\u001b[0m 1ms/step - loss: 135.3973 - mae: 8.2161 - val_loss: 115.9934 - val_mae: 8.1644 - learning_rate: 0.0010\n",
      "Epoch 15/300\n",
      "\u001b[1m18/18\u001b[0m \u001b[32m━━━━━━━━━━━━━━━━━━━━\u001b[0m\u001b[37m\u001b[0m \u001b[1m0s\u001b[0m 2ms/step - loss: 100.7981 - mae: 7.6639 - val_loss: 111.7344 - val_mae: 8.0181 - learning_rate: 0.0010\n",
      "Epoch 16/300\n",
      "\u001b[1m18/18\u001b[0m \u001b[32m━━━━━━━━━━━━━━━━━━━━\u001b[0m\u001b[37m\u001b[0m \u001b[1m0s\u001b[0m 2ms/step - loss: 133.4294 - mae: 8.1927 - val_loss: 107.4829 - val_mae: 7.8665 - learning_rate: 0.0010\n",
      "Epoch 17/300\n",
      "\u001b[1m18/18\u001b[0m \u001b[32m━━━━━━━━━━━━━━━━━━━━\u001b[0m\u001b[37m\u001b[0m \u001b[1m0s\u001b[0m 1ms/step - loss: 125.7702 - mae: 8.0179 - val_loss: 106.1200 - val_mae: 7.8483 - learning_rate: 0.0010\n",
      "Epoch 18/300\n",
      "\u001b[1m18/18\u001b[0m \u001b[32m━━━━━━━━━━━━━━━━━━━━\u001b[0m\u001b[37m\u001b[0m \u001b[1m0s\u001b[0m 2ms/step - loss: 85.6113 - mae: 7.1105 - val_loss: 103.8212 - val_mae: 7.7583 - learning_rate: 0.0010\n",
      "Epoch 19/300\n",
      "\u001b[1m18/18\u001b[0m \u001b[32m━━━━━━━━━━━━━━━━━━━━\u001b[0m\u001b[37m\u001b[0m \u001b[1m0s\u001b[0m 2ms/step - loss: 100.3062 - mae: 7.5123 - val_loss: 101.5197 - val_mae: 7.6896 - learning_rate: 0.0010\n",
      "Epoch 20/300\n",
      "\u001b[1m18/18\u001b[0m \u001b[32m━━━━━━━━━━━━━━━━━━━━\u001b[0m\u001b[37m\u001b[0m \u001b[1m0s\u001b[0m 1ms/step - loss: 83.2578 - mae: 6.9032 - val_loss: 100.9359 - val_mae: 7.6780 - learning_rate: 0.0010\n",
      "Epoch 21/300\n",
      "\u001b[1m18/18\u001b[0m \u001b[32m━━━━━━━━━━━━━━━━━━━━\u001b[0m\u001b[37m\u001b[0m \u001b[1m0s\u001b[0m 2ms/step - loss: 81.5910 - mae: 6.9527 - val_loss: 100.8930 - val_mae: 7.6936 - learning_rate: 0.0010\n",
      "Epoch 22/300\n",
      "\u001b[1m18/18\u001b[0m \u001b[32m━━━━━━━━━━━━━━━━━━━━\u001b[0m\u001b[37m\u001b[0m \u001b[1m0s\u001b[0m 3ms/step - loss: 89.1140 - mae: 6.9912 - val_loss: 99.2229 - val_mae: 7.6486 - learning_rate: 0.0010\n",
      "Epoch 23/300\n",
      "\u001b[1m18/18\u001b[0m \u001b[32m━━━━━━━━━━━━━━━━━━━━\u001b[0m\u001b[37m\u001b[0m \u001b[1m0s\u001b[0m 2ms/step - loss: 99.6945 - mae: 7.2426 - val_loss: 97.8971 - val_mae: 7.6124 - learning_rate: 0.0010\n",
      "Epoch 24/300\n",
      "\u001b[1m18/18\u001b[0m \u001b[32m━━━━━━━━━━━━━━━━━━━━\u001b[0m\u001b[37m\u001b[0m \u001b[1m0s\u001b[0m 2ms/step - loss: 82.6376 - mae: 6.7536 - val_loss: 95.7255 - val_mae: 7.5024 - learning_rate: 0.0010\n",
      "Epoch 25/300\n",
      "\u001b[1m18/18\u001b[0m \u001b[32m━━━━━━━━━━━━━━━━━━━━\u001b[0m\u001b[37m\u001b[0m \u001b[1m0s\u001b[0m 2ms/step - loss: 85.2826 - mae: 6.7729 - val_loss: 95.6427 - val_mae: 7.5110 - learning_rate: 0.0010\n",
      "Epoch 26/300\n",
      "\u001b[1m18/18\u001b[0m \u001b[32m━━━━━━━━━━━━━━━━━━━━\u001b[0m\u001b[37m\u001b[0m \u001b[1m0s\u001b[0m 2ms/step - loss: 93.2117 - mae: 7.4685 - val_loss: 95.3050 - val_mae: 7.5166 - learning_rate: 0.0010\n",
      "Epoch 27/300\n",
      "\u001b[1m18/18\u001b[0m \u001b[32m━━━━━━━━━━━━━━━━━━━━\u001b[0m\u001b[37m\u001b[0m \u001b[1m0s\u001b[0m 2ms/step - loss: 99.3699 - mae: 7.5027 - val_loss: 94.5682 - val_mae: 7.4838 - learning_rate: 0.0010\n",
      "Epoch 28/300\n",
      "\u001b[1m18/18\u001b[0m \u001b[32m━━━━━━━━━━━━━━━━━━━━\u001b[0m\u001b[37m\u001b[0m \u001b[1m0s\u001b[0m 2ms/step - loss: 80.2644 - mae: 6.7804 - val_loss: 93.4197 - val_mae: 7.4410 - learning_rate: 0.0010\n",
      "Epoch 29/300\n",
      "\u001b[1m18/18\u001b[0m \u001b[32m━━━━━━━━━━━━━━━━━━━━\u001b[0m\u001b[37m\u001b[0m \u001b[1m0s\u001b[0m 2ms/step - loss: 88.6518 - mae: 7.2503 - val_loss: 94.0903 - val_mae: 7.4734 - learning_rate: 0.0010\n",
      "Epoch 30/300\n",
      "\u001b[1m18/18\u001b[0m \u001b[32m━━━━━━━━━━━━━━━━━━━━\u001b[0m\u001b[37m\u001b[0m \u001b[1m0s\u001b[0m 2ms/step - loss: 80.7329 - mae: 6.6398 - val_loss: 93.2085 - val_mae: 7.4212 - learning_rate: 0.0010\n",
      "Epoch 31/300\n",
      "\u001b[1m18/18\u001b[0m \u001b[32m━━━━━━━━━━━━━━━━━━━━\u001b[0m\u001b[37m\u001b[0m \u001b[1m0s\u001b[0m 2ms/step - loss: 81.1980 - mae: 6.6187 - val_loss: 91.9946 - val_mae: 7.3671 - learning_rate: 0.0010\n",
      "Epoch 32/300\n",
      "\u001b[1m18/18\u001b[0m \u001b[32m━━━━━━━━━━━━━━━━━━━━\u001b[0m\u001b[37m\u001b[0m \u001b[1m0s\u001b[0m 2ms/step - loss: 92.3199 - mae: 7.0469 - val_loss: 91.8011 - val_mae: 7.3821 - learning_rate: 0.0010\n",
      "Epoch 33/300\n",
      "\u001b[1m18/18\u001b[0m \u001b[32m━━━━━━━━━━━━━━━━━━━━\u001b[0m\u001b[37m\u001b[0m \u001b[1m0s\u001b[0m 2ms/step - loss: 77.4682 - mae: 6.6558 - val_loss: 90.9928 - val_mae: 7.3543 - learning_rate: 0.0010\n",
      "Epoch 34/300\n",
      "\u001b[1m18/18\u001b[0m \u001b[32m━━━━━━━━━━━━━━━━━━━━\u001b[0m\u001b[37m\u001b[0m \u001b[1m0s\u001b[0m 1ms/step - loss: 86.9906 - mae: 6.8521 - val_loss: 91.9958 - val_mae: 7.4224 - learning_rate: 0.0010\n",
      "Epoch 35/300\n",
      "\u001b[1m18/18\u001b[0m \u001b[32m━━━━━━━━━━━━━━━━━━━━\u001b[0m\u001b[37m\u001b[0m \u001b[1m0s\u001b[0m 2ms/step - loss: 82.7919 - mae: 7.0156 - val_loss: 91.3950 - val_mae: 7.3862 - learning_rate: 0.0010\n",
      "Epoch 36/300\n",
      "\u001b[1m18/18\u001b[0m \u001b[32m━━━━━━━━━━━━━━━━━━━━\u001b[0m\u001b[37m\u001b[0m \u001b[1m0s\u001b[0m 2ms/step - loss: 119.2288 - mae: 7.5303 - val_loss: 90.9098 - val_mae: 7.3636 - learning_rate: 0.0010\n",
      "Epoch 37/300\n",
      "\u001b[1m18/18\u001b[0m \u001b[32m━━━━━━━━━━━━━━━━━━━━\u001b[0m\u001b[37m\u001b[0m \u001b[1m0s\u001b[0m 2ms/step - loss: 82.7477 - mae: 6.8138 - val_loss: 89.6145 - val_mae: 7.3061 - learning_rate: 0.0010\n",
      "Epoch 38/300\n",
      "\u001b[1m18/18\u001b[0m \u001b[32m━━━━━━━━━━━━━━━━━━━━\u001b[0m\u001b[37m\u001b[0m \u001b[1m0s\u001b[0m 3ms/step - loss: 83.6237 - mae: 6.7885 - val_loss: 89.8157 - val_mae: 7.3431 - learning_rate: 0.0010\n",
      "Epoch 39/300\n",
      "\u001b[1m18/18\u001b[0m \u001b[32m━━━━━━━━━━━━━━━━━━━━\u001b[0m\u001b[37m\u001b[0m \u001b[1m0s\u001b[0m 2ms/step - loss: 103.4918 - mae: 6.9430 - val_loss: 88.7288 - val_mae: 7.2872 - learning_rate: 0.0010\n",
      "Epoch 40/300\n",
      "\u001b[1m18/18\u001b[0m \u001b[32m━━━━━━━━━━━━━━━━━━━━\u001b[0m\u001b[37m\u001b[0m \u001b[1m0s\u001b[0m 2ms/step - loss: 88.6030 - mae: 6.7133 - val_loss: 89.1300 - val_mae: 7.3083 - learning_rate: 0.0010\n",
      "Epoch 41/300\n",
      "\u001b[1m18/18\u001b[0m \u001b[32m━━━━━━━━━━━━━━━━━━━━\u001b[0m\u001b[37m\u001b[0m \u001b[1m0s\u001b[0m 2ms/step - loss: 85.6462 - mae: 6.6435 - val_loss: 88.3812 - val_mae: 7.2666 - learning_rate: 0.0010\n",
      "Epoch 42/300\n",
      "\u001b[1m18/18\u001b[0m \u001b[32m━━━━━━━━━━━━━━━━━━━━\u001b[0m\u001b[37m\u001b[0m \u001b[1m0s\u001b[0m 2ms/step - loss: 88.1508 - mae: 6.9318 - val_loss: 88.3988 - val_mae: 7.2589 - learning_rate: 0.0010\n",
      "Epoch 43/300\n",
      "\u001b[1m18/18\u001b[0m \u001b[32m━━━━━━━━━━━━━━━━━━━━\u001b[0m\u001b[37m\u001b[0m \u001b[1m0s\u001b[0m 3ms/step - loss: 71.9995 - mae: 6.3528 - val_loss: 88.1678 - val_mae: 7.2181 - learning_rate: 0.0010\n",
      "Epoch 44/300\n",
      "\u001b[1m18/18\u001b[0m \u001b[32m━━━━━━━━━━━━━━━━━━━━\u001b[0m\u001b[37m\u001b[0m \u001b[1m0s\u001b[0m 2ms/step - loss: 68.0752 - mae: 6.2834 - val_loss: 88.0176 - val_mae: 7.2505 - learning_rate: 0.0010\n",
      "Epoch 45/300\n",
      "\u001b[1m18/18\u001b[0m \u001b[32m━━━━━━━━━━━━━━━━━━━━\u001b[0m\u001b[37m\u001b[0m \u001b[1m0s\u001b[0m 2ms/step - loss: 83.7371 - mae: 6.7100 - val_loss: 87.0342 - val_mae: 7.2023 - learning_rate: 0.0010\n",
      "Epoch 46/300\n",
      "\u001b[1m18/18\u001b[0m \u001b[32m━━━━━━━━━━━━━━━━━━━━\u001b[0m\u001b[37m\u001b[0m \u001b[1m0s\u001b[0m 2ms/step - loss: 80.5525 - mae: 6.3772 - val_loss: 86.3365 - val_mae: 7.1721 - learning_rate: 0.0010\n",
      "Epoch 47/300\n",
      "\u001b[1m18/18\u001b[0m \u001b[32m━━━━━━━━━━━━━━━━━━━━\u001b[0m\u001b[37m\u001b[0m \u001b[1m0s\u001b[0m 2ms/step - loss: 75.7414 - mae: 6.5300 - val_loss: 86.6894 - val_mae: 7.1933 - learning_rate: 0.0010\n",
      "Epoch 48/300\n",
      "\u001b[1m18/18\u001b[0m \u001b[32m━━━━━━━━━━━━━━━━━━━━\u001b[0m\u001b[37m\u001b[0m \u001b[1m0s\u001b[0m 2ms/step - loss: 83.7801 - mae: 6.9114 - val_loss: 86.0792 - val_mae: 7.1872 - learning_rate: 0.0010\n",
      "Epoch 49/300\n",
      "\u001b[1m18/18\u001b[0m \u001b[32m━━━━━━━━━━━━━━━━━━━━\u001b[0m\u001b[37m\u001b[0m \u001b[1m0s\u001b[0m 2ms/step - loss: 69.4738 - mae: 6.0714 - val_loss: 86.8066 - val_mae: 7.1938 - learning_rate: 0.0010\n",
      "Epoch 50/300\n",
      "\u001b[1m18/18\u001b[0m \u001b[32m━━━━━━━━━━━━━━━━━━━━\u001b[0m\u001b[37m\u001b[0m \u001b[1m0s\u001b[0m 2ms/step - loss: 75.6700 - mae: 6.4669 - val_loss: 86.3601 - val_mae: 7.1813 - learning_rate: 0.0010\n",
      "Epoch 51/300\n",
      "\u001b[1m18/18\u001b[0m \u001b[32m━━━━━━━━━━━━━━━━━━━━\u001b[0m\u001b[37m\u001b[0m \u001b[1m0s\u001b[0m 2ms/step - loss: 61.7068 - mae: 6.0227 - val_loss: 85.7002 - val_mae: 7.1279 - learning_rate: 0.0010\n",
      "Epoch 52/300\n",
      "\u001b[1m18/18\u001b[0m \u001b[32m━━━━━━━━━━━━━━━━━━━━\u001b[0m\u001b[37m\u001b[0m \u001b[1m0s\u001b[0m 2ms/step - loss: 74.8847 - mae: 6.2144 - val_loss: 85.6307 - val_mae: 7.1518 - learning_rate: 0.0010\n",
      "Epoch 53/300\n",
      "\u001b[1m18/18\u001b[0m \u001b[32m━━━━━━━━━━━━━━━━━━━━\u001b[0m\u001b[37m\u001b[0m \u001b[1m0s\u001b[0m 2ms/step - loss: 70.2381 - mae: 5.9672 - val_loss: 85.5729 - val_mae: 7.1577 - learning_rate: 0.0010\n",
      "Epoch 54/300\n",
      "\u001b[1m18/18\u001b[0m \u001b[32m━━━━━━━━━━━━━━━━━━━━\u001b[0m\u001b[37m\u001b[0m \u001b[1m0s\u001b[0m 2ms/step - loss: 88.5548 - mae: 6.3773 - val_loss: 84.2665 - val_mae: 7.1076 - learning_rate: 0.0010\n",
      "Epoch 55/300\n",
      "\u001b[1m18/18\u001b[0m \u001b[32m━━━━━━━━━━━━━━━━━━━━\u001b[0m\u001b[37m\u001b[0m \u001b[1m0s\u001b[0m 2ms/step - loss: 78.5478 - mae: 6.6504 - val_loss: 84.3451 - val_mae: 7.1265 - learning_rate: 0.0010\n",
      "Epoch 56/300\n",
      "\u001b[1m18/18\u001b[0m \u001b[32m━━━━━━━━━━━━━━━━━━━━\u001b[0m\u001b[37m\u001b[0m \u001b[1m0s\u001b[0m 2ms/step - loss: 83.5502 - mae: 6.8523 - val_loss: 84.4069 - val_mae: 7.1043 - learning_rate: 0.0010\n",
      "Epoch 57/300\n",
      "\u001b[1m18/18\u001b[0m \u001b[32m━━━━━━━━━━━━━━━━━━━━\u001b[0m\u001b[37m\u001b[0m \u001b[1m0s\u001b[0m 2ms/step - loss: 62.8288 - mae: 5.9459 - val_loss: 83.4698 - val_mae: 7.0776 - learning_rate: 0.0010\n",
      "Epoch 58/300\n",
      "\u001b[1m18/18\u001b[0m \u001b[32m━━━━━━━━━━━━━━━━━━━━\u001b[0m\u001b[37m\u001b[0m \u001b[1m0s\u001b[0m 2ms/step - loss: 72.8241 - mae: 6.2531 - val_loss: 84.0618 - val_mae: 7.1041 - learning_rate: 0.0010\n",
      "Epoch 59/300\n",
      "\u001b[1m18/18\u001b[0m \u001b[32m━━━━━━━━━━━━━━━━━━━━\u001b[0m\u001b[37m\u001b[0m \u001b[1m0s\u001b[0m 2ms/step - loss: 75.9971 - mae: 6.5363 - val_loss: 83.8809 - val_mae: 7.1052 - learning_rate: 0.0010\n",
      "Epoch 60/300\n",
      "\u001b[1m18/18\u001b[0m \u001b[32m━━━━━━━━━━━━━━━━━━━━\u001b[0m\u001b[37m\u001b[0m \u001b[1m0s\u001b[0m 2ms/step - loss: 71.0300 - mae: 5.9293 - val_loss: 83.6181 - val_mae: 7.0874 - learning_rate: 0.0010\n",
      "Epoch 61/300\n",
      "\u001b[1m18/18\u001b[0m \u001b[32m━━━━━━━━━━━━━━━━━━━━\u001b[0m\u001b[37m\u001b[0m \u001b[1m0s\u001b[0m 2ms/step - loss: 62.8747 - mae: 5.9026 - val_loss: 83.9206 - val_mae: 7.1160 - learning_rate: 0.0010\n",
      "Epoch 62/300\n",
      "\u001b[1m18/18\u001b[0m \u001b[32m━━━━━━━━━━━━━━━━━━━━\u001b[0m\u001b[37m\u001b[0m \u001b[1m0s\u001b[0m 2ms/step - loss: 68.7708 - mae: 6.0508 - val_loss: 84.2076 - val_mae: 7.1239 - learning_rate: 0.0010\n",
      "Epoch 63/300\n",
      "\u001b[1m18/18\u001b[0m \u001b[32m━━━━━━━━━━━━━━━━━━━━\u001b[0m\u001b[37m\u001b[0m \u001b[1m0s\u001b[0m 2ms/step - loss: 65.6326 - mae: 5.9078 - val_loss: 82.9613 - val_mae: 7.0711 - learning_rate: 0.0010\n",
      "Epoch 64/300\n",
      "\u001b[1m18/18\u001b[0m \u001b[32m━━━━━━━━━━━━━━━━━━━━\u001b[0m\u001b[37m\u001b[0m \u001b[1m0s\u001b[0m 2ms/step - loss: 77.6714 - mae: 6.4873 - val_loss: 82.4698 - val_mae: 7.0627 - learning_rate: 0.0010\n",
      "Epoch 65/300\n",
      "\u001b[1m18/18\u001b[0m \u001b[32m━━━━━━━━━━━━━━━━━━━━\u001b[0m\u001b[37m\u001b[0m \u001b[1m0s\u001b[0m 2ms/step - loss: 67.1109 - mae: 5.8046 - val_loss: 82.5432 - val_mae: 7.0682 - learning_rate: 0.0010\n",
      "Epoch 66/300\n",
      "\u001b[1m18/18\u001b[0m \u001b[32m━━━━━━━━━━━━━━━━━━━━\u001b[0m\u001b[37m\u001b[0m \u001b[1m0s\u001b[0m 2ms/step - loss: 68.0661 - mae: 6.1248 - val_loss: 83.0569 - val_mae: 7.0913 - learning_rate: 0.0010\n",
      "Epoch 67/300\n",
      "\u001b[1m18/18\u001b[0m \u001b[32m━━━━━━━━━━━━━━━━━━━━\u001b[0m\u001b[37m\u001b[0m \u001b[1m0s\u001b[0m 2ms/step - loss: 80.8725 - mae: 6.2793 - val_loss: 82.3437 - val_mae: 7.0838 - learning_rate: 0.0010\n",
      "Epoch 68/300\n",
      "\u001b[1m18/18\u001b[0m \u001b[32m━━━━━━━━━━━━━━━━━━━━\u001b[0m\u001b[37m\u001b[0m \u001b[1m0s\u001b[0m 2ms/step - loss: 69.2356 - mae: 6.3515 - val_loss: 82.2473 - val_mae: 7.0677 - learning_rate: 0.0010\n",
      "Epoch 69/300\n",
      "\u001b[1m18/18\u001b[0m \u001b[32m━━━━━━━━━━━━━━━━━━━━\u001b[0m\u001b[37m\u001b[0m \u001b[1m0s\u001b[0m 2ms/step - loss: 74.3220 - mae: 5.8822 - val_loss: 81.0059 - val_mae: 6.9954 - learning_rate: 0.0010\n",
      "Epoch 70/300\n",
      "\u001b[1m18/18\u001b[0m \u001b[32m━━━━━━━━━━━━━━━━━━━━\u001b[0m\u001b[37m\u001b[0m \u001b[1m0s\u001b[0m 2ms/step - loss: 70.1124 - mae: 6.0168 - val_loss: 81.1997 - val_mae: 7.0238 - learning_rate: 0.0010\n",
      "Epoch 71/300\n",
      "\u001b[1m18/18\u001b[0m \u001b[32m━━━━━━━━━━━━━━━━━━━━\u001b[0m\u001b[37m\u001b[0m \u001b[1m0s\u001b[0m 2ms/step - loss: 81.0857 - mae: 6.3049 - val_loss: 80.8997 - val_mae: 7.0117 - learning_rate: 0.0010\n",
      "Epoch 72/300\n",
      "\u001b[1m18/18\u001b[0m \u001b[32m━━━━━━━━━━━━━━━━━━━━\u001b[0m\u001b[37m\u001b[0m \u001b[1m0s\u001b[0m 2ms/step - loss: 52.4560 - mae: 5.4920 - val_loss: 81.2810 - val_mae: 7.0288 - learning_rate: 0.0010\n",
      "Epoch 73/300\n",
      "\u001b[1m18/18\u001b[0m \u001b[32m━━━━━━━━━━━━━━━━━━━━\u001b[0m\u001b[37m\u001b[0m \u001b[1m0s\u001b[0m 2ms/step - loss: 59.3833 - mae: 5.8141 - val_loss: 81.6015 - val_mae: 7.0709 - learning_rate: 0.0010\n",
      "Epoch 74/300\n",
      "\u001b[1m18/18\u001b[0m \u001b[32m━━━━━━━━━━━━━━━━━━━━\u001b[0m\u001b[37m\u001b[0m \u001b[1m0s\u001b[0m 2ms/step - loss: 57.8489 - mae: 5.7690 - val_loss: 80.4341 - val_mae: 7.0039 - learning_rate: 0.0010\n",
      "Epoch 75/300\n",
      "\u001b[1m18/18\u001b[0m \u001b[32m━━━━━━━━━━━━━━━━━━━━\u001b[0m\u001b[37m\u001b[0m \u001b[1m0s\u001b[0m 2ms/step - loss: 62.4007 - mae: 5.7240 - val_loss: 79.5829 - val_mae: 6.9817 - learning_rate: 0.0010\n",
      "Epoch 76/300\n",
      "\u001b[1m18/18\u001b[0m \u001b[32m━━━━━━━━━━━━━━━━━━━━\u001b[0m\u001b[37m\u001b[0m \u001b[1m0s\u001b[0m 2ms/step - loss: 55.8357 - mae: 5.4450 - val_loss: 79.4718 - val_mae: 7.0052 - learning_rate: 0.0010\n",
      "Epoch 77/300\n",
      "\u001b[1m18/18\u001b[0m \u001b[32m━━━━━━━━━━━━━━━━━━━━\u001b[0m\u001b[37m\u001b[0m \u001b[1m0s\u001b[0m 2ms/step - loss: 57.8861 - mae: 5.7056 - val_loss: 80.3760 - val_mae: 7.0394 - learning_rate: 0.0010\n",
      "Epoch 78/300\n",
      "\u001b[1m18/18\u001b[0m \u001b[32m━━━━━━━━━━━━━━━━━━━━\u001b[0m\u001b[37m\u001b[0m \u001b[1m0s\u001b[0m 2ms/step - loss: 78.0282 - mae: 5.9693 - val_loss: 79.9991 - val_mae: 6.9839 - learning_rate: 0.0010\n",
      "Epoch 79/300\n",
      "\u001b[1m18/18\u001b[0m \u001b[32m━━━━━━━━━━━━━━━━━━━━\u001b[0m\u001b[37m\u001b[0m \u001b[1m0s\u001b[0m 2ms/step - loss: 65.3189 - mae: 5.9806 - val_loss: 79.3708 - val_mae: 6.9906 - learning_rate: 0.0010\n",
      "Epoch 80/300\n",
      "\u001b[1m18/18\u001b[0m \u001b[32m━━━━━━━━━━━━━━━━━━━━\u001b[0m\u001b[37m\u001b[0m \u001b[1m0s\u001b[0m 2ms/step - loss: 64.8441 - mae: 5.8646 - val_loss: 79.0033 - val_mae: 6.9921 - learning_rate: 0.0010\n",
      "Epoch 81/300\n",
      "\u001b[1m18/18\u001b[0m \u001b[32m━━━━━━━━━━━━━━━━━━━━\u001b[0m\u001b[37m\u001b[0m \u001b[1m0s\u001b[0m 2ms/step - loss: 60.9386 - mae: 5.7321 - val_loss: 79.1817 - val_mae: 6.9559 - learning_rate: 0.0010\n",
      "Epoch 82/300\n",
      "\u001b[1m18/18\u001b[0m \u001b[32m━━━━━━━━━━━━━━━━━━━━\u001b[0m\u001b[37m\u001b[0m \u001b[1m0s\u001b[0m 2ms/step - loss: 59.0242 - mae: 5.3505 - val_loss: 78.6086 - val_mae: 6.9559 - learning_rate: 0.0010\n",
      "Epoch 83/300\n",
      "\u001b[1m18/18\u001b[0m \u001b[32m━━━━━━━━━━━━━━━━━━━━\u001b[0m\u001b[37m\u001b[0m \u001b[1m0s\u001b[0m 2ms/step - loss: 69.5195 - mae: 6.0459 - val_loss: 78.8240 - val_mae: 6.9722 - learning_rate: 0.0010\n",
      "Epoch 84/300\n",
      "\u001b[1m18/18\u001b[0m \u001b[32m━━━━━━━━━━━━━━━━━━━━\u001b[0m\u001b[37m\u001b[0m \u001b[1m0s\u001b[0m 2ms/step - loss: 52.5273 - mae: 5.4839 - val_loss: 77.8870 - val_mae: 6.9044 - learning_rate: 0.0010\n",
      "Epoch 85/300\n",
      "\u001b[1m18/18\u001b[0m \u001b[32m━━━━━━━━━━━━━━━━━━━━\u001b[0m\u001b[37m\u001b[0m \u001b[1m0s\u001b[0m 2ms/step - loss: 56.6378 - mae: 5.3253 - val_loss: 77.7434 - val_mae: 6.8938 - learning_rate: 0.0010\n",
      "Epoch 86/300\n",
      "\u001b[1m18/18\u001b[0m \u001b[32m━━━━━━━━━━━━━━━━━━━━\u001b[0m\u001b[37m\u001b[0m \u001b[1m0s\u001b[0m 2ms/step - loss: 54.1971 - mae: 5.4876 - val_loss: 78.0954 - val_mae: 6.9376 - learning_rate: 0.0010\n",
      "Epoch 87/300\n",
      "\u001b[1m18/18\u001b[0m \u001b[32m━━━━━━━━━━━━━━━━━━━━\u001b[0m\u001b[37m\u001b[0m \u001b[1m0s\u001b[0m 2ms/step - loss: 66.2005 - mae: 5.5877 - val_loss: 78.1074 - val_mae: 6.9324 - learning_rate: 0.0010\n",
      "Epoch 88/300\n",
      "\u001b[1m18/18\u001b[0m \u001b[32m━━━━━━━━━━━━━━━━━━━━\u001b[0m\u001b[37m\u001b[0m \u001b[1m0s\u001b[0m 2ms/step - loss: 51.7491 - mae: 5.3379 - val_loss: 77.9399 - val_mae: 6.9164 - learning_rate: 0.0010\n",
      "Epoch 89/300\n",
      "\u001b[1m18/18\u001b[0m \u001b[32m━━━━━━━━━━━━━━━━━━━━\u001b[0m\u001b[37m\u001b[0m \u001b[1m0s\u001b[0m 2ms/step - loss: 50.4989 - mae: 5.3561 - val_loss: 77.6129 - val_mae: 6.9075 - learning_rate: 0.0010\n",
      "Epoch 90/300\n",
      "\u001b[1m18/18\u001b[0m \u001b[32m━━━━━━━━━━━━━━━━━━━━\u001b[0m\u001b[37m\u001b[0m \u001b[1m0s\u001b[0m 2ms/step - loss: 52.8531 - mae: 5.2389 - val_loss: 77.0434 - val_mae: 6.8857 - learning_rate: 0.0010\n",
      "Epoch 91/300\n",
      "\u001b[1m18/18\u001b[0m \u001b[32m━━━━━━━━━━━━━━━━━━━━\u001b[0m\u001b[37m\u001b[0m \u001b[1m0s\u001b[0m 2ms/step - loss: 56.2091 - mae: 5.3781 - val_loss: 77.4237 - val_mae: 6.8793 - learning_rate: 0.0010\n",
      "Epoch 92/300\n",
      "\u001b[1m18/18\u001b[0m \u001b[32m━━━━━━━━━━━━━━━━━━━━\u001b[0m\u001b[37m\u001b[0m \u001b[1m0s\u001b[0m 2ms/step - loss: 51.5562 - mae: 5.2380 - val_loss: 77.1665 - val_mae: 6.8898 - learning_rate: 0.0010\n",
      "Epoch 93/300\n",
      "\u001b[1m18/18\u001b[0m \u001b[32m━━━━━━━━━━━━━━━━━━━━\u001b[0m\u001b[37m\u001b[0m \u001b[1m0s\u001b[0m 2ms/step - loss: 52.8383 - mae: 5.2915 - val_loss: 76.5400 - val_mae: 6.8805 - learning_rate: 0.0010\n",
      "Epoch 94/300\n",
      "\u001b[1m18/18\u001b[0m \u001b[32m━━━━━━━━━━━━━━━━━━━━\u001b[0m\u001b[37m\u001b[0m \u001b[1m0s\u001b[0m 2ms/step - loss: 74.3069 - mae: 5.8090 - val_loss: 76.5696 - val_mae: 6.8646 - learning_rate: 0.0010\n",
      "Epoch 95/300\n",
      "\u001b[1m18/18\u001b[0m \u001b[32m━━━━━━━━━━━━━━━━━━━━\u001b[0m\u001b[37m\u001b[0m \u001b[1m0s\u001b[0m 2ms/step - loss: 45.1593 - mae: 5.1343 - val_loss: 76.6316 - val_mae: 6.8223 - learning_rate: 0.0010\n",
      "Epoch 96/300\n",
      "\u001b[1m18/18\u001b[0m \u001b[32m━━━━━━━━━━━━━━━━━━━━\u001b[0m\u001b[37m\u001b[0m \u001b[1m0s\u001b[0m 2ms/step - loss: 58.3331 - mae: 5.4430 - val_loss: 76.4999 - val_mae: 6.8621 - learning_rate: 0.0010\n",
      "Epoch 97/300\n",
      "\u001b[1m18/18\u001b[0m \u001b[32m━━━━━━━━━━━━━━━━━━━━\u001b[0m\u001b[37m\u001b[0m \u001b[1m0s\u001b[0m 2ms/step - loss: 41.3779 - mae: 4.8513 - val_loss: 75.7441 - val_mae: 6.8101 - learning_rate: 0.0010\n",
      "Epoch 98/300\n",
      "\u001b[1m18/18\u001b[0m \u001b[32m━━━━━━━━━━━━━━━━━━━━\u001b[0m\u001b[37m\u001b[0m \u001b[1m0s\u001b[0m 2ms/step - loss: 41.3701 - mae: 4.9259 - val_loss: 76.3873 - val_mae: 6.8490 - learning_rate: 0.0010\n",
      "Epoch 99/300\n",
      "\u001b[1m18/18\u001b[0m \u001b[32m━━━━━━━━━━━━━━━━━━━━\u001b[0m\u001b[37m\u001b[0m \u001b[1m0s\u001b[0m 2ms/step - loss: 45.7736 - mae: 5.0420 - val_loss: 75.7801 - val_mae: 6.8241 - learning_rate: 0.0010\n",
      "Epoch 100/300\n",
      "\u001b[1m18/18\u001b[0m \u001b[32m━━━━━━━━━━━━━━━━━━━━\u001b[0m\u001b[37m\u001b[0m \u001b[1m0s\u001b[0m 2ms/step - loss: 77.0233 - mae: 5.9992 - val_loss: 75.7094 - val_mae: 6.8093 - learning_rate: 0.0010\n",
      "Epoch 101/300\n",
      "\u001b[1m18/18\u001b[0m \u001b[32m━━━━━━━━━━━━━━━━━━━━\u001b[0m\u001b[37m\u001b[0m \u001b[1m0s\u001b[0m 2ms/step - loss: 62.0744 - mae: 5.4961 - val_loss: 75.5673 - val_mae: 6.8006 - learning_rate: 0.0010\n",
      "Epoch 102/300\n",
      "\u001b[1m18/18\u001b[0m \u001b[32m━━━━━━━━━━━━━━━━━━━━\u001b[0m\u001b[37m\u001b[0m \u001b[1m0s\u001b[0m 2ms/step - loss: 56.0003 - mae: 5.0589 - val_loss: 76.2251 - val_mae: 6.8455 - learning_rate: 0.0010\n",
      "Epoch 103/300\n",
      "\u001b[1m18/18\u001b[0m \u001b[32m━━━━━━━━━━━━━━━━━━━━\u001b[0m\u001b[37m\u001b[0m \u001b[1m0s\u001b[0m 2ms/step - loss: 49.0445 - mae: 4.9812 - val_loss: 75.1126 - val_mae: 6.7885 - learning_rate: 0.0010\n",
      "Epoch 104/300\n",
      "\u001b[1m18/18\u001b[0m \u001b[32m━━━━━━━━━━━━━━━━━━━━\u001b[0m\u001b[37m\u001b[0m \u001b[1m0s\u001b[0m 1ms/step - loss: 43.1461 - mae: 4.9442 - val_loss: 76.9510 - val_mae: 6.8180 - learning_rate: 0.0010\n",
      "Epoch 105/300\n",
      "\u001b[1m18/18\u001b[0m \u001b[32m━━━━━━━━━━━━━━━━━━━━\u001b[0m\u001b[37m\u001b[0m \u001b[1m0s\u001b[0m 2ms/step - loss: 37.1431 - mae: 4.6313 - val_loss: 75.5280 - val_mae: 6.7851 - learning_rate: 0.0010\n",
      "Epoch 106/300\n",
      "\u001b[1m18/18\u001b[0m \u001b[32m━━━━━━━━━━━━━━━━━━━━\u001b[0m\u001b[37m\u001b[0m \u001b[1m0s\u001b[0m 1ms/step - loss: 44.0296 - mae: 4.9575 - val_loss: 76.1947 - val_mae: 6.8024 - learning_rate: 0.0010\n",
      "Epoch 107/300\n",
      "\u001b[1m18/18\u001b[0m \u001b[32m━━━━━━━━━━━━━━━━━━━━\u001b[0m\u001b[37m\u001b[0m \u001b[1m0s\u001b[0m 2ms/step - loss: 45.3949 - mae: 4.9674 - val_loss: 75.8144 - val_mae: 6.8245 - learning_rate: 0.0010\n",
      "Epoch 108/300\n",
      "\u001b[1m18/18\u001b[0m \u001b[32m━━━━━━━━━━━━━━━━━━━━\u001b[0m\u001b[37m\u001b[0m \u001b[1m0s\u001b[0m 2ms/step - loss: 52.8126 - mae: 5.0745 - val_loss: 75.6937 - val_mae: 6.7714 - learning_rate: 0.0010\n",
      "Epoch 109/300\n",
      "\u001b[1m18/18\u001b[0m \u001b[32m━━━━━━━━━━━━━━━━━━━━\u001b[0m\u001b[37m\u001b[0m \u001b[1m0s\u001b[0m 2ms/step - loss: 48.3405 - mae: 5.2002 - val_loss: 76.2057 - val_mae: 6.7872 - learning_rate: 0.0010\n",
      "Epoch 110/300\n",
      "\u001b[1m18/18\u001b[0m \u001b[32m━━━━━━━━━━━━━━━━━━━━\u001b[0m\u001b[37m\u001b[0m \u001b[1m0s\u001b[0m 2ms/step - loss: 43.4296 - mae: 4.9296 - val_loss: 75.4048 - val_mae: 6.7688 - learning_rate: 0.0010\n",
      "Epoch 111/300\n",
      "\u001b[1m18/18\u001b[0m \u001b[32m━━━━━━━━━━━━━━━━━━━━\u001b[0m\u001b[37m\u001b[0m \u001b[1m0s\u001b[0m 2ms/step - loss: 54.4131 - mae: 4.9515 - val_loss: 75.5008 - val_mae: 6.7663 - learning_rate: 0.0010\n",
      "Epoch 112/300\n",
      "\u001b[1m18/18\u001b[0m \u001b[32m━━━━━━━━━━━━━━━━━━━━\u001b[0m\u001b[37m\u001b[0m \u001b[1m0s\u001b[0m 2ms/step - loss: 52.1866 - mae: 5.0290 - val_loss: 75.3680 - val_mae: 6.7722 - learning_rate: 0.0010\n",
      "Epoch 113/300\n",
      "\u001b[1m 1/18\u001b[0m \u001b[32m━\u001b[0m\u001b[37m━━━━━━━━━━━━━━━━━━━\u001b[0m \u001b[1m0s\u001b[0m 8ms/step - loss: 22.7794 - mae: 3.8765\n",
      "Epoch 113: ReduceLROnPlateau reducing learning rate to 0.0005000000237487257.\n",
      "\u001b[1m18/18\u001b[0m \u001b[32m━━━━━━━━━━━━━━━━━━━━\u001b[0m\u001b[37m\u001b[0m \u001b[1m0s\u001b[0m 1ms/step - loss: 54.0714 - mae: 5.0505 - val_loss: 76.0603 - val_mae: 6.7804 - learning_rate: 0.0010\n",
      "Epoch 114/300\n",
      "\u001b[1m18/18\u001b[0m \u001b[32m━━━━━━━━━━━━━━━━━━━━\u001b[0m\u001b[37m\u001b[0m \u001b[1m0s\u001b[0m 2ms/step - loss: 37.5291 - mae: 4.6418 - val_loss: 75.6453 - val_mae: 6.7658 - learning_rate: 5.0000e-04\n",
      "Epoch 115/300\n",
      "\u001b[1m18/18\u001b[0m \u001b[32m━━━━━━━━━━━━━━━━━━━━\u001b[0m\u001b[37m\u001b[0m \u001b[1m0s\u001b[0m 2ms/step - loss: 48.6167 - mae: 4.9444 - val_loss: 75.7667 - val_mae: 6.7785 - learning_rate: 5.0000e-04\n",
      "Epoch 116/300\n",
      "\u001b[1m18/18\u001b[0m \u001b[32m━━━━━━━━━━━━━━━━━━━━\u001b[0m\u001b[37m\u001b[0m \u001b[1m0s\u001b[0m 2ms/step - loss: 37.6128 - mae: 4.5594 - val_loss: 76.2678 - val_mae: 6.7849 - learning_rate: 5.0000e-04\n",
      "Epoch 117/300\n",
      "\u001b[1m18/18\u001b[0m \u001b[32m━━━━━━━━━━━━━━━━━━━━\u001b[0m\u001b[37m\u001b[0m \u001b[1m0s\u001b[0m 2ms/step - loss: 40.0861 - mae: 4.6565 - val_loss: 75.4884 - val_mae: 6.7887 - learning_rate: 5.0000e-04\n",
      "Epoch 118/300\n",
      "\u001b[1m18/18\u001b[0m \u001b[32m━━━━━━━━━━━━━━━━━━━━\u001b[0m\u001b[37m\u001b[0m \u001b[1m0s\u001b[0m 2ms/step - loss: 42.9372 - mae: 4.6884 - val_loss: 76.1283 - val_mae: 6.7878 - learning_rate: 5.0000e-04\n",
      "Epoch 119/300\n",
      "\u001b[1m18/18\u001b[0m \u001b[32m━━━━━━━━━━━━━━━━━━━━\u001b[0m\u001b[37m\u001b[0m \u001b[1m0s\u001b[0m 2ms/step - loss: 37.4007 - mae: 4.7536 - val_loss: 75.7483 - val_mae: 6.7726 - learning_rate: 5.0000e-04\n",
      "Epoch 120/300\n",
      "\u001b[1m18/18\u001b[0m \u001b[32m━━━━━━━━━━━━━━━━━━━━\u001b[0m\u001b[37m\u001b[0m \u001b[1m0s\u001b[0m 1ms/step - loss: 37.3832 - mae: 4.5398 - val_loss: 76.0721 - val_mae: 6.7803 - learning_rate: 5.0000e-04\n",
      "Epoch 121/300\n",
      "\u001b[1m18/18\u001b[0m \u001b[32m━━━━━━━━━━━━━━━━━━━━\u001b[0m\u001b[37m\u001b[0m \u001b[1m0s\u001b[0m 1ms/step - loss: 54.4689 - mae: 4.8524 - val_loss: 76.4107 - val_mae: 6.7861 - learning_rate: 5.0000e-04\n",
      "Epoch 122/300\n",
      "\u001b[1m18/18\u001b[0m \u001b[32m━━━━━━━━━━━━━━━━━━━━\u001b[0m\u001b[37m\u001b[0m \u001b[1m0s\u001b[0m 1ms/step - loss: 45.1822 - mae: 4.6244 - val_loss: 75.7517 - val_mae: 6.7451 - learning_rate: 5.0000e-04\n",
      "Epoch 123/300\n",
      "\u001b[1m 1/18\u001b[0m \u001b[32m━\u001b[0m\u001b[37m━━━━━━━━━━━━━━━━━━━\u001b[0m \u001b[1m0s\u001b[0m 7ms/step - loss: 71.4980 - mae: 6.1300\n",
      "Epoch 123: ReduceLROnPlateau reducing learning rate to 0.0002500000118743628.\n",
      "\u001b[1m18/18\u001b[0m \u001b[32m━━━━━━━━━━━━━━━━━━━━\u001b[0m\u001b[37m\u001b[0m \u001b[1m0s\u001b[0m 2ms/step - loss: 52.0581 - mae: 5.1060 - val_loss: 76.2112 - val_mae: 6.7644 - learning_rate: 5.0000e-04\n"
     ]
    }
   ],
   "source": [
    "history = model.fit(X_train, y_train, epochs=300, validation_data=(X_test, y_test), batch_size=16, verbose=1, callbacks=[early_stopping, reduce_lr])"
   ]
  },
  {
   "cell_type": "code",
   "execution_count": 18,
   "metadata": {},
   "outputs": [
    {
     "name": "stdout",
     "output_type": "stream",
     "text": [
      "\u001b[1m3/3\u001b[0m \u001b[32m━━━━━━━━━━━━━━━━━━━━\u001b[0m\u001b[37m\u001b[0m \u001b[1m0s\u001b[0m 4ms/step - loss: 77.9970 - mae: 6.9666 \n",
      "Test MAE: 6.788480758666992\n"
     ]
    }
   ],
   "source": [
    "loss, mae = model.evaluate(X_test, y_test)\n",
    "print(f'Test MAE: {mae}')"
   ]
  },
  {
   "cell_type": "code",
   "execution_count": 19,
   "metadata": {},
   "outputs": [
    {
     "name": "stdout",
     "output_type": "stream",
     "text": [
      "\u001b[1m3/3\u001b[0m \u001b[32m━━━━━━━━━━━━━━━━━━━━\u001b[0m\u001b[37m\u001b[0m \u001b[1m0s\u001b[0m 8ms/step \n",
      "Test MSE: 75.1126485545205\n",
      "Test R2 Score: 0.29033712197542527\n"
     ]
    }
   ],
   "source": [
    "# Predictions\n",
    "y_pred = model.predict(X_test)\n",
    "\n",
    "# Calculate MSE and R2\n",
    "mse = mean_squared_error(y_test, y_pred)\n",
    "r2 = r2_score(y_test, y_pred)\n",
    "print(f'Test MSE: {mse}')\n",
    "print(f'Test R2 Score: {r2}')"
   ]
  },
  {
   "cell_type": "code",
   "execution_count": 20,
   "metadata": {},
   "outputs": [
    {
     "data": {
      "image/png": "[encoded data removed]",
      "text/plain": [
       "<Figure size 640x480 with 1 Axes>"
      ]
     },
     "metadata": {},
     "output_type": "display_data"
    }
   ],
   "source": [
    "plt.plot(history.history['mae'], label='MAE (train)')\n",
    "plt.plot(history.history['val_mae'], label='MAE (validation)')\n",
    "plt.xlabel('Epochs')\n",
    "plt.ylabel('MAE')\n",
    "plt.legend()\n",
    "plt.show()"
   ]
  },
  {
   "cell_type": "markdown",
   "metadata": {},
   "source": [
    "## Test Batting Average"
   ]
  },
  {
   "cell_type": "code",
   "execution_count": 21,
   "metadata": {},
   "outputs": [
    {
     "data": {
      "text/html": [
       "<div>\n",
       "<style scoped>\n",
       "    .dataframe tbody tr th:only-of-type {\n",
       "        vertical-align: middle;\n",
       "    }\n",
       "\n",
       "    .dataframe tbody tr th {\n",
       "        vertical-align: top;\n",
       "    }\n",
       "\n",
       "    .dataframe thead th {\n",
       "        text-align: right;\n",
       "    }\n",
       "</style>\n",
       "<table border=\"1\" class=\"dataframe\">\n",
       "  <thead>\n",
       "    <tr style=\"text-align: right;\">\n",
       "      <th></th>\n",
       "      <th>Batting Style</th>\n",
       "      <th>Playing Role</th>\n",
       "      <th>Innings_ODI_batting</th>\n",
       "      <th>Innings_T20_batting</th>\n",
       "      <th>NO_ODI</th>\n",
       "      <th>NO_T20</th>\n",
       "      <th>Runs_ODI_batting</th>\n",
       "      <th>Runs_T20_batting</th>\n",
       "      <th>HS_ODI</th>\n",
       "      <th>HS_T20</th>\n",
       "      <th>...</th>\n",
       "      <th>50_T20</th>\n",
       "      <th>0_ODI</th>\n",
       "      <th>0_T20</th>\n",
       "      <th>ODI_Matches</th>\n",
       "      <th>T20_Matches</th>\n",
       "      <th>Country</th>\n",
       "      <th>SpanStart_ODI</th>\n",
       "      <th>SpanStart_T20</th>\n",
       "      <th>AgeStart_ODI</th>\n",
       "      <th>AgeStart_T20</th>\n",
       "    </tr>\n",
       "  </thead>\n",
       "  <tbody>\n",
       "    <tr>\n",
       "      <th>0</th>\n",
       "      <td>1</td>\n",
       "      <td>0</td>\n",
       "      <td>10</td>\n",
       "      <td>1</td>\n",
       "      <td>0</td>\n",
       "      <td>1</td>\n",
       "      <td>288</td>\n",
       "      <td>6</td>\n",
       "      <td>66</td>\n",
       "      <td>6</td>\n",
       "      <td>...</td>\n",
       "      <td>0</td>\n",
       "      <td>0</td>\n",
       "      <td>0</td>\n",
       "      <td>10</td>\n",
       "      <td>1</td>\n",
       "      <td>4</td>\n",
       "      <td>2023</td>\n",
       "      <td>2024</td>\n",
       "      <td>24.643836</td>\n",
       "      <td>25.643836</td>\n",
       "    </tr>\n",
       "    <tr>\n",
       "      <th>1</th>\n",
       "      <td>0</td>\n",
       "      <td>0</td>\n",
       "      <td>102</td>\n",
       "      <td>106</td>\n",
       "      <td>8</td>\n",
       "      <td>4</td>\n",
       "      <td>3008</td>\n",
       "      <td>2392</td>\n",
       "      <td>145</td>\n",
       "      <td>83</td>\n",
       "      <td>...</td>\n",
       "      <td>12</td>\n",
       "      <td>7</td>\n",
       "      <td>6</td>\n",
       "      <td>108</td>\n",
       "      <td>110</td>\n",
       "      <td>5</td>\n",
       "      <td>2010</td>\n",
       "      <td>2015</td>\n",
       "      <td>19.586301</td>\n",
       "      <td>24.586301</td>\n",
       "    </tr>\n",
       "    <tr>\n",
       "      <th>2</th>\n",
       "      <td>1</td>\n",
       "      <td>1</td>\n",
       "      <td>30</td>\n",
       "      <td>16</td>\n",
       "      <td>6</td>\n",
       "      <td>8</td>\n",
       "      <td>291</td>\n",
       "      <td>65</td>\n",
       "      <td>50</td>\n",
       "      <td>11</td>\n",
       "      <td>...</td>\n",
       "      <td>0</td>\n",
       "      <td>3</td>\n",
       "      <td>2</td>\n",
       "      <td>40</td>\n",
       "      <td>33</td>\n",
       "      <td>11</td>\n",
       "      <td>2012</td>\n",
       "      <td>2012</td>\n",
       "      <td>18.819178</td>\n",
       "      <td>18.819178</td>\n",
       "    </tr>\n",
       "    <tr>\n",
       "      <th>3</th>\n",
       "      <td>0</td>\n",
       "      <td>1</td>\n",
       "      <td>161</td>\n",
       "      <td>11</td>\n",
       "      <td>33</td>\n",
       "      <td>4</td>\n",
       "      <td>5088</td>\n",
       "      <td>337</td>\n",
       "      <td>156</td>\n",
       "      <td>85</td>\n",
       "      <td>...</td>\n",
       "      <td>2</td>\n",
       "      <td>15</td>\n",
       "      <td>2</td>\n",
       "      <td>198</td>\n",
       "      <td>14</td>\n",
       "      <td>9</td>\n",
       "      <td>1998</td>\n",
       "      <td>2005</td>\n",
       "      <td>23.080000</td>\n",
       "      <td>30.080000</td>\n",
       "    </tr>\n",
       "    <tr>\n",
       "      <th>4</th>\n",
       "      <td>0</td>\n",
       "      <td>0</td>\n",
       "      <td>14</td>\n",
       "      <td>2</td>\n",
       "      <td>1</td>\n",
       "      <td>0</td>\n",
       "      <td>394</td>\n",
       "      <td>23</td>\n",
       "      <td>113</td>\n",
       "      <td>15</td>\n",
       "      <td>...</td>\n",
       "      <td>0</td>\n",
       "      <td>2</td>\n",
       "      <td>0</td>\n",
       "      <td>14</td>\n",
       "      <td>2</td>\n",
       "      <td>4</td>\n",
       "      <td>2010</td>\n",
       "      <td>2010</td>\n",
       "      <td>20.290411</td>\n",
       "      <td>20.290411</td>\n",
       "    </tr>\n",
       "  </tbody>\n",
       "</table>\n",
       "<p>5 rows × 30 columns</p>\n",
       "</div>"
      ],
      "text/plain": [
       "   Batting Style  Playing Role  Innings_ODI_batting  Innings_T20_batting  \\\n",
       "0              1             0                   10                    1   \n",
       "1              0             0                  102                  106   \n",
       "2              1             1                   30                   16   \n",
       "3              0             1                  161                   11   \n",
       "4              0             0                   14                    2   \n",
       "\n",
       "   NO_ODI  NO_T20  Runs_ODI_batting  Runs_T20_batting  HS_ODI  HS_T20  ...  \\\n",
       "0       0       1               288                 6      66       6  ...   \n",
       "1       8       4              3008              2392     145      83  ...   \n",
       "2       6       8               291                65      50      11  ...   \n",
       "3      33       4              5088               337     156      85  ...   \n",
       "4       1       0               394                23     113      15  ...   \n",
       "\n",
       "   50_T20  0_ODI  0_T20  ODI_Matches  T20_Matches  Country  SpanStart_ODI  \\\n",
       "0       0      0      0           10            1        4           2023   \n",
       "1      12      7      6          108          110        5           2010   \n",
       "2       0      3      2           40           33       11           2012   \n",
       "3       2     15      2          198           14        9           1998   \n",
       "4       0      2      0           14            2        4           2010   \n",
       "\n",
       "   SpanStart_T20  AgeStart_ODI  AgeStart_T20  \n",
       "0           2024     24.643836     25.643836  \n",
       "1           2015     19.586301     24.586301  \n",
       "2           2012     18.819178     18.819178  \n",
       "3           2005     23.080000     30.080000  \n",
       "4           2010     20.290411     20.290411  \n",
       "\n",
       "[5 rows x 30 columns]"
      ]
     },
     "execution_count": 21,
     "metadata": {},
     "output_type": "execute_result"
    }
   ],
   "source": [
    "df = pd.read_csv('Data/Final/test_bat_processed_data.csv')\n",
    "df.head()"
   ]
  },
  {
   "cell_type": "code",
   "execution_count": 22,
   "metadata": {},
   "outputs": [],
   "source": [
    "X = df.drop('Ave_Test_batting', axis = 1)"
   ]
  },
  {
   "cell_type": "code",
   "execution_count": 23,
   "metadata": {},
   "outputs": [],
   "source": [
    "y = df['Ave_Test_batting']"
   ]
  },
  {
   "cell_type": "markdown",
   "metadata": {},
   "source": [
    "##### Dropping with correlation"
   ]
  },
  {
   "cell_type": "code",
   "execution_count": 24,
   "metadata": {},
   "outputs": [
    {
     "data": {
      "image/png": "[encoded data removed]",
      "text/plain": [
       "<Figure size 640x480 with 2 Axes>"
      ]
     },
     "metadata": {},
     "output_type": "display_data"
    }
   ],
   "source": [
    "cor = X.corr()\n",
    "sns.heatmap(cor, annot = False, cmap = plt.cm.CMRmap_r)\n",
    "plt.show()"
   ]
  },
  {
   "cell_type": "code",
   "execution_count": 25,
   "metadata": {},
   "outputs": [],
   "source": [
    "# Select upper triangle of correlation matrix\n",
    "upper = cor.where(np.triu(np.ones(cor.shape), k=1).astype(bool))"
   ]
  },
  {
   "cell_type": "code",
   "execution_count": 26,
   "metadata": {},
   "outputs": [],
   "source": [
    "# Find features with correlation greater than 0.8\n",
    "highly_correlated = [column for column in upper.columns if any(upper[column] > 0.8)]"
   ]
  },
  {
   "cell_type": "code",
   "execution_count": 27,
   "metadata": {},
   "outputs": [
    {
     "data": {
      "text/plain": [
       "['Runs_ODI_batting',\n",
       " 'Runs_T20_batting',\n",
       " 'BF_ODI',\n",
       " 'BF_T20',\n",
       " '100_ODI',\n",
       " '50_ODI',\n",
       " '50_T20',\n",
       " '0_ODI',\n",
       " 'ODI_Matches',\n",
       " 'T20_Matches',\n",
       " 'SpanStart_T20']"
      ]
     },
     "execution_count": 27,
     "metadata": {},
     "output_type": "execute_result"
    }
   ],
   "source": [
    "highly_correlated"
   ]
  },
  {
   "cell_type": "code",
   "execution_count": 28,
   "metadata": {},
   "outputs": [],
   "source": [
    "# Drop highly correlated features\n",
    "X = X.drop(columns=highly_correlated)"
   ]
  },
  {
   "cell_type": "code",
   "execution_count": 29,
   "metadata": {},
   "outputs": [],
   "source": [
    "X_train, X_test, y_train, y_test = train_test_split(X, y, test_size=0.2, random_state=42)"
   ]
  },
  {
   "cell_type": "code",
   "execution_count": 30,
   "metadata": {},
   "outputs": [],
   "source": [
    "scaler = StandardScaler()\n",
    "X_train = scaler.fit_transform(X_train)\n",
    "X_test = scaler.transform(X_test)"
   ]
  },
  {
   "cell_type": "code",
   "execution_count": 31,
   "metadata": {},
   "outputs": [
    {
     "name": "stderr",
     "output_type": "stream",
     "text": [
      "/Users/henil08/College/Projects/Cricket-all-format/.venv/lib/python3.12/site-packages/keras/src/layers/core/dense.py:87: UserWarning: Do not pass an `input_shape`/`input_dim` argument to a layer. When using Sequential models, prefer using an `Input(shape)` object as the first layer in the model instead.\n",
      "  super().__init__(activity_regularizer=activity_regularizer, **kwargs)\n"
     ]
    }
   ],
   "source": [
    "model = keras.Sequential([\n",
    "    keras.layers.Dense(64, activation='relu', input_shape=(X_train.shape[1],)),\n",
    "    keras.layers.Dense(32, activation='relu'),\n",
    "    keras.layers.Dense(1)  # Regression output\n",
    "])"
   ]
  },
  {
   "cell_type": "code",
   "execution_count": 32,
   "metadata": {},
   "outputs": [],
   "source": [
    "model.compile(optimizer='adam', loss='mse', metrics=['mae'])"
   ]
  },
  {
   "cell_type": "code",
   "execution_count": 33,
   "metadata": {},
   "outputs": [],
   "source": [
    "early_stopping = keras.callbacks.EarlyStopping(monitor='val_loss', patience=20, restore_best_weights=True)\n",
    "reduce_lr = keras.callbacks.ReduceLROnPlateau(monitor='val_loss', factor=0.5, patience=10, verbose=1)"
   ]
  },
  {
   "cell_type": "code",
   "execution_count": 34,
   "metadata": {},
   "outputs": [
    {
     "name": "stdout",
     "output_type": "stream",
     "text": [
      "Epoch 1/300\n",
      "\u001b[1m18/18\u001b[0m \u001b[32m━━━━━━━━━━━━━━━━━━━━\u001b[0m\u001b[37m\u001b[0m \u001b[1m0s\u001b[0m 5ms/step - loss: 893.3801 - mae: 27.0808 - val_loss: 898.9056 - val_mae: 27.2800 - learning_rate: 0.0010\n",
      "Epoch 2/300\n",
      "\u001b[1m18/18\u001b[0m \u001b[32m━━━━━━━━━━━━━━━━━━━━\u001b[0m\u001b[37m\u001b[0m \u001b[1m0s\u001b[0m 2ms/step - loss: 894.7620 - mae: 26.4908 - val_loss: 806.5989 - val_mae: 25.6609 - learning_rate: 0.0010\n",
      "Epoch 3/300\n",
      "\u001b[1m18/18\u001b[0m \u001b[32m━━━━━━━━━━━━━━━━━━━━\u001b[0m\u001b[37m\u001b[0m \u001b[1m0s\u001b[0m 2ms/step - loss: 795.2912 - mae: 24.7803 - val_loss: 688.5441 - val_mae: 23.5275 - learning_rate: 0.0010\n",
      "Epoch 4/300\n",
      "\u001b[1m18/18\u001b[0m \u001b[32m━━━━━━━━━━━━━━━━━━━━\u001b[0m\u001b[37m\u001b[0m \u001b[1m0s\u001b[0m 2ms/step - loss: 601.5195 - mae: 21.7732 - val_loss: 543.9294 - val_mae: 20.6428 - learning_rate: 0.0010\n",
      "Epoch 5/300\n",
      "\u001b[1m18/18\u001b[0m \u001b[32m━━━━━━━━━━━━━━━━━━━━\u001b[0m\u001b[37m\u001b[0m \u001b[1m0s\u001b[0m 2ms/step - loss: 567.3525 - mae: 20.0721 - val_loss: 393.0264 - val_mae: 17.2230 - learning_rate: 0.0010\n",
      "Epoch 6/300\n",
      "\u001b[1m18/18\u001b[0m \u001b[32m━━━━━━━━━━━━━━━━━━━━\u001b[0m\u001b[37m\u001b[0m \u001b[1m0s\u001b[0m 2ms/step - loss: 383.9821 - mae: 15.4110 - val_loss: 279.0078 - val_mae: 14.0381 - learning_rate: 0.0010\n",
      "Epoch 7/300\n",
      "\u001b[1m18/18\u001b[0m \u001b[32m━━━━━━━━━━━━━━━━━━━━\u001b[0m\u001b[37m\u001b[0m \u001b[1m0s\u001b[0m 2ms/step - loss: 240.3652 - mae: 12.8051 - val_loss: 209.7968 - val_mae: 11.6804 - learning_rate: 0.0010\n",
      "Epoch 8/300\n",
      "\u001b[1m18/18\u001b[0m \u001b[32m━━━━━━━━━━━━━━━━━━━━\u001b[0m\u001b[37m\u001b[0m \u001b[1m0s\u001b[0m 2ms/step - loss: 231.3201 - mae: 11.2595 - val_loss: 176.9530 - val_mae: 10.3601 - learning_rate: 0.0010\n",
      "Epoch 9/300\n",
      "\u001b[1m18/18\u001b[0m \u001b[32m━━━━━━━━━━━━━━━━━━━━\u001b[0m\u001b[37m\u001b[0m \u001b[1m0s\u001b[0m 2ms/step - loss: 172.5337 - mae: 10.1977 - val_loss: 162.3003 - val_mae: 9.6981 - learning_rate: 0.0010\n",
      "Epoch 10/300\n",
      "\u001b[1m18/18\u001b[0m \u001b[32m━━━━━━━━━━━━━━━━━━━━\u001b[0m\u001b[37m\u001b[0m \u001b[1m0s\u001b[0m 2ms/step - loss: 147.2022 - mae: 9.2974 - val_loss: 153.6167 - val_mae: 9.4103 - learning_rate: 0.0010\n",
      "Epoch 11/300\n",
      "\u001b[1m18/18\u001b[0m \u001b[32m━━━━━━━━━━━━━━━━━━━━\u001b[0m\u001b[37m\u001b[0m \u001b[1m0s\u001b[0m 2ms/step - loss: 134.6622 - mae: 8.9232 - val_loss: 148.6467 - val_mae: 9.2673 - learning_rate: 0.0010\n",
      "Epoch 12/300\n",
      "\u001b[1m18/18\u001b[0m \u001b[32m━━━━━━━━━━━━━━━━━━━━\u001b[0m\u001b[37m\u001b[0m \u001b[1m0s\u001b[0m 2ms/step - loss: 129.5912 - mae: 8.6439 - val_loss: 145.7948 - val_mae: 9.1146 - learning_rate: 0.0010\n",
      "Epoch 13/300\n",
      "\u001b[1m18/18\u001b[0m \u001b[32m━━━━━━━━━━━━━━━━━━━━\u001b[0m\u001b[37m\u001b[0m \u001b[1m0s\u001b[0m 2ms/step - loss: 105.7229 - mae: 7.8144 - val_loss: 144.6472 - val_mae: 9.1055 - learning_rate: 0.0010\n",
      "Epoch 14/300\n",
      "\u001b[1m18/18\u001b[0m \u001b[32m━━━━━━━━━━━━━━━━━━━━\u001b[0m\u001b[37m\u001b[0m \u001b[1m0s\u001b[0m 2ms/step - loss: 128.6911 - mae: 8.1818 - val_loss: 144.1282 - val_mae: 9.0742 - learning_rate: 0.0010\n",
      "Epoch 15/300\n",
      "\u001b[1m18/18\u001b[0m \u001b[32m━━━━━━━━━━━━━━━━━━━━\u001b[0m\u001b[37m\u001b[0m \u001b[1m0s\u001b[0m 2ms/step - loss: 108.7926 - mae: 8.2504 - val_loss: 142.1400 - val_mae: 9.0360 - learning_rate: 0.0010\n",
      "Epoch 16/300\n",
      "\u001b[1m18/18\u001b[0m \u001b[32m━━━━━━━━━━━━━━━━━━━━\u001b[0m\u001b[37m\u001b[0m \u001b[1m0s\u001b[0m 2ms/step - loss: 166.5256 - mae: 8.8142 - val_loss: 141.4719 - val_mae: 8.9725 - learning_rate: 0.0010\n",
      "Epoch 17/300\n",
      "\u001b[1m18/18\u001b[0m \u001b[32m━━━━━━━━━━━━━━━━━━━━\u001b[0m\u001b[37m\u001b[0m \u001b[1m0s\u001b[0m 2ms/step - loss: 119.9997 - mae: 8.3725 - val_loss: 141.2170 - val_mae: 8.9779 - learning_rate: 0.0010\n",
      "Epoch 18/300\n",
      "\u001b[1m18/18\u001b[0m \u001b[32m━━━━━━━━━━━━━━━━━━━━\u001b[0m\u001b[37m\u001b[0m \u001b[1m0s\u001b[0m 2ms/step - loss: 131.9488 - mae: 8.7108 - val_loss: 140.2408 - val_mae: 8.9257 - learning_rate: 0.0010\n",
      "Epoch 19/300\n",
      "\u001b[1m18/18\u001b[0m \u001b[32m━━━━━━━━━━━━━━━━━━━━\u001b[0m\u001b[37m\u001b[0m \u001b[1m0s\u001b[0m 2ms/step - loss: 108.8859 - mae: 8.1285 - val_loss: 139.8093 - val_mae: 8.9353 - learning_rate: 0.0010\n",
      "Epoch 20/300\n",
      "\u001b[1m18/18\u001b[0m \u001b[32m━━━━━━━━━━━━━━━━━━━━\u001b[0m\u001b[37m\u001b[0m \u001b[1m0s\u001b[0m 2ms/step - loss: 119.1861 - mae: 8.2394 - val_loss: 139.3893 - val_mae: 8.9414 - learning_rate: 0.0010\n",
      "Epoch 21/300\n",
      "\u001b[1m18/18\u001b[0m \u001b[32m━━━━━━━━━━━━━━━━━━━━\u001b[0m\u001b[37m\u001b[0m \u001b[1m0s\u001b[0m 2ms/step - loss: 136.4605 - mae: 8.2650 - val_loss: 139.5815 - val_mae: 8.9729 - learning_rate: 0.0010\n",
      "Epoch 22/300\n",
      "\u001b[1m18/18\u001b[0m \u001b[32m━━━━━━━━━━━━━━━━━━━━\u001b[0m\u001b[37m\u001b[0m \u001b[1m0s\u001b[0m 2ms/step - loss: 106.1175 - mae: 7.9558 - val_loss: 138.8657 - val_mae: 8.9329 - learning_rate: 0.0010\n",
      "Epoch 23/300\n",
      "\u001b[1m18/18\u001b[0m \u001b[32m━━━━━━━━━━━━━━━━━━━━\u001b[0m\u001b[37m\u001b[0m \u001b[1m0s\u001b[0m 2ms/step - loss: 128.7423 - mae: 8.3491 - val_loss: 138.9703 - val_mae: 8.9272 - learning_rate: 0.0010\n",
      "Epoch 24/300\n",
      "\u001b[1m18/18\u001b[0m \u001b[32m━━━━━━━━━━━━━━━━━━━━\u001b[0m\u001b[37m\u001b[0m \u001b[1m0s\u001b[0m 2ms/step - loss: 101.7914 - mae: 8.0807 - val_loss: 138.3126 - val_mae: 8.9599 - learning_rate: 0.0010\n",
      "Epoch 25/300\n",
      "\u001b[1m18/18\u001b[0m \u001b[32m━━━━━━━━━━━━━━━━━━━━\u001b[0m\u001b[37m\u001b[0m \u001b[1m0s\u001b[0m 2ms/step - loss: 114.7515 - mae: 8.2025 - val_loss: 138.3851 - val_mae: 8.9685 - learning_rate: 0.0010\n",
      "Epoch 26/300\n",
      "\u001b[1m18/18\u001b[0m \u001b[32m━━━━━━━━━━━━━━━━━━━━\u001b[0m\u001b[37m\u001b[0m \u001b[1m0s\u001b[0m 2ms/step - loss: 123.1647 - mae: 8.0416 - val_loss: 139.6186 - val_mae: 9.0252 - learning_rate: 0.0010\n",
      "Epoch 27/300\n",
      "\u001b[1m18/18\u001b[0m \u001b[32m━━━━━━━━━━━━━━━━━━━━\u001b[0m\u001b[37m\u001b[0m \u001b[1m0s\u001b[0m 2ms/step - loss: 106.8982 - mae: 7.7599 - val_loss: 138.6126 - val_mae: 9.0079 - learning_rate: 0.0010\n",
      "Epoch 28/300\n",
      "\u001b[1m18/18\u001b[0m \u001b[32m━━━━━━━━━━━━━━━━━━━━\u001b[0m\u001b[37m\u001b[0m \u001b[1m0s\u001b[0m 2ms/step - loss: 107.3679 - mae: 7.9532 - val_loss: 138.5938 - val_mae: 9.0077 - learning_rate: 0.0010\n",
      "Epoch 29/300\n",
      "\u001b[1m18/18\u001b[0m \u001b[32m━━━━━━━━━━━━━━━━━━━━\u001b[0m\u001b[37m\u001b[0m \u001b[1m0s\u001b[0m 2ms/step - loss: 119.4294 - mae: 7.7590 - val_loss: 139.6306 - val_mae: 9.0707 - learning_rate: 0.0010\n",
      "Epoch 30/300\n",
      "\u001b[1m18/18\u001b[0m \u001b[32m━━━━━━━━━━━━━━━━━━━━\u001b[0m\u001b[37m\u001b[0m \u001b[1m0s\u001b[0m 2ms/step - loss: 110.5008 - mae: 7.8058 - val_loss: 139.7988 - val_mae: 8.9726 - learning_rate: 0.0010\n",
      "Epoch 31/300\n",
      "\u001b[1m18/18\u001b[0m \u001b[32m━━━━━━━━━━━━━━━━━━━━\u001b[0m\u001b[37m\u001b[0m \u001b[1m0s\u001b[0m 2ms/step - loss: 103.2786 - mae: 7.7523 - val_loss: 139.4368 - val_mae: 9.0350 - learning_rate: 0.0010\n",
      "Epoch 32/300\n",
      "\u001b[1m18/18\u001b[0m \u001b[32m━━━━━━━━━━━━━━━━━━━━\u001b[0m\u001b[37m\u001b[0m \u001b[1m0s\u001b[0m 2ms/step - loss: 105.4391 - mae: 7.7943 - val_loss: 140.7703 - val_mae: 9.1032 - learning_rate: 0.0010\n",
      "Epoch 33/300\n",
      "\u001b[1m18/18\u001b[0m \u001b[32m━━━━━━━━━━━━━━━━━━━━\u001b[0m\u001b[37m\u001b[0m \u001b[1m0s\u001b[0m 2ms/step - loss: 105.4756 - mae: 8.0704 - val_loss: 140.2991 - val_mae: 9.0808 - learning_rate: 0.0010\n",
      "Epoch 34/300\n",
      "\u001b[1m 1/18\u001b[0m \u001b[32m━\u001b[0m\u001b[37m━━━━━━━━━━━━━━━━━━━\u001b[0m \u001b[1m0s\u001b[0m 7ms/step - loss: 263.4423 - mae: 7.9337\n",
      "Epoch 34: ReduceLROnPlateau reducing learning rate to 0.0005000000237487257.\n",
      "\u001b[1m18/18\u001b[0m \u001b[32m━━━━━━━━━━━━━━━━━━━━\u001b[0m\u001b[37m\u001b[0m \u001b[1m0s\u001b[0m 2ms/step - loss: 121.0785 - mae: 7.4713 - val_loss: 139.2297 - val_mae: 9.0405 - learning_rate: 0.0010\n",
      "Epoch 35/300\n",
      "\u001b[1m18/18\u001b[0m \u001b[32m━━━━━━━━━━━━━━━━━━━━\u001b[0m\u001b[37m\u001b[0m \u001b[1m0s\u001b[0m 2ms/step - loss: 94.6458 - mae: 7.4553 - val_loss: 139.0131 - val_mae: 9.0311 - learning_rate: 5.0000e-04\n",
      "Epoch 36/300\n",
      "\u001b[1m18/18\u001b[0m \u001b[32m━━━━━━━━━━━━━━━━━━━━\u001b[0m\u001b[37m\u001b[0m \u001b[1m0s\u001b[0m 2ms/step - loss: 113.0071 - mae: 7.9646 - val_loss: 139.7881 - val_mae: 9.0563 - learning_rate: 5.0000e-04\n",
      "Epoch 37/300\n",
      "\u001b[1m18/18\u001b[0m \u001b[32m━━━━━━━━━━━━━━━━━━━━\u001b[0m\u001b[37m\u001b[0m \u001b[1m0s\u001b[0m 2ms/step - loss: 110.4814 - mae: 7.9073 - val_loss: 140.2582 - val_mae: 9.0949 - learning_rate: 5.0000e-04\n",
      "Epoch 38/300\n",
      "\u001b[1m18/18\u001b[0m \u001b[32m━━━━━━━━━━━━━━━━━━━━\u001b[0m\u001b[37m\u001b[0m \u001b[1m0s\u001b[0m 2ms/step - loss: 82.2726 - mae: 7.0306 - val_loss: 139.6238 - val_mae: 9.0493 - learning_rate: 5.0000e-04\n",
      "Epoch 39/300\n",
      "\u001b[1m18/18\u001b[0m \u001b[32m━━━━━━━━━━━━━━━━━━━━\u001b[0m\u001b[37m\u001b[0m \u001b[1m0s\u001b[0m 2ms/step - loss: 98.4664 - mae: 7.5613 - val_loss: 140.9317 - val_mae: 9.1032 - learning_rate: 5.0000e-04\n",
      "Epoch 40/300\n",
      "\u001b[1m18/18\u001b[0m \u001b[32m━━━━━━━━━━━━━━━━━━━━\u001b[0m\u001b[37m\u001b[0m \u001b[1m0s\u001b[0m 2ms/step - loss: 103.3016 - mae: 7.9469 - val_loss: 140.1746 - val_mae: 9.0666 - learning_rate: 5.0000e-04\n",
      "Epoch 41/300\n",
      "\u001b[1m18/18\u001b[0m \u001b[32m━━━━━━━━━━━━━━━━━━━━\u001b[0m\u001b[37m\u001b[0m \u001b[1m0s\u001b[0m 2ms/step - loss: 105.4412 - mae: 7.5768 - val_loss: 140.5974 - val_mae: 9.0856 - learning_rate: 5.0000e-04\n",
      "Epoch 42/300\n",
      "\u001b[1m18/18\u001b[0m \u001b[32m━━━━━━━━━━━━━━━━━━━━\u001b[0m\u001b[37m\u001b[0m \u001b[1m0s\u001b[0m 2ms/step - loss: 101.3503 - mae: 7.5987 - val_loss: 140.0631 - val_mae: 9.0720 - learning_rate: 5.0000e-04\n",
      "Epoch 43/300\n",
      "\u001b[1m18/18\u001b[0m \u001b[32m━━━━━━━━━━━━━━━━━━━━\u001b[0m\u001b[37m\u001b[0m \u001b[1m0s\u001b[0m 2ms/step - loss: 93.6808 - mae: 7.5421 - val_loss: 140.3613 - val_mae: 9.0902 - learning_rate: 5.0000e-04\n",
      "Epoch 44/300\n",
      "\u001b[1m 1/18\u001b[0m \u001b[32m━\u001b[0m\u001b[37m━━━━━━━━━━━━━━━━━━━\u001b[0m \u001b[1m0s\u001b[0m 7ms/step - loss: 146.6746 - mae: 9.6704\n",
      "Epoch 44: ReduceLROnPlateau reducing learning rate to 0.0002500000118743628.\n",
      "\u001b[1m18/18\u001b[0m \u001b[32m━━━━━━━━━━━━━━━━━━━━\u001b[0m\u001b[37m\u001b[0m \u001b[1m0s\u001b[0m 2ms/step - loss: 114.9722 - mae: 7.9227 - val_loss: 140.8506 - val_mae: 9.1096 - learning_rate: 5.0000e-04\n"
     ]
    }
   ],
   "source": [
    "history = model.fit(X_train, y_train, epochs=300, validation_data=(X_test, y_test), batch_size=16, verbose=1, callbacks=[early_stopping, reduce_lr])"
   ]
  },
  {
   "cell_type": "code",
   "execution_count": 35,
   "metadata": {},
   "outputs": [
    {
     "name": "stdout",
     "output_type": "stream",
     "text": [
      "\u001b[1m3/3\u001b[0m \u001b[32m━━━━━━━━━━━━━━━━━━━━\u001b[0m\u001b[37m\u001b[0m \u001b[1m0s\u001b[0m 4ms/step - loss: 140.8701 - mae: 8.8376\n",
      "Test MAE: 8.959860801696777\n"
     ]
    }
   ],
   "source": [
    "loss, mae = model.evaluate(X_test, y_test)\n",
    "print(f'Test MAE: {mae}')"
   ]
  },
  {
   "cell_type": "code",
   "execution_count": 36,
   "metadata": {},
   "outputs": [
    {
     "name": "stdout",
     "output_type": "stream",
     "text": [
      "\u001b[1m3/3\u001b[0m \u001b[32m━━━━━━━━━━━━━━━━━━━━\u001b[0m\u001b[37m\u001b[0m \u001b[1m0s\u001b[0m 8ms/step \n",
      "Test MSE: 138.3126035483981\n",
      "Test R2 Score: 0.129266023588545\n"
     ]
    }
   ],
   "source": [
    "# Predictions\n",
    "y_pred = model.predict(X_test)\n",
    "\n",
    "# Calculate MSE and R2\n",
    "mse = mean_squared_error(y_test, y_pred)\n",
    "r2 = r2_score(y_test, y_pred)\n",
    "print(f'Test MSE: {mse}')\n",
    "print(f'Test R2 Score: {r2}')"
   ]
  },
  {
   "cell_type": "code",
   "execution_count": 37,
   "metadata": {},
   "outputs": [
    {
     "data": {
      "image/png": "[encoded data removed]",
      "text/plain": [
       "<Figure size 640x480 with 1 Axes>"
      ]
     },
     "metadata": {},
     "output_type": "display_data"
    }
   ],
   "source": [
    "plt.plot(history.history['mae'], label='MAE (train)')\n",
    "plt.plot(history.history['val_mae'], label='MAE (validation)')\n",
    "plt.xlabel('Epochs')\n",
    "plt.ylabel('MAE')\n",
    "plt.legend()\n",
    "plt.show()"
   ]
  },
  {
   "cell_type": "markdown",
   "metadata": {},
   "source": [
    "## T20 Batting Average"
   ]
  },
  {
   "cell_type": "code",
   "execution_count": 38,
   "metadata": {},
   "outputs": [
    {
     "data": {
      "text/html": [
       "<div>\n",
       "<style scoped>\n",
       "    .dataframe tbody tr th:only-of-type {\n",
       "        vertical-align: middle;\n",
       "    }\n",
       "\n",
       "    .dataframe tbody tr th {\n",
       "        vertical-align: top;\n",
       "    }\n",
       "\n",
       "    .dataframe thead th {\n",
       "        text-align: right;\n",
       "    }\n",
       "</style>\n",
       "<table border=\"1\" class=\"dataframe\">\n",
       "  <thead>\n",
       "    <tr style=\"text-align: right;\">\n",
       "      <th></th>\n",
       "      <th>Batting Style</th>\n",
       "      <th>Playing Role</th>\n",
       "      <th>Innings_ODI_batting</th>\n",
       "      <th>Innings_Test_batting</th>\n",
       "      <th>NO_ODI</th>\n",
       "      <th>NO_Test</th>\n",
       "      <th>Runs_ODI_batting</th>\n",
       "      <th>Runs_Test_batting</th>\n",
       "      <th>HS_ODI</th>\n",
       "      <th>HS_Test</th>\n",
       "      <th>...</th>\n",
       "      <th>50_Test</th>\n",
       "      <th>0_ODI</th>\n",
       "      <th>0_Test</th>\n",
       "      <th>ODI_Matches</th>\n",
       "      <th>Test_Matches</th>\n",
       "      <th>Country</th>\n",
       "      <th>SpanStart_ODI</th>\n",
       "      <th>SpanStart_Test</th>\n",
       "      <th>AgeStart_ODI</th>\n",
       "      <th>AgeStart_Test</th>\n",
       "    </tr>\n",
       "  </thead>\n",
       "  <tbody>\n",
       "    <tr>\n",
       "      <th>0</th>\n",
       "      <td>0</td>\n",
       "      <td>1</td>\n",
       "      <td>10</td>\n",
       "      <td>13</td>\n",
       "      <td>0</td>\n",
       "      <td>0</td>\n",
       "      <td>288</td>\n",
       "      <td>310</td>\n",
       "      <td>66</td>\n",
       "      <td>82</td>\n",
       "      <td>...</td>\n",
       "      <td>1</td>\n",
       "      <td>0</td>\n",
       "      <td>1</td>\n",
       "      <td>10</td>\n",
       "      <td>7</td>\n",
       "      <td>11</td>\n",
       "      <td>2023</td>\n",
       "      <td>2023</td>\n",
       "      <td>24.643836</td>\n",
       "      <td>24.643836</td>\n",
       "    </tr>\n",
       "    <tr>\n",
       "      <th>1</th>\n",
       "      <td>1</td>\n",
       "      <td>1</td>\n",
       "      <td>102</td>\n",
       "      <td>18</td>\n",
       "      <td>8</td>\n",
       "      <td>1</td>\n",
       "      <td>3008</td>\n",
       "      <td>401</td>\n",
       "      <td>145</td>\n",
       "      <td>95</td>\n",
       "      <td>...</td>\n",
       "      <td>4</td>\n",
       "      <td>7</td>\n",
       "      <td>3</td>\n",
       "      <td>108</td>\n",
       "      <td>9</td>\n",
       "      <td>1</td>\n",
       "      <td>2010</td>\n",
       "      <td>2018</td>\n",
       "      <td>19.586301</td>\n",
       "      <td>27.586301</td>\n",
       "    </tr>\n",
       "    <tr>\n",
       "      <th>2</th>\n",
       "      <td>0</td>\n",
       "      <td>0</td>\n",
       "      <td>30</td>\n",
       "      <td>10</td>\n",
       "      <td>6</td>\n",
       "      <td>2</td>\n",
       "      <td>291</td>\n",
       "      <td>135</td>\n",
       "      <td>50</td>\n",
       "      <td>43</td>\n",
       "      <td>...</td>\n",
       "      <td>0</td>\n",
       "      <td>3</td>\n",
       "      <td>3</td>\n",
       "      <td>40</td>\n",
       "      <td>6</td>\n",
       "      <td>2</td>\n",
       "      <td>2012</td>\n",
       "      <td>2018</td>\n",
       "      <td>18.819178</td>\n",
       "      <td>24.819178</td>\n",
       "    </tr>\n",
       "    <tr>\n",
       "      <th>3</th>\n",
       "      <td>1</td>\n",
       "      <td>0</td>\n",
       "      <td>161</td>\n",
       "      <td>41</td>\n",
       "      <td>33</td>\n",
       "      <td>5</td>\n",
       "      <td>5088</td>\n",
       "      <td>1462</td>\n",
       "      <td>156</td>\n",
       "      <td>162</td>\n",
       "      <td>...</td>\n",
       "      <td>10</td>\n",
       "      <td>15</td>\n",
       "      <td>4</td>\n",
       "      <td>198</td>\n",
       "      <td>26</td>\n",
       "      <td>7</td>\n",
       "      <td>1998</td>\n",
       "      <td>2004</td>\n",
       "      <td>23.080000</td>\n",
       "      <td>29.080000</td>\n",
       "    </tr>\n",
       "    <tr>\n",
       "      <th>4</th>\n",
       "      <td>1</td>\n",
       "      <td>1</td>\n",
       "      <td>14</td>\n",
       "      <td>28</td>\n",
       "      <td>1</td>\n",
       "      <td>0</td>\n",
       "      <td>394</td>\n",
       "      <td>657</td>\n",
       "      <td>113</td>\n",
       "      <td>104</td>\n",
       "      <td>...</td>\n",
       "      <td>4</td>\n",
       "      <td>2</td>\n",
       "      <td>2</td>\n",
       "      <td>14</td>\n",
       "      <td>15</td>\n",
       "      <td>11</td>\n",
       "      <td>2010</td>\n",
       "      <td>2009</td>\n",
       "      <td>20.290411</td>\n",
       "      <td>19.290411</td>\n",
       "    </tr>\n",
       "  </tbody>\n",
       "</table>\n",
       "<p>5 rows × 28 columns</p>\n",
       "</div>"
      ],
      "text/plain": [
       "   Batting Style  Playing Role  Innings_ODI_batting  Innings_Test_batting  \\\n",
       "0              0             1                   10                    13   \n",
       "1              1             1                  102                    18   \n",
       "2              0             0                   30                    10   \n",
       "3              1             0                  161                    41   \n",
       "4              1             1                   14                    28   \n",
       "\n",
       "   NO_ODI  NO_Test  Runs_ODI_batting  Runs_Test_batting  HS_ODI  HS_Test  ...  \\\n",
       "0       0        0               288                310      66       82  ...   \n",
       "1       8        1              3008                401     145       95  ...   \n",
       "2       6        2               291                135      50       43  ...   \n",
       "3      33        5              5088               1462     156      162  ...   \n",
       "4       1        0               394                657     113      104  ...   \n",
       "\n",
       "   50_Test  0_ODI  0_Test  ODI_Matches  Test_Matches  Country  SpanStart_ODI  \\\n",
       "0        1      0       1           10             7       11           2023   \n",
       "1        4      7       3          108             9        1           2010   \n",
       "2        0      3       3           40             6        2           2012   \n",
       "3       10     15       4          198            26        7           1998   \n",
       "4        4      2       2           14            15       11           2010   \n",
       "\n",
       "   SpanStart_Test  AgeStart_ODI  AgeStart_Test  \n",
       "0            2023     24.643836      24.643836  \n",
       "1            2018     19.586301      27.586301  \n",
       "2            2018     18.819178      24.819178  \n",
       "3            2004     23.080000      29.080000  \n",
       "4            2009     20.290411      19.290411  \n",
       "\n",
       "[5 rows x 28 columns]"
      ]
     },
     "execution_count": 38,
     "metadata": {},
     "output_type": "execute_result"
    }
   ],
   "source": [
    "df = pd.read_csv('Data/Final/t20_bat_processed_data.csv')\n",
    "df.head()"
   ]
  },
  {
   "cell_type": "code",
   "execution_count": 39,
   "metadata": {},
   "outputs": [],
   "source": [
    "X = df.drop('Ave_T20_batting', axis = 1)"
   ]
  },
  {
   "cell_type": "code",
   "execution_count": 40,
   "metadata": {},
   "outputs": [],
   "source": [
    "y = df['Ave_T20_batting']"
   ]
  },
  {
   "cell_type": "markdown",
   "metadata": {},
   "source": [
    "##### Dropping with correlation"
   ]
  },
  {
   "cell_type": "code",
   "execution_count": 41,
   "metadata": {},
   "outputs": [
    {
     "data": {
      "image/png": "[encoded data removed]",
      "text/plain": [
       "<Figure size 640x480 with 2 Axes>"
      ]
     },
     "metadata": {},
     "output_type": "display_data"
    }
   ],
   "source": [
    "cor = X.corr()\n",
    "sns.heatmap(cor, annot = False, cmap = plt.cm.CMRmap_r)\n",
    "plt.show()"
   ]
  },
  {
   "cell_type": "code",
   "execution_count": 42,
   "metadata": {},
   "outputs": [],
   "source": [
    "# Select upper triangle of correlation matrix\n",
    "upper = cor.where(np.triu(np.ones(cor.shape), k=1).astype(bool))"
   ]
  },
  {
   "cell_type": "code",
   "execution_count": 43,
   "metadata": {},
   "outputs": [],
   "source": [
    "# Find features with correlation greater than 0.8\n",
    "highly_correlated = [column for column in upper.columns if any(upper[column] > 0.8)]"
   ]
  },
  {
   "cell_type": "code",
   "execution_count": 44,
   "metadata": {},
   "outputs": [
    {
     "data": {
      "text/plain": [
       "['NO_Test',\n",
       " 'Runs_ODI_batting',\n",
       " 'Runs_Test_batting',\n",
       " 'BF_ODI',\n",
       " '100_ODI',\n",
       " '100_Test',\n",
       " '50_ODI',\n",
       " '50_Test',\n",
       " '0_ODI',\n",
       " '0_Test',\n",
       " 'ODI_Matches',\n",
       " 'Test_Matches',\n",
       " 'SpanStart_Test']"
      ]
     },
     "execution_count": 44,
     "metadata": {},
     "output_type": "execute_result"
    }
   ],
   "source": [
    "highly_correlated"
   ]
  },
  {
   "cell_type": "code",
   "execution_count": 45,
   "metadata": {},
   "outputs": [],
   "source": [
    "# Drop highly correlated features\n",
    "X = X.drop(columns=highly_correlated)"
   ]
  },
  {
   "cell_type": "code",
   "execution_count": 46,
   "metadata": {},
   "outputs": [],
   "source": [
    "X_train, X_test, y_train, y_test = train_test_split(X, y, test_size=0.2, random_state=42)"
   ]
  },
  {
   "cell_type": "code",
   "execution_count": 47,
   "metadata": {},
   "outputs": [],
   "source": [
    "scaler = StandardScaler()\n",
    "X_train = scaler.fit_transform(X_train)\n",
    "X_test = scaler.transform(X_test)"
   ]
  },
  {
   "cell_type": "code",
   "execution_count": 48,
   "metadata": {},
   "outputs": [
    {
     "name": "stderr",
     "output_type": "stream",
     "text": [
      "/Users/henil08/College/Projects/Cricket-all-format/.venv/lib/python3.12/site-packages/keras/src/layers/core/dense.py:87: UserWarning: Do not pass an `input_shape`/`input_dim` argument to a layer. When using Sequential models, prefer using an `Input(shape)` object as the first layer in the model instead.\n",
      "  super().__init__(activity_regularizer=activity_regularizer, **kwargs)\n"
     ]
    }
   ],
   "source": [
    "model = keras.Sequential([\n",
    "    keras.layers.Dense(64, activation='relu', input_shape=(X_train.shape[1],)),\n",
    "    keras.layers.Dense(32, activation='relu'),\n",
    "    keras.layers.Dense(1)  # Regression output\n",
    "])"
   ]
  },
  {
   "cell_type": "code",
   "execution_count": 49,
   "metadata": {},
   "outputs": [],
   "source": [
    "model.compile(optimizer='adam', loss='mse', metrics=['mae'])"
   ]
  },
  {
   "cell_type": "code",
   "execution_count": 50,
   "metadata": {},
   "outputs": [],
   "source": [
    "early_stopping = keras.callbacks.EarlyStopping(monitor='val_loss', patience=20, restore_best_weights=True)\n",
    "reduce_lr = keras.callbacks.ReduceLROnPlateau(monitor='val_loss', factor=0.5, patience=10, verbose=1)"
   ]
  },
  {
   "cell_type": "code",
   "execution_count": 51,
   "metadata": {},
   "outputs": [
    {
     "name": "stdout",
     "output_type": "stream",
     "text": [
      "Epoch 1/300\n",
      "\u001b[1m18/18\u001b[0m \u001b[32m━━━━━━━━━━━━━━━━━━━━\u001b[0m\u001b[37m\u001b[0m \u001b[1m0s\u001b[0m 4ms/step - loss: 441.2665 - mae: 18.0286 - val_loss: 447.1108 - val_mae: 19.1245 - learning_rate: 0.0010\n",
      "Epoch 2/300\n",
      "\u001b[1m18/18\u001b[0m \u001b[32m━━━━━━━━━━━━━━━━━━━━\u001b[0m\u001b[37m\u001b[0m \u001b[1m0s\u001b[0m 2ms/step - loss: 410.8913 - mae: 18.0022 - val_loss: 379.8927 - val_mae: 17.4875 - learning_rate: 0.0010\n",
      "Epoch 3/300\n",
      "\u001b[1m18/18\u001b[0m \u001b[32m━━━━━━━━━━━━━━━━━━━━\u001b[0m\u001b[37m\u001b[0m \u001b[1m0s\u001b[0m 2ms/step - loss: 320.8312 - mae: 15.5907 - val_loss: 292.2417 - val_mae: 15.2021 - learning_rate: 0.0010\n",
      "Epoch 4/300\n",
      "\u001b[1m18/18\u001b[0m \u001b[32m━━━━━━━━━━━━━━━━━━━━\u001b[0m\u001b[37m\u001b[0m \u001b[1m0s\u001b[0m 2ms/step - loss: 227.6859 - mae: 12.7291 - val_loss: 195.9267 - val_mae: 12.1417 - learning_rate: 0.0010\n",
      "Epoch 5/300\n",
      "\u001b[1m18/18\u001b[0m \u001b[32m━━━━━━━━━━━━━━━━━━━━\u001b[0m\u001b[37m\u001b[0m \u001b[1m0s\u001b[0m 2ms/step - loss: 155.2889 - mae: 9.9972 - val_loss: 129.3102 - val_mae: 9.1107 - learning_rate: 0.0010\n",
      "Epoch 6/300\n",
      "\u001b[1m18/18\u001b[0m \u001b[32m━━━━━━━━━━━━━━━━━━━━\u001b[0m\u001b[37m\u001b[0m \u001b[1m0s\u001b[0m 1ms/step - loss: 111.7671 - mae: 8.1033 - val_loss: 103.4476 - val_mae: 7.4012 - learning_rate: 0.0010\n",
      "Epoch 7/300\n",
      "\u001b[1m18/18\u001b[0m \u001b[32m━━━━━━━━━━━━━━━━━━━━\u001b[0m\u001b[37m\u001b[0m \u001b[1m0s\u001b[0m 1ms/step - loss: 103.7848 - mae: 7.3756 - val_loss: 99.0648 - val_mae: 7.0570 - learning_rate: 0.0010\n",
      "Epoch 8/300\n",
      "\u001b[1m18/18\u001b[0m \u001b[32m━━━━━━━━━━━━━━━━━━━━\u001b[0m\u001b[37m\u001b[0m \u001b[1m0s\u001b[0m 1ms/step - loss: 96.9899 - mae: 7.1793 - val_loss: 99.7102 - val_mae: 7.1727 - learning_rate: 0.0010\n",
      "Epoch 9/300\n",
      "\u001b[1m18/18\u001b[0m \u001b[32m━━━━━━━━━━━━━━━━━━━━\u001b[0m\u001b[37m\u001b[0m \u001b[1m0s\u001b[0m 1ms/step - loss: 93.2039 - mae: 7.0598 - val_loss: 96.2302 - val_mae: 7.0686 - learning_rate: 0.0010\n",
      "Epoch 10/300\n",
      "\u001b[1m18/18\u001b[0m \u001b[32m━━━━━━━━━━━━━━━━━━━━\u001b[0m\u001b[37m\u001b[0m \u001b[1m0s\u001b[0m 1ms/step - loss: 92.3188 - mae: 7.1992 - val_loss: 96.3466 - val_mae: 7.1846 - learning_rate: 0.0010\n",
      "Epoch 11/300\n",
      "\u001b[1m18/18\u001b[0m \u001b[32m━━━━━━━━━━━━━━━━━━━━\u001b[0m\u001b[37m\u001b[0m \u001b[1m0s\u001b[0m 1ms/step - loss: 110.1916 - mae: 7.4689 - val_loss: 94.1917 - val_mae: 7.1231 - learning_rate: 0.0010\n",
      "Epoch 12/300\n",
      "\u001b[1m18/18\u001b[0m \u001b[32m━━━━━━━━━━━━━━━━━━━━\u001b[0m\u001b[37m\u001b[0m \u001b[1m0s\u001b[0m 1ms/step - loss: 90.8252 - mae: 7.1215 - val_loss: 90.6958 - val_mae: 6.9488 - learning_rate: 0.0010\n",
      "Epoch 13/300\n",
      "\u001b[1m18/18\u001b[0m \u001b[32m━━━━━━━━━━━━━━━━━━━━\u001b[0m\u001b[37m\u001b[0m \u001b[1m0s\u001b[0m 2ms/step - loss: 85.6168 - mae: 6.9890 - val_loss: 90.6917 - val_mae: 6.9820 - learning_rate: 0.0010\n",
      "Epoch 14/300\n",
      "\u001b[1m18/18\u001b[0m \u001b[32m━━━━━━━━━━━━━━━━━━━━\u001b[0m\u001b[37m\u001b[0m \u001b[1m0s\u001b[0m 2ms/step - loss: 110.2847 - mae: 7.4958 - val_loss: 89.5527 - val_mae: 6.9416 - learning_rate: 0.0010\n",
      "Epoch 15/300\n",
      "\u001b[1m18/18\u001b[0m \u001b[32m━━━━━━━━━━━━━━━━━━━━\u001b[0m\u001b[37m\u001b[0m \u001b[1m0s\u001b[0m 2ms/step - loss: 97.0242 - mae: 7.3060 - val_loss: 87.5130 - val_mae: 6.9026 - learning_rate: 0.0010\n",
      "Epoch 16/300\n",
      "\u001b[1m18/18\u001b[0m \u001b[32m━━━━━━━━━━━━━━━━━━━━\u001b[0m\u001b[37m\u001b[0m \u001b[1m0s\u001b[0m 2ms/step - loss: 91.3764 - mae: 6.9364 - val_loss: 87.5207 - val_mae: 6.8905 - learning_rate: 0.0010\n",
      "Epoch 17/300\n",
      "\u001b[1m18/18\u001b[0m \u001b[32m━━━━━━━━━━━━━━━━━━━━\u001b[0m\u001b[37m\u001b[0m \u001b[1m0s\u001b[0m 2ms/step - loss: 98.7831 - mae: 7.1953 - val_loss: 84.6035 - val_mae: 6.8094 - learning_rate: 0.0010\n",
      "Epoch 18/300\n",
      "\u001b[1m18/18\u001b[0m \u001b[32m━━━━━━━━━━━━━━━━━━━━\u001b[0m\u001b[37m\u001b[0m \u001b[1m0s\u001b[0m 2ms/step - loss: 101.0038 - mae: 7.2785 - val_loss: 83.2743 - val_mae: 6.7287 - learning_rate: 0.0010\n",
      "Epoch 19/300\n",
      "\u001b[1m18/18\u001b[0m \u001b[32m━━━━━━━━━━━━━━━━━━━━\u001b[0m\u001b[37m\u001b[0m \u001b[1m0s\u001b[0m 2ms/step - loss: 77.8115 - mae: 6.4216 - val_loss: 83.3585 - val_mae: 6.7392 - learning_rate: 0.0010\n",
      "Epoch 20/300\n",
      "\u001b[1m18/18\u001b[0m \u001b[32m━━━━━━━━━━━━━━━━━━━━\u001b[0m\u001b[37m\u001b[0m \u001b[1m0s\u001b[0m 1ms/step - loss: 72.4150 - mae: 6.1105 - val_loss: 83.4463 - val_mae: 6.7887 - learning_rate: 0.0010\n",
      "Epoch 21/300\n",
      "\u001b[1m18/18\u001b[0m \u001b[32m━━━━━━━━━━━━━━━━━━━━\u001b[0m\u001b[37m\u001b[0m \u001b[1m0s\u001b[0m 1ms/step - loss: 75.9715 - mae: 6.3440 - val_loss: 82.3008 - val_mae: 6.7358 - learning_rate: 0.0010\n",
      "Epoch 22/300\n",
      "\u001b[1m18/18\u001b[0m \u001b[32m━━━━━━━━━━━━━━━━━━━━\u001b[0m\u001b[37m\u001b[0m \u001b[1m0s\u001b[0m 2ms/step - loss: 79.5503 - mae: 6.7315 - val_loss: 81.6042 - val_mae: 6.7369 - learning_rate: 0.0010\n",
      "Epoch 23/300\n",
      "\u001b[1m18/18\u001b[0m \u001b[32m━━━━━━━━━━━━━━━━━━━━\u001b[0m\u001b[37m\u001b[0m \u001b[1m0s\u001b[0m 2ms/step - loss: 91.0769 - mae: 6.9087 - val_loss: 80.6375 - val_mae: 6.6790 - learning_rate: 0.0010\n",
      "Epoch 24/300\n",
      "\u001b[1m18/18\u001b[0m \u001b[32m━━━━━━━━━━━━━━━━━━━━\u001b[0m\u001b[37m\u001b[0m \u001b[1m0s\u001b[0m 2ms/step - loss: 67.3336 - mae: 6.0820 - val_loss: 81.2883 - val_mae: 6.7401 - learning_rate: 0.0010\n",
      "Epoch 25/300\n",
      "\u001b[1m18/18\u001b[0m \u001b[32m━━━━━━━━━━━━━━━━━━━━\u001b[0m\u001b[37m\u001b[0m \u001b[1m0s\u001b[0m 1ms/step - loss: 61.0753 - mae: 5.8543 - val_loss: 80.0337 - val_mae: 6.7094 - learning_rate: 0.0010\n",
      "Epoch 26/300\n",
      "\u001b[1m18/18\u001b[0m \u001b[32m━━━━━━━━━━━━━━━━━━━━\u001b[0m\u001b[37m\u001b[0m \u001b[1m0s\u001b[0m 1ms/step - loss: 76.4164 - mae: 6.5121 - val_loss: 79.0173 - val_mae: 6.6676 - learning_rate: 0.0010\n",
      "Epoch 27/300\n",
      "\u001b[1m18/18\u001b[0m \u001b[32m━━━━━━━━━━━━━━━━━━━━\u001b[0m\u001b[37m\u001b[0m \u001b[1m0s\u001b[0m 1ms/step - loss: 65.4142 - mae: 5.9220 - val_loss: 79.3288 - val_mae: 6.6959 - learning_rate: 0.0010\n",
      "Epoch 28/300\n",
      "\u001b[1m18/18\u001b[0m \u001b[32m━━━━━━━━━━━━━━━━━━━━\u001b[0m\u001b[37m\u001b[0m \u001b[1m0s\u001b[0m 1ms/step - loss: 60.4097 - mae: 5.7725 - val_loss: 78.6704 - val_mae: 6.6948 - learning_rate: 0.0010\n",
      "Epoch 29/300\n",
      "\u001b[1m18/18\u001b[0m \u001b[32m━━━━━━━━━━━━━━━━━━━━\u001b[0m\u001b[37m\u001b[0m \u001b[1m0s\u001b[0m 2ms/step - loss: 69.2944 - mae: 6.0460 - val_loss: 78.9454 - val_mae: 6.6915 - learning_rate: 0.0010\n",
      "Epoch 30/300\n",
      "\u001b[1m18/18\u001b[0m \u001b[32m━━━━━━━━━━━━━━━━━━━━\u001b[0m\u001b[37m\u001b[0m \u001b[1m0s\u001b[0m 2ms/step - loss: 71.2028 - mae: 6.3845 - val_loss: 77.0822 - val_mae: 6.6063 - learning_rate: 0.0010\n",
      "Epoch 31/300\n",
      "\u001b[1m18/18\u001b[0m \u001b[32m━━━━━━━━━━━━━━━━━━━━\u001b[0m\u001b[37m\u001b[0m \u001b[1m0s\u001b[0m 2ms/step - loss: 82.6840 - mae: 6.6129 - val_loss: 79.0280 - val_mae: 6.7241 - learning_rate: 0.0010\n",
      "Epoch 32/300\n",
      "\u001b[1m18/18\u001b[0m \u001b[32m━━━━━━━━━━━━━━━━━━━━\u001b[0m\u001b[37m\u001b[0m \u001b[1m0s\u001b[0m 2ms/step - loss: 65.0221 - mae: 5.9551 - val_loss: 77.9746 - val_mae: 6.7238 - learning_rate: 0.0010\n",
      "Epoch 33/300\n",
      "\u001b[1m18/18\u001b[0m \u001b[32m━━━━━━━━━━━━━━━━━━━━\u001b[0m\u001b[37m\u001b[0m \u001b[1m0s\u001b[0m 2ms/step - loss: 62.2252 - mae: 5.7493 - val_loss: 78.1634 - val_mae: 6.7327 - learning_rate: 0.0010\n",
      "Epoch 34/300\n",
      "\u001b[1m18/18\u001b[0m \u001b[32m━━━━━━━━━━━━━━━━━━━━\u001b[0m\u001b[37m\u001b[0m \u001b[1m0s\u001b[0m 1ms/step - loss: 71.2145 - mae: 6.1764 - val_loss: 77.2991 - val_mae: 6.6937 - learning_rate: 0.0010\n",
      "Epoch 35/300\n",
      "\u001b[1m18/18\u001b[0m \u001b[32m━━━━━━━━━━━━━━━━━━━━\u001b[0m\u001b[37m\u001b[0m \u001b[1m0s\u001b[0m 2ms/step - loss: 75.5419 - mae: 6.2525 - val_loss: 77.0788 - val_mae: 6.6902 - learning_rate: 0.0010\n",
      "Epoch 36/300\n",
      "\u001b[1m18/18\u001b[0m \u001b[32m━━━━━━━━━━━━━━━━━━━━\u001b[0m\u001b[37m\u001b[0m \u001b[1m0s\u001b[0m 2ms/step - loss: 59.4558 - mae: 5.7647 - val_loss: 76.3911 - val_mae: 6.6826 - learning_rate: 0.0010\n",
      "Epoch 37/300\n",
      "\u001b[1m18/18\u001b[0m \u001b[32m━━━━━━━━━━━━━━━━━━━━\u001b[0m\u001b[37m\u001b[0m \u001b[1m0s\u001b[0m 2ms/step - loss: 86.9180 - mae: 6.4238 - val_loss: 76.4704 - val_mae: 6.6816 - learning_rate: 0.0010\n",
      "Epoch 38/300\n",
      "\u001b[1m18/18\u001b[0m \u001b[32m━━━━━━━━━━━━━━━━━━━━\u001b[0m\u001b[37m\u001b[0m \u001b[1m0s\u001b[0m 2ms/step - loss: 67.4975 - mae: 6.0361 - val_loss: 76.6197 - val_mae: 6.7125 - learning_rate: 0.0010\n",
      "Epoch 39/300\n",
      "\u001b[1m18/18\u001b[0m \u001b[32m━━━━━━━━━━━━━━━━━━━━\u001b[0m\u001b[37m\u001b[0m \u001b[1m0s\u001b[0m 2ms/step - loss: 56.6305 - mae: 5.5345 - val_loss: 75.4699 - val_mae: 6.6486 - learning_rate: 0.0010\n",
      "Epoch 40/300\n",
      "\u001b[1m18/18\u001b[0m \u001b[32m━━━━━━━━━━━━━━━━━━━━\u001b[0m\u001b[37m\u001b[0m \u001b[1m0s\u001b[0m 2ms/step - loss: 67.1980 - mae: 6.0327 - val_loss: 74.8050 - val_mae: 6.6059 - learning_rate: 0.0010\n",
      "Epoch 41/300\n",
      "\u001b[1m18/18\u001b[0m \u001b[32m━━━━━━━━━━━━━━━━━━━━\u001b[0m\u001b[37m\u001b[0m \u001b[1m0s\u001b[0m 2ms/step - loss: 81.7479 - mae: 6.2802 - val_loss: 76.4725 - val_mae: 6.7039 - learning_rate: 0.0010\n",
      "Epoch 42/300\n",
      "\u001b[1m18/18\u001b[0m \u001b[32m━━━━━━━━━━━━━━━━━━━━\u001b[0m\u001b[37m\u001b[0m \u001b[1m0s\u001b[0m 2ms/step - loss: 59.9652 - mae: 5.5477 - val_loss: 74.6376 - val_mae: 6.6259 - learning_rate: 0.0010\n",
      "Epoch 43/300\n",
      "\u001b[1m18/18\u001b[0m \u001b[32m━━━━━━━━━━━━━━━━━━━━\u001b[0m\u001b[37m\u001b[0m \u001b[1m0s\u001b[0m 2ms/step - loss: 72.5111 - mae: 6.0147 - val_loss: 75.4079 - val_mae: 6.6732 - learning_rate: 0.0010\n",
      "Epoch 44/300\n",
      "\u001b[1m18/18\u001b[0m \u001b[32m━━━━━━━━━━━━━━━━━━━━\u001b[0m\u001b[37m\u001b[0m \u001b[1m0s\u001b[0m 2ms/step - loss: 53.5517 - mae: 5.5584 - val_loss: 75.0699 - val_mae: 6.6636 - learning_rate: 0.0010\n",
      "Epoch 45/300\n",
      "\u001b[1m18/18\u001b[0m \u001b[32m━━━━━━━━━━━━━━━━━━━━\u001b[0m\u001b[37m\u001b[0m \u001b[1m0s\u001b[0m 2ms/step - loss: 67.1575 - mae: 6.1595 - val_loss: 73.6950 - val_mae: 6.5990 - learning_rate: 0.0010\n",
      "Epoch 46/300\n",
      "\u001b[1m18/18\u001b[0m \u001b[32m━━━━━━━━━━━━━━━━━━━━\u001b[0m\u001b[37m\u001b[0m \u001b[1m0s\u001b[0m 2ms/step - loss: 57.3522 - mae: 5.6224 - val_loss: 74.0950 - val_mae: 6.6233 - learning_rate: 0.0010\n",
      "Epoch 47/300\n",
      "\u001b[1m18/18\u001b[0m \u001b[32m━━━━━━━━━━━━━━━━━━━━\u001b[0m\u001b[37m\u001b[0m \u001b[1m0s\u001b[0m 1ms/step - loss: 69.5568 - mae: 6.0332 - val_loss: 74.4431 - val_mae: 6.6470 - learning_rate: 0.0010\n",
      "Epoch 48/300\n",
      "\u001b[1m18/18\u001b[0m \u001b[32m━━━━━━━━━━━━━━━━━━━━\u001b[0m\u001b[37m\u001b[0m \u001b[1m0s\u001b[0m 1ms/step - loss: 64.0400 - mae: 5.9019 - val_loss: 74.9916 - val_mae: 6.6851 - learning_rate: 0.0010\n",
      "Epoch 49/300\n",
      "\u001b[1m18/18\u001b[0m \u001b[32m━━━━━━━━━━━━━━━━━━━━\u001b[0m\u001b[37m\u001b[0m \u001b[1m0s\u001b[0m 1ms/step - loss: 62.6339 - mae: 6.1287 - val_loss: 74.5183 - val_mae: 6.6646 - learning_rate: 0.0010\n",
      "Epoch 50/300\n",
      "\u001b[1m18/18\u001b[0m \u001b[32m━━━━━━━━━━━━━━━━━━━━\u001b[0m\u001b[37m\u001b[0m \u001b[1m0s\u001b[0m 2ms/step - loss: 53.0240 - mae: 5.3102 - val_loss: 74.6380 - val_mae: 6.6477 - learning_rate: 0.0010\n",
      "Epoch 51/300\n",
      "\u001b[1m18/18\u001b[0m \u001b[32m━━━━━━━━━━━━━━━━━━━━\u001b[0m\u001b[37m\u001b[0m \u001b[1m0s\u001b[0m 1ms/step - loss: 48.8192 - mae: 5.1884 - val_loss: 74.0005 - val_mae: 6.6365 - learning_rate: 0.0010\n",
      "Epoch 52/300\n",
      "\u001b[1m18/18\u001b[0m \u001b[32m━━━━━━━━━━━━━━━━━━━━\u001b[0m\u001b[37m\u001b[0m \u001b[1m0s\u001b[0m 2ms/step - loss: 65.3395 - mae: 5.7174 - val_loss: 74.6192 - val_mae: 6.6731 - learning_rate: 0.0010\n",
      "Epoch 53/300\n",
      "\u001b[1m18/18\u001b[0m \u001b[32m━━━━━━━━━━━━━━━━━━━━\u001b[0m\u001b[37m\u001b[0m \u001b[1m0s\u001b[0m 2ms/step - loss: 70.0586 - mae: 5.9713 - val_loss: 74.0245 - val_mae: 6.6476 - learning_rate: 0.0010\n",
      "Epoch 54/300\n",
      "\u001b[1m18/18\u001b[0m \u001b[32m━━━━━━━━━━━━━━━━━━━━\u001b[0m\u001b[37m\u001b[0m \u001b[1m0s\u001b[0m 2ms/step - loss: 55.8620 - mae: 5.6369 - val_loss: 74.6792 - val_mae: 6.6887 - learning_rate: 0.0010\n",
      "Epoch 55/300\n",
      "\u001b[1m 1/18\u001b[0m \u001b[32m━\u001b[0m\u001b[37m━━━━━━━━━━━━━━━━━━━\u001b[0m \u001b[1m0s\u001b[0m 7ms/step - loss: 57.8777 - mae: 6.0469\n",
      "Epoch 55: ReduceLROnPlateau reducing learning rate to 0.0005000000237487257.\n",
      "\u001b[1m18/18\u001b[0m \u001b[32m━━━━━━━━━━━━━━━━━━━━\u001b[0m\u001b[37m\u001b[0m \u001b[1m0s\u001b[0m 2ms/step - loss: 56.2452 - mae: 5.7512 - val_loss: 73.8229 - val_mae: 6.6561 - learning_rate: 0.0010\n",
      "Epoch 56/300\n",
      "\u001b[1m18/18\u001b[0m \u001b[32m━━━━━━━━━━━━━━━━━━━━\u001b[0m\u001b[37m\u001b[0m \u001b[1m0s\u001b[0m 2ms/step - loss: 50.4954 - mae: 5.4769 - val_loss: 73.7201 - val_mae: 6.6526 - learning_rate: 5.0000e-04\n",
      "Epoch 57/300\n",
      "\u001b[1m18/18\u001b[0m \u001b[32m━━━━━━━━━━━━━━━━━━━━\u001b[0m\u001b[37m\u001b[0m \u001b[1m0s\u001b[0m 2ms/step - loss: 52.6507 - mae: 5.1259 - val_loss: 74.0612 - val_mae: 6.6677 - learning_rate: 5.0000e-04\n",
      "Epoch 58/300\n",
      "\u001b[1m18/18\u001b[0m \u001b[32m━━━━━━━━━━━━━━━━━━━━\u001b[0m\u001b[37m\u001b[0m \u001b[1m0s\u001b[0m 2ms/step - loss: 54.8299 - mae: 5.5700 - val_loss: 74.2965 - val_mae: 6.6790 - learning_rate: 5.0000e-04\n",
      "Epoch 59/300\n",
      "\u001b[1m18/18\u001b[0m \u001b[32m━━━━━━━━━━━━━━━━━━━━\u001b[0m\u001b[37m\u001b[0m \u001b[1m0s\u001b[0m 2ms/step - loss: 58.1688 - mae: 5.8509 - val_loss: 74.1758 - val_mae: 6.6758 - learning_rate: 5.0000e-04\n",
      "Epoch 60/300\n",
      "\u001b[1m18/18\u001b[0m \u001b[32m━━━━━━━━━━━━━━━━━━━━\u001b[0m\u001b[37m\u001b[0m \u001b[1m0s\u001b[0m 2ms/step - loss: 56.3586 - mae: 5.3090 - val_loss: 74.1679 - val_mae: 6.6719 - learning_rate: 5.0000e-04\n",
      "Epoch 61/300\n",
      "\u001b[1m18/18\u001b[0m \u001b[32m━━━━━━━━━━━━━━━━━━━━\u001b[0m\u001b[37m\u001b[0m \u001b[1m0s\u001b[0m 2ms/step - loss: 55.7332 - mae: 5.6390 - val_loss: 74.0132 - val_mae: 6.6783 - learning_rate: 5.0000e-04\n",
      "Epoch 62/300\n",
      "\u001b[1m18/18\u001b[0m \u001b[32m━━━━━━━━━━━━━━━━━━━━\u001b[0m\u001b[37m\u001b[0m \u001b[1m0s\u001b[0m 2ms/step - loss: 53.1928 - mae: 5.4519 - val_loss: 73.9671 - val_mae: 6.6596 - learning_rate: 5.0000e-04\n",
      "Epoch 63/300\n",
      "\u001b[1m18/18\u001b[0m \u001b[32m━━━━━━━━━━━━━━━━━━━━\u001b[0m\u001b[37m\u001b[0m \u001b[1m0s\u001b[0m 2ms/step - loss: 63.5379 - mae: 5.4723 - val_loss: 74.0714 - val_mae: 6.6677 - learning_rate: 5.0000e-04\n",
      "Epoch 64/300\n",
      "\u001b[1m18/18\u001b[0m \u001b[32m━━━━━━━━━━━━━━━━━━━━\u001b[0m\u001b[37m\u001b[0m \u001b[1m0s\u001b[0m 2ms/step - loss: 66.6992 - mae: 5.7503 - val_loss: 73.8885 - val_mae: 6.6568 - learning_rate: 5.0000e-04\n",
      "Epoch 65/300\n",
      "\u001b[1m18/18\u001b[0m \u001b[32m━━━━━━━━━━━━━━━━━━━━\u001b[0m\u001b[37m\u001b[0m \u001b[1m0s\u001b[0m 2ms/step - loss: 64.1241 - mae: 5.9130 - val_loss: 73.4310 - val_mae: 6.6352 - learning_rate: 5.0000e-04\n",
      "Epoch 66/300\n",
      "\u001b[1m18/18\u001b[0m \u001b[32m━━━━━━━━━━━━━━━━━━━━\u001b[0m\u001b[37m\u001b[0m \u001b[1m0s\u001b[0m 3ms/step - loss: 58.2357 - mae: 5.5566 - val_loss: 73.4368 - val_mae: 6.6373 - learning_rate: 5.0000e-04\n",
      "Epoch 67/300\n",
      "\u001b[1m18/18\u001b[0m \u001b[32m━━━━━━━━━━━━━━━━━━━━\u001b[0m\u001b[37m\u001b[0m \u001b[1m0s\u001b[0m 2ms/step - loss: 53.9849 - mae: 5.2865 - val_loss: 73.3443 - val_mae: 6.6349 - learning_rate: 5.0000e-04\n",
      "Epoch 68/300\n",
      "\u001b[1m18/18\u001b[0m \u001b[32m━━━━━━━━━━━━━━━━━━━━\u001b[0m\u001b[37m\u001b[0m \u001b[1m0s\u001b[0m 2ms/step - loss: 60.4783 - mae: 5.7126 - val_loss: 73.4037 - val_mae: 6.6378 - learning_rate: 5.0000e-04\n",
      "Epoch 69/300\n",
      "\u001b[1m18/18\u001b[0m \u001b[32m━━━━━━━━━━━━━━━━━━━━\u001b[0m\u001b[37m\u001b[0m \u001b[1m0s\u001b[0m 2ms/step - loss: 63.0106 - mae: 5.9674 - val_loss: 73.3829 - val_mae: 6.6458 - learning_rate: 5.0000e-04\n",
      "Epoch 70/300\n",
      "\u001b[1m18/18\u001b[0m \u001b[32m━━━━━━━━━━━━━━━━━━━━\u001b[0m\u001b[37m\u001b[0m \u001b[1m0s\u001b[0m 2ms/step - loss: 55.0707 - mae: 5.4163 - val_loss: 73.5530 - val_mae: 6.6516 - learning_rate: 5.0000e-04\n",
      "Epoch 71/300\n",
      "\u001b[1m18/18\u001b[0m \u001b[32m━━━━━━━━━━━━━━━━━━━━\u001b[0m\u001b[37m\u001b[0m \u001b[1m0s\u001b[0m 2ms/step - loss: 54.0199 - mae: 5.5020 - val_loss: 73.6314 - val_mae: 6.6487 - learning_rate: 5.0000e-04\n",
      "Epoch 72/300\n",
      "\u001b[1m18/18\u001b[0m \u001b[32m━━━━━━━━━━━━━━━━━━━━\u001b[0m\u001b[37m\u001b[0m \u001b[1m0s\u001b[0m 2ms/step - loss: 45.6718 - mae: 4.8588 - val_loss: 73.3689 - val_mae: 6.6410 - learning_rate: 5.0000e-04\n",
      "Epoch 73/300\n",
      "\u001b[1m18/18\u001b[0m \u001b[32m━━━━━━━━━━━━━━━━━━━━\u001b[0m\u001b[37m\u001b[0m \u001b[1m0s\u001b[0m 2ms/step - loss: 50.3282 - mae: 5.1134 - val_loss: 73.9549 - val_mae: 6.6635 - learning_rate: 5.0000e-04\n",
      "Epoch 74/300\n",
      "\u001b[1m18/18\u001b[0m \u001b[32m━━━━━━━━━━━━━━━━━━━━\u001b[0m\u001b[37m\u001b[0m \u001b[1m0s\u001b[0m 2ms/step - loss: 48.9167 - mae: 5.3753 - val_loss: 72.9140 - val_mae: 6.6189 - learning_rate: 5.0000e-04\n",
      "Epoch 75/300\n",
      "\u001b[1m18/18\u001b[0m \u001b[32m━━━━━━━━━━━━━━━━━━━━\u001b[0m\u001b[37m\u001b[0m \u001b[1m0s\u001b[0m 2ms/step - loss: 67.2644 - mae: 5.8274 - val_loss: 72.9858 - val_mae: 6.6227 - learning_rate: 5.0000e-04\n",
      "Epoch 76/300\n",
      "\u001b[1m18/18\u001b[0m \u001b[32m━━━━━━━━━━━━━━━━━━━━\u001b[0m\u001b[37m\u001b[0m \u001b[1m0s\u001b[0m 1ms/step - loss: 49.2886 - mae: 5.2539 - val_loss: 73.6499 - val_mae: 6.6459 - learning_rate: 5.0000e-04\n",
      "Epoch 77/300\n",
      "\u001b[1m18/18\u001b[0m \u001b[32m━━━━━━━━━━━━━━━━━━━━\u001b[0m\u001b[37m\u001b[0m \u001b[1m0s\u001b[0m 2ms/step - loss: 43.5497 - mae: 4.9500 - val_loss: 74.1350 - val_mae: 6.6714 - learning_rate: 5.0000e-04\n",
      "Epoch 78/300\n",
      "\u001b[1m18/18\u001b[0m \u001b[32m━━━━━━━━━━━━━━━━━━━━\u001b[0m\u001b[37m\u001b[0m \u001b[1m0s\u001b[0m 2ms/step - loss: 68.0222 - mae: 6.0301 - val_loss: 73.6895 - val_mae: 6.6545 - learning_rate: 5.0000e-04\n",
      "Epoch 79/300\n",
      "\u001b[1m18/18\u001b[0m \u001b[32m━━━━━━━━━━━━━━━━━━━━\u001b[0m\u001b[37m\u001b[0m \u001b[1m0s\u001b[0m 2ms/step - loss: 52.2623 - mae: 5.4515 - val_loss: 73.5856 - val_mae: 6.6557 - learning_rate: 5.0000e-04\n",
      "Epoch 80/300\n",
      "\u001b[1m18/18\u001b[0m \u001b[32m━━━━━━━━━━━━━━━━━━━━\u001b[0m\u001b[37m\u001b[0m \u001b[1m0s\u001b[0m 2ms/step - loss: 47.0381 - mae: 5.0635 - val_loss: 74.2064 - val_mae: 6.6823 - learning_rate: 5.0000e-04\n",
      "Epoch 81/300\n",
      "\u001b[1m18/18\u001b[0m \u001b[32m━━━━━━━━━━━━━━━━━━━━\u001b[0m\u001b[37m\u001b[0m \u001b[1m0s\u001b[0m 2ms/step - loss: 53.4200 - mae: 5.3326 - val_loss: 73.7812 - val_mae: 6.6519 - learning_rate: 5.0000e-04\n",
      "Epoch 82/300\n",
      "\u001b[1m18/18\u001b[0m \u001b[32m━━━━━━━━━━━━━━━━━━━━\u001b[0m\u001b[37m\u001b[0m \u001b[1m0s\u001b[0m 2ms/step - loss: 57.0437 - mae: 5.6292 - val_loss: 74.0805 - val_mae: 6.6710 - learning_rate: 5.0000e-04\n",
      "Epoch 83/300\n",
      "\u001b[1m18/18\u001b[0m \u001b[32m━━━━━━━━━━━━━━━━━━━━\u001b[0m\u001b[37m\u001b[0m \u001b[1m0s\u001b[0m 2ms/step - loss: 51.0230 - mae: 5.2133 - val_loss: 74.1276 - val_mae: 6.6739 - learning_rate: 5.0000e-04\n",
      "Epoch 84/300\n",
      "\u001b[1m 1/18\u001b[0m \u001b[32m━\u001b[0m\u001b[37m━━━━━━━━━━━━━━━━━━━\u001b[0m \u001b[1m0s\u001b[0m 8ms/step - loss: 44.9900 - mae: 5.3205\n",
      "Epoch 84: ReduceLROnPlateau reducing learning rate to 0.0002500000118743628.\n",
      "\u001b[1m18/18\u001b[0m \u001b[32m━━━━━━━━━━━━━━━━━━━━\u001b[0m\u001b[37m\u001b[0m \u001b[1m0s\u001b[0m 2ms/step - loss: 49.9060 - mae: 5.3247 - val_loss: 73.8129 - val_mae: 6.6620 - learning_rate: 5.0000e-04\n",
      "Epoch 85/300\n",
      "\u001b[1m18/18\u001b[0m \u001b[32m━━━━━━━━━━━━━━━━━━━━\u001b[0m\u001b[37m\u001b[0m \u001b[1m0s\u001b[0m 2ms/step - loss: 53.9615 - mae: 5.2267 - val_loss: 73.7129 - val_mae: 6.6578 - learning_rate: 2.5000e-04\n",
      "Epoch 86/300\n",
      "\u001b[1m18/18\u001b[0m \u001b[32m━━━━━━━━━━━━━━━━━━━━\u001b[0m\u001b[37m\u001b[0m \u001b[1m0s\u001b[0m 2ms/step - loss: 54.8099 - mae: 5.4046 - val_loss: 73.6563 - val_mae: 6.6539 - learning_rate: 2.5000e-04\n",
      "Epoch 87/300\n",
      "\u001b[1m18/18\u001b[0m \u001b[32m━━━━━━━━━━━━━━━━━━━━\u001b[0m\u001b[37m\u001b[0m \u001b[1m0s\u001b[0m 2ms/step - loss: 51.0603 - mae: 5.2693 - val_loss: 73.6400 - val_mae: 6.6539 - learning_rate: 2.5000e-04\n",
      "Epoch 88/300\n",
      "\u001b[1m18/18\u001b[0m \u001b[32m━━━━━━━━━━━━━━━━━━━━\u001b[0m\u001b[37m\u001b[0m \u001b[1m0s\u001b[0m 2ms/step - loss: 42.8490 - mae: 4.8232 - val_loss: 73.8333 - val_mae: 6.6667 - learning_rate: 2.5000e-04\n",
      "Epoch 89/300\n",
      "\u001b[1m18/18\u001b[0m \u001b[32m━━━━━━━━━━━━━━━━━━━━\u001b[0m\u001b[37m\u001b[0m \u001b[1m0s\u001b[0m 2ms/step - loss: 64.4693 - mae: 5.7332 - val_loss: 73.6636 - val_mae: 6.6578 - learning_rate: 2.5000e-04\n",
      "Epoch 90/300\n",
      "\u001b[1m18/18\u001b[0m \u001b[32m━━━━━━━━━━━━━━━━━━━━\u001b[0m\u001b[37m\u001b[0m \u001b[1m0s\u001b[0m 2ms/step - loss: 52.5233 - mae: 5.3510 - val_loss: 73.5356 - val_mae: 6.6510 - learning_rate: 2.5000e-04\n",
      "Epoch 91/300\n",
      "\u001b[1m18/18\u001b[0m \u001b[32m━━━━━━━━━━━━━━━━━━━━\u001b[0m\u001b[37m\u001b[0m \u001b[1m0s\u001b[0m 2ms/step - loss: 50.3055 - mae: 5.2578 - val_loss: 73.7965 - val_mae: 6.6634 - learning_rate: 2.5000e-04\n",
      "Epoch 92/300\n",
      "\u001b[1m18/18\u001b[0m \u001b[32m━━━━━━━━━━━━━━━━━━━━\u001b[0m\u001b[37m\u001b[0m \u001b[1m0s\u001b[0m 2ms/step - loss: 57.3100 - mae: 5.6790 - val_loss: 73.8836 - val_mae: 6.6675 - learning_rate: 2.5000e-04\n",
      "Epoch 93/300\n",
      "\u001b[1m18/18\u001b[0m \u001b[32m━━━━━━━━━━━━━━━━━━━━\u001b[0m\u001b[37m\u001b[0m \u001b[1m0s\u001b[0m 2ms/step - loss: 56.7118 - mae: 5.2419 - val_loss: 74.2457 - val_mae: 6.6837 - learning_rate: 2.5000e-04\n",
      "Epoch 94/300\n",
      "\u001b[1m 1/18\u001b[0m \u001b[32m━\u001b[0m\u001b[37m━━━━━━━━━━━━━━━━━━━\u001b[0m \u001b[1m0s\u001b[0m 7ms/step - loss: 54.8753 - mae: 5.6290\n",
      "Epoch 94: ReduceLROnPlateau reducing learning rate to 0.0001250000059371814.\n",
      "\u001b[1m18/18\u001b[0m \u001b[32m━━━━━━━━━━━━━━━━━━━━\u001b[0m\u001b[37m\u001b[0m \u001b[1m0s\u001b[0m 2ms/step - loss: 52.8085 - mae: 5.3831 - val_loss: 74.1729 - val_mae: 6.6815 - learning_rate: 2.5000e-04\n"
     ]
    }
   ],
   "source": [
    "history = model.fit(X_train, y_train, epochs=300, validation_data=(X_test, y_test), batch_size=16, verbose=1, callbacks=[early_stopping, reduce_lr])"
   ]
  },
  {
   "cell_type": "code",
   "execution_count": 52,
   "metadata": {},
   "outputs": [
    {
     "name": "stdout",
     "output_type": "stream",
     "text": [
      "\u001b[1m3/3\u001b[0m \u001b[32m━━━━━━━━━━━━━━━━━━━━\u001b[0m\u001b[37m\u001b[0m \u001b[1m0s\u001b[0m 3ms/step - loss: 70.3725 - mae: 6.5655\n",
      "Test MAE: 6.6188554763793945\n"
     ]
    }
   ],
   "source": [
    "loss, mae = model.evaluate(X_test, y_test)\n",
    "print(f'Test MAE: {mae}')"
   ]
  },
  {
   "cell_type": "code",
   "execution_count": 53,
   "metadata": {},
   "outputs": [
    {
     "name": "stdout",
     "output_type": "stream",
     "text": [
      "WARNING:tensorflow:5 out of the last 7 calls to <function TensorFlowTrainer.make_predict_function.<locals>.one_step_on_data_distributed at 0x30c6d34c0> triggered tf.function retracing. Tracing is expensive and the excessive number of tracings could be due to (1) creating @tf.function repeatedly in a loop, (2) passing tensors with different shapes, (3) passing Python objects instead of tensors. For (1), please define your @tf.function outside of the loop. For (2), @tf.function has reduce_retracing=True option that can avoid unnecessary retracing. For (3), please refer to https://www.tensorflow.org/guide/function#controlling_retracing and https://www.tensorflow.org/api_docs/python/tf/function for  more details.\n",
      "\u001b[1m1/3\u001b[0m \u001b[32m━━━━━━\u001b[0m\u001b[37m━━━━━━━━━━━━━━\u001b[0m \u001b[1m0s\u001b[0m 16ms/stepWARNING:tensorflow:6 out of the last 9 calls to <function TensorFlowTrainer.make_predict_function.<locals>.one_step_on_data_distributed at 0x30c6d34c0> triggered tf.function retracing. Tracing is expensive and the excessive number of tracings could be due to (1) creating @tf.function repeatedly in a loop, (2) passing tensors with different shapes, (3) passing Python objects instead of tensors. For (1), please define your @tf.function outside of the loop. For (2), @tf.function has reduce_retracing=True option that can avoid unnecessary retracing. For (3), please refer to https://www.tensorflow.org/guide/function#controlling_retracing and https://www.tensorflow.org/api_docs/python/tf/function for  more details.\n",
      "\u001b[1m3/3\u001b[0m \u001b[32m━━━━━━━━━━━━━━━━━━━━\u001b[0m\u001b[37m\u001b[0m \u001b[1m0s\u001b[0m 8ms/step \n",
      "Test MSE: 72.91401161003891\n",
      "Test R2 Score: 0.16233189893520783\n"
     ]
    }
   ],
   "source": [
    "# Predictions\n",
    "y_pred = model.predict(X_test)\n",
    "\n",
    "# Calculate MSE and R2\n",
    "mse = mean_squared_error(y_test, y_pred)\n",
    "r2 = r2_score(y_test, y_pred)\n",
    "print(f'Test MSE: {mse}')\n",
    "print(f'Test R2 Score: {r2}')"
   ]
  },
  {
   "cell_type": "code",
   "execution_count": 54,
   "metadata": {},
   "outputs": [
    {
     "data": {
      "image/png": "[encoded data removed]",
      "text/plain": [
       "<Figure size 640x480 with 1 Axes>"
      ]
     },
     "metadata": {},
     "output_type": "display_data"
    }
   ],
   "source": [
    "plt.plot(history.history['mae'], label='MAE (train)')\n",
    "plt.plot(history.history['val_mae'], label='MAE (validation)')\n",
    "plt.xlabel('Epochs')\n",
    "plt.ylabel('MAE')\n",
    "plt.legend()\n",
    "plt.show()"
   ]
  },
  {
   "cell_type": "markdown",
   "metadata": {},
   "source": [
    "## Final MSE and R2"
   ]
  },
  {
   "cell_type": "markdown",
   "metadata": {},
   "source": [
    "| Match Type | MSE                     | R²                   |\n",
    "|------------|------------------------|------------------------|\n",
    "| ODI        |   75.112 |   0.2903|\n",
    "| Test       |   138.312|    0.1292|\n",
    "| T20        |   72.914 |   0.1623|"
   ]
  },
  {
   "cell_type": "code",
   "execution_count": null,
   "metadata": {},
   "outputs": [],
   "source": []
  }
 ],
 "metadata": {
  "kernelspec": {
   "display_name": ".venv",
   "language": "python",
   "name": "python3"
  },
  "language_info": {
   "codemirror_mode": {
    "name": "ipython",
    "version": 3
   },
   "file_extension": ".py",
   "mimetype": "text/x-python",
   "name": "python",
   "nbconvert_exporter": "python",
   "pygments_lexer": "ipython3",
   "version": "3.12.7"
  }
 },
 "nbformat": 4,
 "nbformat_minor": 2
}
