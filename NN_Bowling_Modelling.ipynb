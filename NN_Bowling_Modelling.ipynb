{
 "cells": [
  {
   "cell_type": "markdown",
   "metadata": {},
   "source": [
    "# Predicting the Batting Average"
   ]
  },
  {
   "cell_type": "code",
   "execution_count": 1,
   "metadata": {},
   "outputs": [],
   "source": [
    "import pandas as pd\n",
    "import numpy as np\n",
    "import matplotlib.pyplot as plt\n",
    "import seaborn as sns"
   ]
  },
  {
   "cell_type": "markdown",
   "metadata": {},
   "source": [
    "## ODI Bowling Average"
   ]
  },
  {
   "cell_type": "code",
   "execution_count": 2,
   "metadata": {},
   "outputs": [
    {
     "data": {
      "text/html": [
       "<div>\n",
       "<style scoped>\n",
       "    .dataframe tbody tr th:only-of-type {\n",
       "        vertical-align: middle;\n",
       "    }\n",
       "\n",
       "    .dataframe tbody tr th {\n",
       "        vertical-align: top;\n",
       "    }\n",
       "\n",
       "    .dataframe thead th {\n",
       "        text-align: right;\n",
       "    }\n",
       "</style>\n",
       "<table border=\"1\" class=\"dataframe\">\n",
       "  <thead>\n",
       "    <tr style=\"text-align: right;\">\n",
       "      <th></th>\n",
       "      <th>Bowling Style</th>\n",
       "      <th>Innings_T20_bowling</th>\n",
       "      <th>Innings_Test_bowling</th>\n",
       "      <th>Balls_Test</th>\n",
       "      <th>Runs_T20_bowling</th>\n",
       "      <th>Runs_Test_bowling</th>\n",
       "      <th>Wickets_T20</th>\n",
       "      <th>Wickets_Test</th>\n",
       "      <th>BBI_T20</th>\n",
       "      <th>BBI_Test</th>\n",
       "      <th>...</th>\n",
       "      <th>5_Test</th>\n",
       "      <th>10_Test</th>\n",
       "      <th>T20_Matches</th>\n",
       "      <th>Test_Matches</th>\n",
       "      <th>Country</th>\n",
       "      <th>SpanStart_Test</th>\n",
       "      <th>SpanStart_T20</th>\n",
       "      <th>Bowling Hand</th>\n",
       "      <th>AgeStart_Test</th>\n",
       "      <th>AgeStart_T20</th>\n",
       "    </tr>\n",
       "  </thead>\n",
       "  <tbody>\n",
       "    <tr>\n",
       "      <th>0</th>\n",
       "      <td>1</td>\n",
       "      <td>33</td>\n",
       "      <td>12</td>\n",
       "      <td>1385</td>\n",
       "      <td>965</td>\n",
       "      <td>819</td>\n",
       "      <td>30</td>\n",
       "      <td>33</td>\n",
       "      <td>0.083333</td>\n",
       "      <td>0.052174</td>\n",
       "      <td>...</td>\n",
       "      <td>4</td>\n",
       "      <td>0</td>\n",
       "      <td>33</td>\n",
       "      <td>6</td>\n",
       "      <td>6</td>\n",
       "      <td>2018</td>\n",
       "      <td>2012</td>\n",
       "      <td>1</td>\n",
       "      <td>24.819178</td>\n",
       "      <td>18.819178</td>\n",
       "    </tr>\n",
       "    <tr>\n",
       "      <th>1</th>\n",
       "      <td>1</td>\n",
       "      <td>10</td>\n",
       "      <td>40</td>\n",
       "      <td>5103</td>\n",
       "      <td>240</td>\n",
       "      <td>2715</td>\n",
       "      <td>16</td>\n",
       "      <td>76</td>\n",
       "      <td>0.125000</td>\n",
       "      <td>0.070423</td>\n",
       "      <td>...</td>\n",
       "      <td>1</td>\n",
       "      <td>0</td>\n",
       "      <td>10</td>\n",
       "      <td>22</td>\n",
       "      <td>7</td>\n",
       "      <td>2008</td>\n",
       "      <td>2010</td>\n",
       "      <td>1</td>\n",
       "      <td>25.679452</td>\n",
       "      <td>27.679452</td>\n",
       "    </tr>\n",
       "    <tr>\n",
       "      <th>2</th>\n",
       "      <td>1</td>\n",
       "      <td>12</td>\n",
       "      <td>2</td>\n",
       "      <td>420</td>\n",
       "      <td>289</td>\n",
       "      <td>277</td>\n",
       "      <td>4</td>\n",
       "      <td>2</td>\n",
       "      <td>0.071429</td>\n",
       "      <td>0.011765</td>\n",
       "      <td>...</td>\n",
       "      <td>0</td>\n",
       "      <td>0</td>\n",
       "      <td>12</td>\n",
       "      <td>2</td>\n",
       "      <td>9</td>\n",
       "      <td>2020</td>\n",
       "      <td>2019</td>\n",
       "      <td>0</td>\n",
       "      <td>24.506849</td>\n",
       "      <td>23.506849</td>\n",
       "    </tr>\n",
       "    <tr>\n",
       "      <th>3</th>\n",
       "      <td>0</td>\n",
       "      <td>2</td>\n",
       "      <td>69</td>\n",
       "      <td>7630</td>\n",
       "      <td>42</td>\n",
       "      <td>3919</td>\n",
       "      <td>2</td>\n",
       "      <td>123</td>\n",
       "      <td>0.105263</td>\n",
       "      <td>0.187500</td>\n",
       "      <td>...</td>\n",
       "      <td>3</td>\n",
       "      <td>1</td>\n",
       "      <td>2</td>\n",
       "      <td>36</td>\n",
       "      <td>8</td>\n",
       "      <td>2001</td>\n",
       "      <td>2005</td>\n",
       "      <td>1</td>\n",
       "      <td>24.038356</td>\n",
       "      <td>28.038356</td>\n",
       "    </tr>\n",
       "    <tr>\n",
       "      <th>4</th>\n",
       "      <td>0</td>\n",
       "      <td>41</td>\n",
       "      <td>32</td>\n",
       "      <td>3057</td>\n",
       "      <td>1016</td>\n",
       "      <td>1870</td>\n",
       "      <td>53</td>\n",
       "      <td>70</td>\n",
       "      <td>0.571429</td>\n",
       "      <td>0.107143</td>\n",
       "      <td>...</td>\n",
       "      <td>4</td>\n",
       "      <td>0</td>\n",
       "      <td>42</td>\n",
       "      <td>19</td>\n",
       "      <td>8</td>\n",
       "      <td>2019</td>\n",
       "      <td>2019</td>\n",
       "      <td>1</td>\n",
       "      <td>25.701370</td>\n",
       "      <td>25.701370</td>\n",
       "    </tr>\n",
       "  </tbody>\n",
       "</table>\n",
       "<p>5 rows × 29 columns</p>\n",
       "</div>"
      ],
      "text/plain": [
       "   Bowling Style  Innings_T20_bowling  Innings_Test_bowling  Balls_Test  \\\n",
       "0              1                   33                    12        1385   \n",
       "1              1                   10                    40        5103   \n",
       "2              1                   12                     2         420   \n",
       "3              0                    2                    69        7630   \n",
       "4              0                   41                    32        3057   \n",
       "\n",
       "   Runs_T20_bowling  Runs_Test_bowling  Wickets_T20  Wickets_Test   BBI_T20  \\\n",
       "0               965                819           30            33  0.083333   \n",
       "1               240               2715           16            76  0.125000   \n",
       "2               289                277            4             2  0.071429   \n",
       "3                42               3919            2           123  0.105263   \n",
       "4              1016               1870           53            70  0.571429   \n",
       "\n",
       "   BBI_Test  ...  5_Test  10_Test  T20_Matches  Test_Matches  Country  \\\n",
       "0  0.052174  ...       4        0           33             6        6   \n",
       "1  0.070423  ...       1        0           10            22        7   \n",
       "2  0.011765  ...       0        0           12             2        9   \n",
       "3  0.187500  ...       3        1            2            36        8   \n",
       "4  0.107143  ...       4        0           42            19        8   \n",
       "\n",
       "   SpanStart_Test  SpanStart_T20  Bowling Hand  AgeStart_Test  AgeStart_T20  \n",
       "0            2018           2012             1      24.819178     18.819178  \n",
       "1            2008           2010             1      25.679452     27.679452  \n",
       "2            2020           2019             0      24.506849     23.506849  \n",
       "3            2001           2005             1      24.038356     28.038356  \n",
       "4            2019           2019             1      25.701370     25.701370  \n",
       "\n",
       "[5 rows x 29 columns]"
      ]
     },
     "execution_count": 2,
     "metadata": {},
     "output_type": "execute_result"
    }
   ],
   "source": [
    "df = pd.read_csv('Data/Final/odi_bowl_processed_data.csv')\n",
    "df.head()"
   ]
  },
  {
   "cell_type": "code",
   "execution_count": 3,
   "metadata": {},
   "outputs": [],
   "source": [
    "X = df.drop('Ave_ODI_bowling', axis = 1)"
   ]
  },
  {
   "cell_type": "code",
   "execution_count": 4,
   "metadata": {},
   "outputs": [],
   "source": [
    "y = df['Ave_ODI_bowling']"
   ]
  },
  {
   "cell_type": "markdown",
   "metadata": {},
   "source": [
    "##### Dropping with correlation"
   ]
  },
  {
   "cell_type": "code",
   "execution_count": 5,
   "metadata": {},
   "outputs": [
    {
     "data": {
      "image/png": "[encoded data removed]",
      "text/plain": [
       "<Figure size 640x480 with 2 Axes>"
      ]
     },
     "metadata": {},
     "output_type": "display_data"
    }
   ],
   "source": [
    "cor = X.corr()\n",
    "sns.heatmap(cor, annot = False, cmap = plt.cm.CMRmap_r)\n",
    "plt.show()"
   ]
  },
  {
   "cell_type": "code",
   "execution_count": 6,
   "metadata": {},
   "outputs": [],
   "source": [
    "# Select upper triangle of correlation matrix\n",
    "upper = cor.where(np.triu(np.ones(cor.shape), k=1).astype(bool))"
   ]
  },
  {
   "cell_type": "code",
   "execution_count": 7,
   "metadata": {},
   "outputs": [],
   "source": [
    "# Find features with correlation greater than 0.8\n",
    "highly_correlated = [column for column in upper.columns if any(upper[column] > 0.8)]"
   ]
  },
  {
   "cell_type": "code",
   "execution_count": 8,
   "metadata": {},
   "outputs": [
    {
     "data": {
      "text/plain": [
       "['Balls_Test',\n",
       " 'Runs_T20_bowling',\n",
       " 'Runs_Test_bowling',\n",
       " 'Wickets_T20',\n",
       " 'Wickets_Test',\n",
       " 'SR_T20_bowling',\n",
       " 'SR_Test_bowling',\n",
       " '5_Test',\n",
       " '10_Test',\n",
       " 'T20_Matches',\n",
       " 'Test_Matches',\n",
       " 'SpanStart_T20']"
      ]
     },
     "execution_count": 8,
     "metadata": {},
     "output_type": "execute_result"
    }
   ],
   "source": [
    "highly_correlated"
   ]
  },
  {
   "cell_type": "code",
   "execution_count": 9,
   "metadata": {},
   "outputs": [],
   "source": [
    "# Drop highly correlated features\n",
    "X = X.drop(columns=highly_correlated)"
   ]
  },
  {
   "cell_type": "code",
   "execution_count": 10,
   "metadata": {},
   "outputs": [],
   "source": [
    "import tensorflow as tf\n",
    "from tensorflow import keras\n",
    "from sklearn.model_selection import train_test_split\n",
    "from sklearn.preprocessing import StandardScaler\n",
    "from sklearn.metrics import mean_squared_error, r2_score\n",
    "from sklearn.decomposition import PCA"
   ]
  },
  {
   "cell_type": "code",
   "execution_count": 11,
   "metadata": {},
   "outputs": [],
   "source": [
    "X_train, X_test, y_train, y_test = train_test_split(X, y, test_size=0.2, random_state=42)"
   ]
  },
  {
   "cell_type": "code",
   "execution_count": 12,
   "metadata": {},
   "outputs": [],
   "source": [
    "scaler = StandardScaler()\n",
    "X_train = scaler.fit_transform(X_train)\n",
    "X_test = scaler.transform(X_test)"
   ]
  },
  {
   "cell_type": "code",
   "execution_count": 13,
   "metadata": {},
   "outputs": [],
   "source": [
    "pca = PCA(n_components=0.95)  # Retain 95% variance\n",
    "X_train = pca.fit_transform(X_train)\n",
    "X_test = pca.transform(X_test)"
   ]
  },
  {
   "cell_type": "code",
   "execution_count": 14,
   "metadata": {},
   "outputs": [
    {
     "name": "stderr",
     "output_type": "stream",
     "text": [
      "/Users/henil08/College/Projects/Cricket-all-format/.venv/lib/python3.12/site-packages/keras/src/layers/core/dense.py:87: UserWarning: Do not pass an `input_shape`/`input_dim` argument to a layer. When using Sequential models, prefer using an `Input(shape)` object as the first layer in the model instead.\n",
      "  super().__init__(activity_regularizer=activity_regularizer, **kwargs)\n"
     ]
    }
   ],
   "source": [
    "model = keras.Sequential([\n",
    "    keras.layers.Dense(64, activation='relu', input_shape=(X_train.shape[1],)),\n",
    "    keras.layers.Dense(32, activation='relu'),\n",
    "    keras.layers.Dense(1)  # Regression output\n",
    "])"
   ]
  },
  {
   "cell_type": "code",
   "execution_count": 15,
   "metadata": {},
   "outputs": [],
   "source": [
    "model.compile(optimizer='adam', loss='mse', metrics=['mae'])"
   ]
  },
  {
   "cell_type": "code",
   "execution_count": 16,
   "metadata": {},
   "outputs": [],
   "source": [
    "early_stopping = keras.callbacks.EarlyStopping(monitor='val_loss', patience=20, restore_best_weights=True)\n",
    "reduce_lr = keras.callbacks.ReduceLROnPlateau(monitor='val_loss', factor=0.5, patience=10, verbose=1)"
   ]
  },
  {
   "cell_type": "code",
   "execution_count": 17,
   "metadata": {},
   "outputs": [
    {
     "name": "stdout",
     "output_type": "stream",
     "text": [
      "Epoch 1/300\n",
      "\u001b[1m18/18\u001b[0m \u001b[32m━━━━━━━━━━━━━━━━━━━━\u001b[0m\u001b[37m\u001b[0m \u001b[1m0s\u001b[0m 5ms/step - loss: 1566.7728 - mae: 35.7463 - val_loss: 1446.2449 - val_mae: 35.8532 - learning_rate: 0.0010\n",
      "Epoch 2/300\n",
      "\u001b[1m18/18\u001b[0m \u001b[32m━━━━━━━━━━━━━━━━━━━━\u001b[0m\u001b[37m\u001b[0m \u001b[1m0s\u001b[0m 2ms/step - loss: 1253.7451 - mae: 33.2658 - val_loss: 1384.7737 - val_mae: 35.0493 - learning_rate: 0.0010\n",
      "Epoch 3/300\n",
      "\u001b[1m18/18\u001b[0m \u001b[32m━━━━━━━━━━━━━━━━━━━━\u001b[0m\u001b[37m\u001b[0m \u001b[1m0s\u001b[0m 2ms/step - loss: 1464.7506 - mae: 35.4020 - val_loss: 1299.5732 - val_mae: 33.8920 - learning_rate: 0.0010\n",
      "Epoch 4/300\n",
      "\u001b[1m18/18\u001b[0m \u001b[32m━━━━━━━━━━━━━━━━━━━━\u001b[0m\u001b[37m\u001b[0m \u001b[1m0s\u001b[0m 2ms/step - loss: 1238.6522 - mae: 32.5997 - val_loss: 1182.1448 - val_mae: 32.2085 - learning_rate: 0.0010\n",
      "Epoch 5/300\n",
      "\u001b[1m18/18\u001b[0m \u001b[32m━━━━━━━━━━━━━━━━━━━━\u001b[0m\u001b[37m\u001b[0m \u001b[1m0s\u001b[0m 2ms/step - loss: 1109.2389 - mae: 30.6667 - val_loss: 1028.5580 - val_mae: 29.8213 - learning_rate: 0.0010\n",
      "Epoch 6/300\n",
      "\u001b[1m18/18\u001b[0m \u001b[32m━━━━━━━━━━━━━━━━━━━━\u001b[0m\u001b[37m\u001b[0m \u001b[1m0s\u001b[0m 1ms/step - loss: 982.8010 - mae: 28.1528 - val_loss: 848.5071 - val_mae: 26.6789 - learning_rate: 0.0010\n",
      "Epoch 7/300\n",
      "\u001b[1m18/18\u001b[0m \u001b[32m━━━━━━━━━━━━━━━━━━━━\u001b[0m\u001b[37m\u001b[0m \u001b[1m0s\u001b[0m 2ms/step - loss: 756.0027 - mae: 23.9957 - val_loss: 656.8855 - val_mae: 22.7875 - learning_rate: 0.0010\n",
      "Epoch 8/300\n",
      "\u001b[1m18/18\u001b[0m \u001b[32m━━━━━━━━━━━━━━━━━━━━\u001b[0m\u001b[37m\u001b[0m \u001b[1m0s\u001b[0m 2ms/step - loss: 579.1279 - mae: 20.7093 - val_loss: 485.0751 - val_mae: 18.6516 - learning_rate: 0.0010\n",
      "Epoch 9/300\n",
      "\u001b[1m18/18\u001b[0m \u001b[32m━━━━━━━━━━━━━━━━━━━━\u001b[0m\u001b[37m\u001b[0m \u001b[1m0s\u001b[0m 2ms/step - loss: 518.7229 - mae: 17.0595 - val_loss: 357.7065 - val_mae: 15.0802 - learning_rate: 0.0010\n",
      "Epoch 10/300\n",
      "\u001b[1m18/18\u001b[0m \u001b[32m━━━━━━━━━━━━━━━━━━━━\u001b[0m\u001b[37m\u001b[0m \u001b[1m0s\u001b[0m 2ms/step - loss: 367.8603 - mae: 13.5060 - val_loss: 288.8619 - val_mae: 12.7602 - learning_rate: 0.0010\n",
      "Epoch 11/300\n",
      "\u001b[1m18/18\u001b[0m \u001b[32m━━━━━━━━━━━━━━━━━━━━\u001b[0m\u001b[37m\u001b[0m \u001b[1m0s\u001b[0m 2ms/step - loss: 218.7389 - mae: 10.9245 - val_loss: 266.8797 - val_mae: 11.8444 - learning_rate: 0.0010\n",
      "Epoch 12/300\n",
      "\u001b[1m18/18\u001b[0m \u001b[32m━━━━━━━━━━━━━━━━━━━━\u001b[0m\u001b[37m\u001b[0m \u001b[1m0s\u001b[0m 2ms/step - loss: 242.4842 - mae: 10.3437 - val_loss: 252.9591 - val_mae: 11.4186 - learning_rate: 0.0010\n",
      "Epoch 13/300\n",
      "\u001b[1m18/18\u001b[0m \u001b[32m━━━━━━━━━━━━━━━━━━━━\u001b[0m\u001b[37m\u001b[0m \u001b[1m0s\u001b[0m 2ms/step - loss: 214.8615 - mae: 9.4725 - val_loss: 248.1353 - val_mae: 11.2716 - learning_rate: 0.0010\n",
      "Epoch 14/300\n",
      "\u001b[1m18/18\u001b[0m \u001b[32m━━━━━━━━━━━━━━━━━━━━\u001b[0m\u001b[37m\u001b[0m \u001b[1m0s\u001b[0m 2ms/step - loss: 245.6336 - mae: 10.4079 - val_loss: 249.6458 - val_mae: 11.2921 - learning_rate: 0.0010\n",
      "Epoch 15/300\n",
      "\u001b[1m18/18\u001b[0m \u001b[32m━━━━━━━━━━━━━━━━━━━━\u001b[0m\u001b[37m\u001b[0m \u001b[1m0s\u001b[0m 2ms/step - loss: 190.5122 - mae: 9.6589 - val_loss: 243.7746 - val_mae: 11.1178 - learning_rate: 0.0010\n",
      "Epoch 16/300\n",
      "\u001b[1m18/18\u001b[0m \u001b[32m━━━━━━━━━━━━━━━━━━━━\u001b[0m\u001b[37m\u001b[0m \u001b[1m0s\u001b[0m 1ms/step - loss: 188.3272 - mae: 9.6561 - val_loss: 240.0805 - val_mae: 11.0143 - learning_rate: 0.0010\n",
      "Epoch 17/300\n",
      "\u001b[1m18/18\u001b[0m \u001b[32m━━━━━━━━━━━━━━━━━━━━\u001b[0m\u001b[37m\u001b[0m \u001b[1m0s\u001b[0m 2ms/step - loss: 216.6330 - mae: 9.6283 - val_loss: 237.2416 - val_mae: 10.9412 - learning_rate: 0.0010\n",
      "Epoch 18/300\n",
      "\u001b[1m18/18\u001b[0m \u001b[32m━━━━━━━━━━━━━━━━━━━━\u001b[0m\u001b[37m\u001b[0m \u001b[1m0s\u001b[0m 2ms/step - loss: 174.1726 - mae: 9.0800 - val_loss: 237.2175 - val_mae: 10.9519 - learning_rate: 0.0010\n",
      "Epoch 19/300\n",
      "\u001b[1m18/18\u001b[0m \u001b[32m━━━━━━━━━━━━━━━━━━━━\u001b[0m\u001b[37m\u001b[0m \u001b[1m0s\u001b[0m 2ms/step - loss: 204.5597 - mae: 9.7844 - val_loss: 235.0255 - val_mae: 10.9050 - learning_rate: 0.0010\n",
      "Epoch 20/300\n",
      "\u001b[1m18/18\u001b[0m \u001b[32m━━━━━━━━━━━━━━━━━━━━\u001b[0m\u001b[37m\u001b[0m \u001b[1m0s\u001b[0m 2ms/step - loss: 165.7350 - mae: 8.9483 - val_loss: 234.7806 - val_mae: 10.8798 - learning_rate: 0.0010\n",
      "Epoch 21/300\n",
      "\u001b[1m18/18\u001b[0m \u001b[32m━━━━━━━━━━━━━━━━━━━━\u001b[0m\u001b[37m\u001b[0m \u001b[1m0s\u001b[0m 1ms/step - loss: 191.9156 - mae: 9.2556 - val_loss: 234.9733 - val_mae: 10.8599 - learning_rate: 0.0010\n",
      "Epoch 22/300\n",
      "\u001b[1m18/18\u001b[0m \u001b[32m━━━━━━━━━━━━━━━━━━━━\u001b[0m\u001b[37m\u001b[0m \u001b[1m0s\u001b[0m 1ms/step - loss: 223.6174 - mae: 10.0120 - val_loss: 232.4934 - val_mae: 10.8164 - learning_rate: 0.0010\n",
      "Epoch 23/300\n",
      "\u001b[1m18/18\u001b[0m \u001b[32m━━━━━━━━━━━━━━━━━━━━\u001b[0m\u001b[37m\u001b[0m \u001b[1m0s\u001b[0m 2ms/step - loss: 179.5168 - mae: 9.1418 - val_loss: 232.5761 - val_mae: 10.7892 - learning_rate: 0.0010\n",
      "Epoch 24/300\n",
      "\u001b[1m18/18\u001b[0m \u001b[32m━━━━━━━━━━━━━━━━━━━━\u001b[0m\u001b[37m\u001b[0m \u001b[1m0s\u001b[0m 2ms/step - loss: 196.9919 - mae: 9.5595 - val_loss: 232.9999 - val_mae: 10.8029 - learning_rate: 0.0010\n",
      "Epoch 25/300\n",
      "\u001b[1m18/18\u001b[0m \u001b[32m━━━━━━━━━━━━━━━━━━━━\u001b[0m\u001b[37m\u001b[0m \u001b[1m0s\u001b[0m 2ms/step - loss: 202.3224 - mae: 9.4006 - val_loss: 232.5276 - val_mae: 10.7736 - learning_rate: 0.0010\n",
      "Epoch 26/300\n",
      "\u001b[1m18/18\u001b[0m \u001b[32m━━━━━━━━━━━━━━━━━━━━\u001b[0m\u001b[37m\u001b[0m \u001b[1m0s\u001b[0m 2ms/step - loss: 193.0347 - mae: 9.2324 - val_loss: 229.4262 - val_mae: 10.7377 - learning_rate: 0.0010\n",
      "Epoch 27/300\n",
      "\u001b[1m18/18\u001b[0m \u001b[32m━━━━━━━━━━━━━━━━━━━━\u001b[0m\u001b[37m\u001b[0m \u001b[1m0s\u001b[0m 1ms/step - loss: 182.5908 - mae: 9.2479 - val_loss: 231.0136 - val_mae: 10.7515 - learning_rate: 0.0010\n",
      "Epoch 28/300\n",
      "\u001b[1m18/18\u001b[0m \u001b[32m━━━━━━━━━━━━━━━━━━━━\u001b[0m\u001b[37m\u001b[0m \u001b[1m0s\u001b[0m 1ms/step - loss: 166.9719 - mae: 9.0731 - val_loss: 231.1373 - val_mae: 10.7025 - learning_rate: 0.0010\n",
      "Epoch 29/300\n",
      "\u001b[1m18/18\u001b[0m \u001b[32m━━━━━━━━━━━━━━━━━━━━\u001b[0m\u001b[37m\u001b[0m \u001b[1m0s\u001b[0m 1ms/step - loss: 195.1629 - mae: 9.0655 - val_loss: 230.2501 - val_mae: 10.6787 - learning_rate: 0.0010\n",
      "Epoch 30/300\n",
      "\u001b[1m18/18\u001b[0m \u001b[32m━━━━━━━━━━━━━━━━━━━━\u001b[0m\u001b[37m\u001b[0m \u001b[1m0s\u001b[0m 1ms/step - loss: 185.8724 - mae: 9.4310 - val_loss: 228.9920 - val_mae: 10.6555 - learning_rate: 0.0010\n",
      "Epoch 31/300\n",
      "\u001b[1m18/18\u001b[0m \u001b[32m━━━━━━━━━━━━━━━━━━━━\u001b[0m\u001b[37m\u001b[0m \u001b[1m0s\u001b[0m 2ms/step - loss: 194.6804 - mae: 9.1512 - val_loss: 225.9811 - val_mae: 10.5849 - learning_rate: 0.0010\n",
      "Epoch 32/300\n",
      "\u001b[1m18/18\u001b[0m \u001b[32m━━━━━━━━━━━━━━━━━━━━\u001b[0m\u001b[37m\u001b[0m \u001b[1m0s\u001b[0m 2ms/step - loss: 146.0750 - mae: 8.4318 - val_loss: 225.5082 - val_mae: 10.5679 - learning_rate: 0.0010\n",
      "Epoch 33/300\n",
      "\u001b[1m18/18\u001b[0m \u001b[32m━━━━━━━━━━━━━━━━━━━━\u001b[0m\u001b[37m\u001b[0m \u001b[1m0s\u001b[0m 2ms/step - loss: 156.0001 - mae: 8.4773 - val_loss: 225.9177 - val_mae: 10.5445 - learning_rate: 0.0010\n",
      "Epoch 34/300\n",
      "\u001b[1m18/18\u001b[0m \u001b[32m━━━━━━━━━━━━━━━━━━━━\u001b[0m\u001b[37m\u001b[0m \u001b[1m0s\u001b[0m 1ms/step - loss: 161.2755 - mae: 8.8643 - val_loss: 224.1689 - val_mae: 10.5037 - learning_rate: 0.0010\n",
      "Epoch 35/300\n",
      "\u001b[1m18/18\u001b[0m \u001b[32m━━━━━━━━━━━━━━━━━━━━\u001b[0m\u001b[37m\u001b[0m \u001b[1m0s\u001b[0m 2ms/step - loss: 166.8146 - mae: 8.6025 - val_loss: 224.6564 - val_mae: 10.5159 - learning_rate: 0.0010\n",
      "Epoch 36/300\n",
      "\u001b[1m18/18\u001b[0m \u001b[32m━━━━━━━━━━━━━━━━━━━━\u001b[0m\u001b[37m\u001b[0m \u001b[1m0s\u001b[0m 2ms/step - loss: 174.4708 - mae: 9.2447 - val_loss: 226.3815 - val_mae: 10.5661 - learning_rate: 0.0010\n",
      "Epoch 37/300\n",
      "\u001b[1m18/18\u001b[0m \u001b[32m━━━━━━━━━━━━━━━━━━━━\u001b[0m\u001b[37m\u001b[0m \u001b[1m0s\u001b[0m 2ms/step - loss: 181.1649 - mae: 9.1897 - val_loss: 223.0697 - val_mae: 10.4667 - learning_rate: 0.0010\n",
      "Epoch 38/300\n",
      "\u001b[1m18/18\u001b[0m \u001b[32m━━━━━━━━━━━━━━━━━━━━\u001b[0m\u001b[37m\u001b[0m \u001b[1m0s\u001b[0m 2ms/step - loss: 165.7509 - mae: 8.7953 - val_loss: 222.4046 - val_mae: 10.3890 - learning_rate: 0.0010\n",
      "Epoch 39/300\n",
      "\u001b[1m18/18\u001b[0m \u001b[32m━━━━━━━━━━━━━━━━━━━━\u001b[0m\u001b[37m\u001b[0m \u001b[1m0s\u001b[0m 6ms/step - loss: 153.6743 - mae: 8.2229 - val_loss: 221.8530 - val_mae: 10.3896 - learning_rate: 0.0010\n",
      "Epoch 40/300\n",
      "\u001b[1m18/18\u001b[0m \u001b[32m━━━━━━━━━━━━━━━━━━━━\u001b[0m\u001b[37m\u001b[0m \u001b[1m0s\u001b[0m 2ms/step - loss: 164.9778 - mae: 8.8774 - val_loss: 220.3555 - val_mae: 10.4345 - learning_rate: 0.0010\n",
      "Epoch 41/300\n",
      "\u001b[1m18/18\u001b[0m \u001b[32m━━━━━━━━━━━━━━━━━━━━\u001b[0m\u001b[37m\u001b[0m \u001b[1m0s\u001b[0m 2ms/step - loss: 148.5884 - mae: 8.3524 - val_loss: 221.1845 - val_mae: 10.4224 - learning_rate: 0.0010\n",
      "Epoch 42/300\n",
      "\u001b[1m18/18\u001b[0m \u001b[32m━━━━━━━━━━━━━━━━━━━━\u001b[0m\u001b[37m\u001b[0m \u001b[1m0s\u001b[0m 2ms/step - loss: 168.1177 - mae: 9.1528 - val_loss: 222.0363 - val_mae: 10.4724 - learning_rate: 0.0010\n",
      "Epoch 43/300\n",
      "\u001b[1m18/18\u001b[0m \u001b[32m━━━━━━━━━━━━━━━━━━━━\u001b[0m\u001b[37m\u001b[0m \u001b[1m0s\u001b[0m 2ms/step - loss: 145.9990 - mae: 8.4367 - val_loss: 220.7280 - val_mae: 10.4546 - learning_rate: 0.0010\n",
      "Epoch 44/300\n",
      "\u001b[1m18/18\u001b[0m \u001b[32m━━━━━━━━━━━━━━━━━━━━\u001b[0m\u001b[37m\u001b[0m \u001b[1m0s\u001b[0m 2ms/step - loss: 139.4401 - mae: 8.3488 - val_loss: 219.1266 - val_mae: 10.3613 - learning_rate: 0.0010\n",
      "Epoch 45/300\n",
      "\u001b[1m18/18\u001b[0m \u001b[32m━━━━━━━━━━━━━━━━━━━━\u001b[0m\u001b[37m\u001b[0m \u001b[1m0s\u001b[0m 1ms/step - loss: 181.5971 - mae: 9.1709 - val_loss: 219.2562 - val_mae: 10.3415 - learning_rate: 0.0010\n",
      "Epoch 46/300\n",
      "\u001b[1m18/18\u001b[0m \u001b[32m━━━━━━━━━━━━━━━━━━━━\u001b[0m\u001b[37m\u001b[0m \u001b[1m0s\u001b[0m 1ms/step - loss: 148.9202 - mae: 8.5078 - val_loss: 220.6412 - val_mae: 10.3896 - learning_rate: 0.0010\n",
      "Epoch 47/300\n",
      "\u001b[1m18/18\u001b[0m \u001b[32m━━━━━━━━━━━━━━━━━━━━\u001b[0m\u001b[37m\u001b[0m \u001b[1m0s\u001b[0m 1ms/step - loss: 126.9083 - mae: 8.0229 - val_loss: 218.2773 - val_mae: 10.3472 - learning_rate: 0.0010\n",
      "Epoch 48/300\n",
      "\u001b[1m18/18\u001b[0m \u001b[32m━━━━━━━━━━━━━━━━━━━━\u001b[0m\u001b[37m\u001b[0m \u001b[1m0s\u001b[0m 2ms/step - loss: 157.7122 - mae: 8.4973 - val_loss: 217.2435 - val_mae: 10.2712 - learning_rate: 0.0010\n",
      "Epoch 49/300\n",
      "\u001b[1m18/18\u001b[0m \u001b[32m━━━━━━━━━━━━━━━━━━━━\u001b[0m\u001b[37m\u001b[0m \u001b[1m0s\u001b[0m 2ms/step - loss: 138.7399 - mae: 8.2157 - val_loss: 218.0727 - val_mae: 10.3153 - learning_rate: 0.0010\n",
      "Epoch 50/300\n",
      "\u001b[1m18/18\u001b[0m \u001b[32m━━━━━━━━━━━━━━━━━━━━\u001b[0m\u001b[37m\u001b[0m \u001b[1m0s\u001b[0m 2ms/step - loss: 149.7792 - mae: 8.4668 - val_loss: 217.1176 - val_mae: 10.2899 - learning_rate: 0.0010\n",
      "Epoch 51/300\n",
      "\u001b[1m18/18\u001b[0m \u001b[32m━━━━━━━━━━━━━━━━━━━━\u001b[0m\u001b[37m\u001b[0m \u001b[1m0s\u001b[0m 2ms/step - loss: 208.0523 - mae: 9.4690 - val_loss: 219.0382 - val_mae: 10.3197 - learning_rate: 0.0010\n",
      "Epoch 52/300\n",
      "\u001b[1m18/18\u001b[0m \u001b[32m━━━━━━━━━━━━━━━━━━━━\u001b[0m\u001b[37m\u001b[0m \u001b[1m0s\u001b[0m 2ms/step - loss: 143.9380 - mae: 8.2448 - val_loss: 215.3736 - val_mae: 10.3091 - learning_rate: 0.0010\n",
      "Epoch 53/300\n",
      "\u001b[1m18/18\u001b[0m \u001b[32m━━━━━━━━━━━━━━━━━━━━\u001b[0m\u001b[37m\u001b[0m \u001b[1m0s\u001b[0m 1ms/step - loss: 137.2096 - mae: 8.1198 - val_loss: 216.5203 - val_mae: 10.2596 - learning_rate: 0.0010\n",
      "Epoch 54/300\n",
      "\u001b[1m18/18\u001b[0m \u001b[32m━━━━━━━━━━━━━━━━━━━━\u001b[0m\u001b[37m\u001b[0m \u001b[1m0s\u001b[0m 1ms/step - loss: 153.4897 - mae: 8.3833 - val_loss: 215.9750 - val_mae: 10.2340 - learning_rate: 0.0010\n",
      "Epoch 55/300\n",
      "\u001b[1m18/18\u001b[0m \u001b[32m━━━━━━━━━━━━━━━━━━━━\u001b[0m\u001b[37m\u001b[0m \u001b[1m0s\u001b[0m 1ms/step - loss: 166.6339 - mae: 8.7897 - val_loss: 216.1671 - val_mae: 10.3251 - learning_rate: 0.0010\n",
      "Epoch 56/300\n",
      "\u001b[1m18/18\u001b[0m \u001b[32m━━━━━━━━━━━━━━━━━━━━\u001b[0m\u001b[37m\u001b[0m \u001b[1m0s\u001b[0m 1ms/step - loss: 128.7775 - mae: 8.3140 - val_loss: 217.2967 - val_mae: 10.2885 - learning_rate: 0.0010\n",
      "Epoch 57/300\n",
      "\u001b[1m18/18\u001b[0m \u001b[32m━━━━━━━━━━━━━━━━━━━━\u001b[0m\u001b[37m\u001b[0m \u001b[1m0s\u001b[0m 2ms/step - loss: 166.2265 - mae: 8.5483 - val_loss: 215.4087 - val_mae: 10.2179 - learning_rate: 0.0010\n",
      "Epoch 58/300\n",
      "\u001b[1m18/18\u001b[0m \u001b[32m━━━━━━━━━━━━━━━━━━━━\u001b[0m\u001b[37m\u001b[0m \u001b[1m0s\u001b[0m 2ms/step - loss: 130.1989 - mae: 7.9696 - val_loss: 215.9791 - val_mae: 10.2667 - learning_rate: 0.0010\n",
      "Epoch 59/300\n",
      "\u001b[1m18/18\u001b[0m \u001b[32m━━━━━━━━━━━━━━━━━━━━\u001b[0m\u001b[37m\u001b[0m \u001b[1m0s\u001b[0m 2ms/step - loss: 192.1919 - mae: 9.3791 - val_loss: 214.6241 - val_mae: 10.2653 - learning_rate: 0.0010\n",
      "Epoch 60/300\n",
      "\u001b[1m18/18\u001b[0m \u001b[32m━━━━━━━━━━━━━━━━━━━━\u001b[0m\u001b[37m\u001b[0m \u001b[1m0s\u001b[0m 2ms/step - loss: 175.5907 - mae: 8.5238 - val_loss: 214.9476 - val_mae: 10.2059 - learning_rate: 0.0010\n",
      "Epoch 61/300\n",
      "\u001b[1m18/18\u001b[0m \u001b[32m━━━━━━━━━━━━━━━━━━━━\u001b[0m\u001b[37m\u001b[0m \u001b[1m0s\u001b[0m 2ms/step - loss: 134.4438 - mae: 7.7522 - val_loss: 215.0735 - val_mae: 10.3600 - learning_rate: 0.0010\n",
      "Epoch 62/300\n",
      "\u001b[1m18/18\u001b[0m \u001b[32m━━━━━━━━━━━━━━━━━━━━\u001b[0m\u001b[37m\u001b[0m \u001b[1m0s\u001b[0m 2ms/step - loss: 172.0896 - mae: 8.6639 - val_loss: 214.9250 - val_mae: 10.2194 - learning_rate: 0.0010\n",
      "Epoch 63/300\n",
      "\u001b[1m18/18\u001b[0m \u001b[32m━━━━━━━━━━━━━━━━━━━━\u001b[0m\u001b[37m\u001b[0m \u001b[1m0s\u001b[0m 2ms/step - loss: 174.8466 - mae: 8.7512 - val_loss: 214.4565 - val_mae: 10.2335 - learning_rate: 0.0010\n",
      "Epoch 64/300\n",
      "\u001b[1m18/18\u001b[0m \u001b[32m━━━━━━━━━━━━━━━━━━━━\u001b[0m\u001b[37m\u001b[0m \u001b[1m0s\u001b[0m 3ms/step - loss: 155.1188 - mae: 8.4300 - val_loss: 215.4894 - val_mae: 10.3791 - learning_rate: 0.0010\n",
      "Epoch 65/300\n",
      "\u001b[1m18/18\u001b[0m \u001b[32m━━━━━━━━━━━━━━━━━━━━\u001b[0m\u001b[37m\u001b[0m \u001b[1m0s\u001b[0m 2ms/step - loss: 135.1987 - mae: 8.2650 - val_loss: 215.2101 - val_mae: 10.2335 - learning_rate: 0.0010\n",
      "Epoch 66/300\n",
      "\u001b[1m18/18\u001b[0m \u001b[32m━━━━━━━━━━━━━━━━━━━━\u001b[0m\u001b[37m\u001b[0m \u001b[1m0s\u001b[0m 2ms/step - loss: 114.4947 - mae: 7.7544 - val_loss: 213.1255 - val_mae: 10.2609 - learning_rate: 0.0010\n",
      "Epoch 67/300\n",
      "\u001b[1m18/18\u001b[0m \u001b[32m━━━━━━━━━━━━━━━━━━━━\u001b[0m\u001b[37m\u001b[0m \u001b[1m0s\u001b[0m 2ms/step - loss: 165.8032 - mae: 8.6522 - val_loss: 212.2730 - val_mae: 10.3129 - learning_rate: 0.0010\n",
      "Epoch 68/300\n",
      "\u001b[1m18/18\u001b[0m \u001b[32m━━━━━━━━━━━━━━━━━━━━\u001b[0m\u001b[37m\u001b[0m \u001b[1m0s\u001b[0m 2ms/step - loss: 154.3420 - mae: 7.8679 - val_loss: 210.8354 - val_mae: 10.2042 - learning_rate: 0.0010\n",
      "Epoch 69/300\n",
      "\u001b[1m18/18\u001b[0m \u001b[32m━━━━━━━━━━━━━━━━━━━━\u001b[0m\u001b[37m\u001b[0m \u001b[1m0s\u001b[0m 2ms/step - loss: 125.0746 - mae: 8.0243 - val_loss: 212.6940 - val_mae: 10.2287 - learning_rate: 0.0010\n",
      "Epoch 70/300\n",
      "\u001b[1m18/18\u001b[0m \u001b[32m━━━━━━━━━━━━━━━━━━━━\u001b[0m\u001b[37m\u001b[0m \u001b[1m0s\u001b[0m 2ms/step - loss: 141.6801 - mae: 8.3203 - val_loss: 212.5547 - val_mae: 10.2639 - learning_rate: 0.0010\n",
      "Epoch 71/300\n",
      "\u001b[1m18/18\u001b[0m \u001b[32m━━━━━━━━━━━━━━━━━━━━\u001b[0m\u001b[37m\u001b[0m \u001b[1m0s\u001b[0m 2ms/step - loss: 182.5912 - mae: 8.7510 - val_loss: 210.0266 - val_mae: 10.2524 - learning_rate: 0.0010\n",
      "Epoch 72/300\n",
      "\u001b[1m18/18\u001b[0m \u001b[32m━━━━━━━━━━━━━━━━━━━━\u001b[0m\u001b[37m\u001b[0m \u001b[1m0s\u001b[0m 2ms/step - loss: 147.7941 - mae: 8.1616 - val_loss: 209.8254 - val_mae: 10.3722 - learning_rate: 0.0010\n",
      "Epoch 73/300\n",
      "\u001b[1m18/18\u001b[0m \u001b[32m━━━━━━━━━━━━━━━━━━━━\u001b[0m\u001b[37m\u001b[0m \u001b[1m0s\u001b[0m 2ms/step - loss: 138.0145 - mae: 8.0113 - val_loss: 210.1450 - val_mae: 10.1954 - learning_rate: 0.0010\n",
      "Epoch 74/300\n",
      "\u001b[1m18/18\u001b[0m \u001b[32m━━━━━━━━━━━━━━━━━━━━\u001b[0m\u001b[37m\u001b[0m \u001b[1m0s\u001b[0m 2ms/step - loss: 169.1978 - mae: 8.7096 - val_loss: 210.1097 - val_mae: 10.2501 - learning_rate: 0.0010\n",
      "Epoch 75/300\n",
      "\u001b[1m18/18\u001b[0m \u001b[32m━━━━━━━━━━━━━━━━━━━━\u001b[0m\u001b[37m\u001b[0m \u001b[1m0s\u001b[0m 2ms/step - loss: 138.0121 - mae: 7.8495 - val_loss: 209.6467 - val_mae: 10.2766 - learning_rate: 0.0010\n",
      "Epoch 76/300\n",
      "\u001b[1m18/18\u001b[0m \u001b[32m━━━━━━━━━━━━━━━━━━━━\u001b[0m\u001b[37m\u001b[0m \u001b[1m0s\u001b[0m 2ms/step - loss: 173.2961 - mae: 8.4993 - val_loss: 206.0557 - val_mae: 10.1978 - learning_rate: 0.0010\n",
      "Epoch 77/300\n",
      "\u001b[1m18/18\u001b[0m \u001b[32m━━━━━━━━━━━━━━━━━━━━\u001b[0m\u001b[37m\u001b[0m \u001b[1m0s\u001b[0m 2ms/step - loss: 167.1041 - mae: 8.4438 - val_loss: 207.0291 - val_mae: 10.2337 - learning_rate: 0.0010\n",
      "Epoch 78/300\n",
      "\u001b[1m18/18\u001b[0m \u001b[32m━━━━━━━━━━━━━━━━━━━━\u001b[0m\u001b[37m\u001b[0m \u001b[1m0s\u001b[0m 2ms/step - loss: 124.8046 - mae: 7.4367 - val_loss: 207.5426 - val_mae: 10.2979 - learning_rate: 0.0010\n",
      "Epoch 79/300\n",
      "\u001b[1m18/18\u001b[0m \u001b[32m━━━━━━━━━━━━━━━━━━━━\u001b[0m\u001b[37m\u001b[0m \u001b[1m0s\u001b[0m 1ms/step - loss: 149.5637 - mae: 8.1644 - val_loss: 205.3738 - val_mae: 10.2204 - learning_rate: 0.0010\n",
      "Epoch 80/300\n",
      "\u001b[1m18/18\u001b[0m \u001b[32m━━━━━━━━━━━━━━━━━━━━\u001b[0m\u001b[37m\u001b[0m \u001b[1m0s\u001b[0m 2ms/step - loss: 123.1932 - mae: 7.4844 - val_loss: 207.2984 - val_mae: 10.2367 - learning_rate: 0.0010\n",
      "Epoch 81/300\n",
      "\u001b[1m18/18\u001b[0m \u001b[32m━━━━━━━━━━━━━━━━━━━━\u001b[0m\u001b[37m\u001b[0m \u001b[1m0s\u001b[0m 2ms/step - loss: 105.7107 - mae: 7.1883 - val_loss: 207.0585 - val_mae: 10.3019 - learning_rate: 0.0010\n",
      "Epoch 82/300\n",
      "\u001b[1m18/18\u001b[0m \u001b[32m━━━━━━━━━━━━━━━━━━━━\u001b[0m\u001b[37m\u001b[0m \u001b[1m0s\u001b[0m 2ms/step - loss: 123.9768 - mae: 7.9462 - val_loss: 206.4332 - val_mae: 10.2241 - learning_rate: 0.0010\n",
      "Epoch 83/300\n",
      "\u001b[1m18/18\u001b[0m \u001b[32m━━━━━━━━━━━━━━━━━━━━\u001b[0m\u001b[37m\u001b[0m \u001b[1m0s\u001b[0m 2ms/step - loss: 153.5986 - mae: 8.1937 - val_loss: 202.7690 - val_mae: 10.2490 - learning_rate: 0.0010\n",
      "Epoch 84/300\n",
      "\u001b[1m18/18\u001b[0m \u001b[32m━━━━━━━━━━━━━━━━━━━━\u001b[0m\u001b[37m\u001b[0m \u001b[1m0s\u001b[0m 2ms/step - loss: 112.0736 - mae: 7.2589 - val_loss: 205.7019 - val_mae: 10.3135 - learning_rate: 0.0010\n",
      "Epoch 85/300\n",
      "\u001b[1m18/18\u001b[0m \u001b[32m━━━━━━━━━━━━━━━━━━━━\u001b[0m\u001b[37m\u001b[0m \u001b[1m0s\u001b[0m 1ms/step - loss: 135.6712 - mae: 7.4419 - val_loss: 203.6282 - val_mae: 10.2435 - learning_rate: 0.0010\n",
      "Epoch 86/300\n",
      "\u001b[1m18/18\u001b[0m \u001b[32m━━━━━━━━━━━━━━━━━━━━\u001b[0m\u001b[37m\u001b[0m \u001b[1m0s\u001b[0m 2ms/step - loss: 119.3021 - mae: 7.4364 - val_loss: 204.6128 - val_mae: 10.3040 - learning_rate: 0.0010\n",
      "Epoch 87/300\n",
      "\u001b[1m18/18\u001b[0m \u001b[32m━━━━━━━━━━━━━━━━━━━━\u001b[0m\u001b[37m\u001b[0m \u001b[1m0s\u001b[0m 2ms/step - loss: 146.8907 - mae: 8.1018 - val_loss: 202.5511 - val_mae: 10.3721 - learning_rate: 0.0010\n",
      "Epoch 88/300\n",
      "\u001b[1m18/18\u001b[0m \u001b[32m━━━━━━━━━━━━━━━━━━━━\u001b[0m\u001b[37m\u001b[0m \u001b[1m0s\u001b[0m 2ms/step - loss: 133.6401 - mae: 7.8937 - val_loss: 203.7049 - val_mae: 10.2757 - learning_rate: 0.0010\n",
      "Epoch 89/300\n",
      "\u001b[1m18/18\u001b[0m \u001b[32m━━━━━━━━━━━━━━━━━━━━\u001b[0m\u001b[37m\u001b[0m \u001b[1m0s\u001b[0m 2ms/step - loss: 114.3916 - mae: 7.0446 - val_loss: 203.2073 - val_mae: 10.2898 - learning_rate: 0.0010\n",
      "Epoch 90/300\n",
      "\u001b[1m18/18\u001b[0m \u001b[32m━━━━━━━━━━━━━━━━━━━━\u001b[0m\u001b[37m\u001b[0m \u001b[1m0s\u001b[0m 1ms/step - loss: 137.2126 - mae: 7.9175 - val_loss: 202.8873 - val_mae: 10.3495 - learning_rate: 0.0010\n",
      "Epoch 91/300\n",
      "\u001b[1m18/18\u001b[0m \u001b[32m━━━━━━━━━━━━━━━━━━━━\u001b[0m\u001b[37m\u001b[0m \u001b[1m0s\u001b[0m 1ms/step - loss: 134.2961 - mae: 7.9594 - val_loss: 202.0574 - val_mae: 10.3294 - learning_rate: 0.0010\n",
      "Epoch 92/300\n",
      "\u001b[1m18/18\u001b[0m \u001b[32m━━━━━━━━━━━━━━━━━━━━\u001b[0m\u001b[37m\u001b[0m \u001b[1m0s\u001b[0m 1ms/step - loss: 109.9504 - mae: 7.2671 - val_loss: 203.4388 - val_mae: 10.3970 - learning_rate: 0.0010\n",
      "Epoch 93/300\n",
      "\u001b[1m18/18\u001b[0m \u001b[32m━━━━━━━━━━━━━━━━━━━━\u001b[0m\u001b[37m\u001b[0m \u001b[1m0s\u001b[0m 1ms/step - loss: 143.0061 - mae: 8.0538 - val_loss: 201.7333 - val_mae: 10.2966 - learning_rate: 0.0010\n",
      "Epoch 94/300\n",
      "\u001b[1m18/18\u001b[0m \u001b[32m━━━━━━━━━━━━━━━━━━━━\u001b[0m\u001b[37m\u001b[0m \u001b[1m0s\u001b[0m 1ms/step - loss: 108.5571 - mae: 7.4051 - val_loss: 202.7439 - val_mae: 10.3601 - learning_rate: 0.0010\n",
      "Epoch 95/300\n",
      "\u001b[1m18/18\u001b[0m \u001b[32m━━━━━━━━━━━━━━━━━━━━\u001b[0m\u001b[37m\u001b[0m \u001b[1m0s\u001b[0m 1ms/step - loss: 123.9528 - mae: 7.3948 - val_loss: 201.5468 - val_mae: 10.4357 - learning_rate: 0.0010\n",
      "Epoch 96/300\n",
      "\u001b[1m18/18\u001b[0m \u001b[32m━━━━━━━━━━━━━━━━━━━━\u001b[0m\u001b[37m\u001b[0m \u001b[1m0s\u001b[0m 2ms/step - loss: 92.9138 - mae: 6.8035 - val_loss: 201.1495 - val_mae: 10.3301 - learning_rate: 0.0010\n",
      "Epoch 97/300\n",
      "\u001b[1m18/18\u001b[0m \u001b[32m━━━━━━━━━━━━━━━━━━━━\u001b[0m\u001b[37m\u001b[0m \u001b[1m0s\u001b[0m 2ms/step - loss: 137.6001 - mae: 7.5648 - val_loss: 202.2383 - val_mae: 10.4012 - learning_rate: 0.0010\n",
      "Epoch 98/300\n",
      "\u001b[1m18/18\u001b[0m \u001b[32m━━━━━━━━━━━━━━━━━━━━\u001b[0m\u001b[37m\u001b[0m \u001b[1m0s\u001b[0m 2ms/step - loss: 112.4831 - mae: 7.1268 - val_loss: 199.5796 - val_mae: 10.4028 - learning_rate: 0.0010\n",
      "Epoch 99/300\n",
      "\u001b[1m18/18\u001b[0m \u001b[32m━━━━━━━━━━━━━━━━━━━━\u001b[0m\u001b[37m\u001b[0m \u001b[1m0s\u001b[0m 2ms/step - loss: 98.1526 - mae: 7.0187 - val_loss: 201.7974 - val_mae: 10.4173 - learning_rate: 0.0010\n",
      "Epoch 100/300\n",
      "\u001b[1m18/18\u001b[0m \u001b[32m━━━━━━━━━━━━━━━━━━━━\u001b[0m\u001b[37m\u001b[0m \u001b[1m0s\u001b[0m 2ms/step - loss: 114.2490 - mae: 7.0066 - val_loss: 200.3297 - val_mae: 10.3992 - learning_rate: 0.0010\n",
      "Epoch 101/300\n",
      "\u001b[1m18/18\u001b[0m \u001b[32m━━━━━━━━━━━━━━━━━━━━\u001b[0m\u001b[37m\u001b[0m \u001b[1m0s\u001b[0m 2ms/step - loss: 114.9878 - mae: 7.1419 - val_loss: 200.1191 - val_mae: 10.4695 - learning_rate: 0.0010\n",
      "Epoch 102/300\n",
      "\u001b[1m18/18\u001b[0m \u001b[32m━━━━━━━━━━━━━━━━━━━━\u001b[0m\u001b[37m\u001b[0m \u001b[1m0s\u001b[0m 2ms/step - loss: 95.4681 - mae: 6.8195 - val_loss: 200.0834 - val_mae: 10.4362 - learning_rate: 0.0010\n",
      "Epoch 103/300\n",
      "\u001b[1m18/18\u001b[0m \u001b[32m━━━━━━━━━━━━━━━━━━━━\u001b[0m\u001b[37m\u001b[0m \u001b[1m0s\u001b[0m 2ms/step - loss: 116.4037 - mae: 6.9643 - val_loss: 198.9852 - val_mae: 10.4723 - learning_rate: 0.0010\n",
      "Epoch 104/300\n",
      "\u001b[1m18/18\u001b[0m \u001b[32m━━━━━━━━━━━━━━━━━━━━\u001b[0m\u001b[37m\u001b[0m \u001b[1m0s\u001b[0m 2ms/step - loss: 141.4994 - mae: 7.6078 - val_loss: 197.1134 - val_mae: 10.4206 - learning_rate: 0.0010\n",
      "Epoch 105/300\n",
      "\u001b[1m18/18\u001b[0m \u001b[32m━━━━━━━━━━━━━━━━━━━━\u001b[0m\u001b[37m\u001b[0m \u001b[1m0s\u001b[0m 1ms/step - loss: 112.1419 - mae: 7.0086 - val_loss: 201.4800 - val_mae: 10.5495 - learning_rate: 0.0010\n",
      "Epoch 106/300\n",
      "\u001b[1m18/18\u001b[0m \u001b[32m━━━━━━━━━━━━━━━━━━━━\u001b[0m\u001b[37m\u001b[0m \u001b[1m0s\u001b[0m 1ms/step - loss: 131.7422 - mae: 7.3176 - val_loss: 196.5834 - val_mae: 10.4228 - learning_rate: 0.0010\n",
      "Epoch 107/300\n",
      "\u001b[1m18/18\u001b[0m \u001b[32m━━━━━━━━━━━━━━━━━━━━\u001b[0m\u001b[37m\u001b[0m \u001b[1m0s\u001b[0m 2ms/step - loss: 113.4030 - mae: 6.6245 - val_loss: 197.8676 - val_mae: 10.5143 - learning_rate: 0.0010\n",
      "Epoch 108/300\n",
      "\u001b[1m18/18\u001b[0m \u001b[32m━━━━━━━━━━━━━━━━━━━━\u001b[0m\u001b[37m\u001b[0m \u001b[1m0s\u001b[0m 1ms/step - loss: 97.7889 - mae: 6.5814 - val_loss: 201.8678 - val_mae: 10.5979 - learning_rate: 0.0010\n",
      "Epoch 109/300\n",
      "\u001b[1m18/18\u001b[0m \u001b[32m━━━━━━━━━━━━━━━━━━━━\u001b[0m\u001b[37m\u001b[0m \u001b[1m0s\u001b[0m 1ms/step - loss: 115.8658 - mae: 6.8132 - val_loss: 198.9449 - val_mae: 10.5695 - learning_rate: 0.0010\n",
      "Epoch 110/300\n",
      "\u001b[1m18/18\u001b[0m \u001b[32m━━━━━━━━━━━━━━━━━━━━\u001b[0m\u001b[37m\u001b[0m \u001b[1m0s\u001b[0m 1ms/step - loss: 150.5788 - mae: 7.5525 - val_loss: 197.7681 - val_mae: 10.5450 - learning_rate: 0.0010\n",
      "Epoch 111/300\n",
      "\u001b[1m18/18\u001b[0m \u001b[32m━━━━━━━━━━━━━━━━━━━━\u001b[0m\u001b[37m\u001b[0m \u001b[1m0s\u001b[0m 1ms/step - loss: 98.2422 - mae: 6.6239 - val_loss: 199.2622 - val_mae: 10.5966 - learning_rate: 0.0010\n",
      "Epoch 112/300\n",
      "\u001b[1m18/18\u001b[0m \u001b[32m━━━━━━━━━━━━━━━━━━━━\u001b[0m\u001b[37m\u001b[0m \u001b[1m0s\u001b[0m 1ms/step - loss: 91.3221 - mae: 6.7346 - val_loss: 199.8236 - val_mae: 10.6624 - learning_rate: 0.0010\n",
      "Epoch 113/300\n",
      "\u001b[1m18/18\u001b[0m \u001b[32m━━━━━━━━━━━━━━━━━━━━\u001b[0m\u001b[37m\u001b[0m \u001b[1m0s\u001b[0m 1ms/step - loss: 82.8227 - mae: 6.1033 - val_loss: 199.2517 - val_mae: 10.6023 - learning_rate: 0.0010\n",
      "Epoch 114/300\n",
      "\u001b[1m18/18\u001b[0m \u001b[32m━━━━━━━━━━━━━━━━━━━━\u001b[0m\u001b[37m\u001b[0m \u001b[1m0s\u001b[0m 1ms/step - loss: 96.3857 - mae: 6.7940 - val_loss: 199.6333 - val_mae: 10.6827 - learning_rate: 0.0010\n",
      "Epoch 115/300\n",
      "\u001b[1m18/18\u001b[0m \u001b[32m━━━━━━━━━━━━━━━━━━━━\u001b[0m\u001b[37m\u001b[0m \u001b[1m0s\u001b[0m 1ms/step - loss: 124.4804 - mae: 7.0172 - val_loss: 199.9699 - val_mae: 10.6565 - learning_rate: 0.0010\n",
      "Epoch 116/300\n",
      "\u001b[1m 1/18\u001b[0m \u001b[32m━\u001b[0m\u001b[37m━━━━━━━━━━━━━━━━━━━\u001b[0m \u001b[1m0s\u001b[0m 7ms/step - loss: 42.9572 - mae: 4.4058\n",
      "Epoch 116: ReduceLROnPlateau reducing learning rate to 0.0005000000237487257.\n",
      "\u001b[1m18/18\u001b[0m \u001b[32m━━━━━━━━━━━━━━━━━━━━\u001b[0m\u001b[37m\u001b[0m \u001b[1m0s\u001b[0m 1ms/step - loss: 101.3874 - mae: 6.4274 - val_loss: 197.2185 - val_mae: 10.6102 - learning_rate: 0.0010\n",
      "Epoch 117/300\n",
      "\u001b[1m18/18\u001b[0m \u001b[32m━━━━━━━━━━━━━━━━━━━━\u001b[0m\u001b[37m\u001b[0m \u001b[1m0s\u001b[0m 1ms/step - loss: 86.8667 - mae: 6.3506 - val_loss: 198.4676 - val_mae: 10.6659 - learning_rate: 5.0000e-04\n",
      "Epoch 118/300\n",
      "\u001b[1m18/18\u001b[0m \u001b[32m━━━━━━━━━━━━━━━━━━━━\u001b[0m\u001b[37m\u001b[0m \u001b[1m0s\u001b[0m 2ms/step - loss: 75.8554 - mae: 5.9266 - val_loss: 199.0170 - val_mae: 10.6821 - learning_rate: 5.0000e-04\n",
      "Epoch 119/300\n",
      "\u001b[1m18/18\u001b[0m \u001b[32m━━━━━━━━━━━━━━━━━━━━\u001b[0m\u001b[37m\u001b[0m \u001b[1m0s\u001b[0m 2ms/step - loss: 85.8440 - mae: 6.2835 - val_loss: 200.0546 - val_mae: 10.7217 - learning_rate: 5.0000e-04\n",
      "Epoch 120/300\n",
      "\u001b[1m18/18\u001b[0m \u001b[32m━━━━━━━━━━━━━━━━━━━━\u001b[0m\u001b[37m\u001b[0m \u001b[1m0s\u001b[0m 2ms/step - loss: 73.8379 - mae: 5.8910 - val_loss: 199.8273 - val_mae: 10.6869 - learning_rate: 5.0000e-04\n",
      "Epoch 121/300\n",
      "\u001b[1m18/18\u001b[0m \u001b[32m━━━━━━━━━━━━━━━━━━━━\u001b[0m\u001b[37m\u001b[0m \u001b[1m0s\u001b[0m 2ms/step - loss: 86.0768 - mae: 6.5910 - val_loss: 200.1916 - val_mae: 10.7130 - learning_rate: 5.0000e-04\n",
      "Epoch 122/300\n",
      "\u001b[1m18/18\u001b[0m \u001b[32m━━━━━━━━━━━━━━━━━━━━\u001b[0m\u001b[37m\u001b[0m \u001b[1m0s\u001b[0m 2ms/step - loss: 86.0403 - mae: 6.4962 - val_loss: 200.4393 - val_mae: 10.7226 - learning_rate: 5.0000e-04\n",
      "Epoch 123/300\n",
      "\u001b[1m18/18\u001b[0m \u001b[32m━━━━━━━━━━━━━━━━━━━━\u001b[0m\u001b[37m\u001b[0m \u001b[1m0s\u001b[0m 2ms/step - loss: 131.3843 - mae: 7.3066 - val_loss: 200.3083 - val_mae: 10.7335 - learning_rate: 5.0000e-04\n",
      "Epoch 124/300\n",
      "\u001b[1m18/18\u001b[0m \u001b[32m━━━━━━━━━━━━━━━━━━━━\u001b[0m\u001b[37m\u001b[0m \u001b[1m0s\u001b[0m 1ms/step - loss: 100.3804 - mae: 6.4631 - val_loss: 199.8939 - val_mae: 10.7291 - learning_rate: 5.0000e-04\n",
      "Epoch 125/300\n",
      "\u001b[1m18/18\u001b[0m \u001b[32m━━━━━━━━━━━━━━━━━━━━\u001b[0m\u001b[37m\u001b[0m \u001b[1m0s\u001b[0m 1ms/step - loss: 95.9176 - mae: 6.1656 - val_loss: 201.0557 - val_mae: 10.7659 - learning_rate: 5.0000e-04\n",
      "Epoch 126/300\n",
      "\u001b[1m 1/18\u001b[0m \u001b[32m━\u001b[0m\u001b[37m━━━━━━━━━━━━━━━━━━━\u001b[0m \u001b[1m0s\u001b[0m 7ms/step - loss: 290.8020 - mae: 10.5867\n",
      "Epoch 126: ReduceLROnPlateau reducing learning rate to 0.0002500000118743628.\n",
      "\u001b[1m18/18\u001b[0m \u001b[32m━━━━━━━━━━━━━━━━━━━━\u001b[0m\u001b[37m\u001b[0m \u001b[1m0s\u001b[0m 2ms/step - loss: 122.7685 - mae: 7.0770 - val_loss: 201.2799 - val_mae: 10.7848 - learning_rate: 5.0000e-04\n"
     ]
    }
   ],
   "source": [
    "history = model.fit(X_train, y_train, epochs=300, validation_data=(X_test, y_test), batch_size=16, verbose=1, callbacks=[early_stopping, reduce_lr])"
   ]
  },
  {
   "cell_type": "code",
   "execution_count": 18,
   "metadata": {},
   "outputs": [
    {
     "name": "stdout",
     "output_type": "stream",
     "text": [
      "\u001b[1m3/3\u001b[0m \u001b[32m━━━━━━━━━━━━━━━━━━━━\u001b[0m\u001b[37m\u001b[0m \u001b[1m0s\u001b[0m 4ms/step - loss: 192.5389 - mae: 10.0603\n",
      "Test MAE: 10.422832489013672\n"
     ]
    }
   ],
   "source": [
    "loss, mae = model.evaluate(X_test, y_test)\n",
    "print(f'Test MAE: {mae}')"
   ]
  },
  {
   "cell_type": "code",
   "execution_count": 19,
   "metadata": {},
   "outputs": [
    {
     "name": "stdout",
     "output_type": "stream",
     "text": [
      "\u001b[1m3/3\u001b[0m \u001b[32m━━━━━━━━━━━━━━━━━━━━\u001b[0m\u001b[37m\u001b[0m \u001b[1m0s\u001b[0m 8ms/step \n",
      "Test MSE: 196.58341318751815\n",
      "Test R2 Score: -0.22600347849126567\n"
     ]
    }
   ],
   "source": [
    "# Predictions\n",
    "y_pred = model.predict(X_test)\n",
    "\n",
    "# Calculate MSE and R2\n",
    "mse = mean_squared_error(y_test, y_pred)\n",
    "r2 = r2_score(y_test, y_pred)\n",
    "print(f'Test MSE: {mse}')\n",
    "print(f'Test R2 Score: {r2}')"
   ]
  },
  {
   "cell_type": "code",
   "execution_count": 20,
   "metadata": {},
   "outputs": [
    {
     "data": {
      "image/png": "[encoded data removed]",
      "text/plain": [
       "<Figure size 640x480 with 1 Axes>"
      ]
     },
     "metadata": {},
     "output_type": "display_data"
    }
   ],
   "source": [
    "plt.plot(history.history['mae'], label='MAE (train)')\n",
    "plt.plot(history.history['val_mae'], label='MAE (validation)')\n",
    "plt.xlabel('Epochs')\n",
    "plt.ylabel('MAE')\n",
    "plt.legend()\n",
    "plt.show()"
   ]
  },
  {
   "cell_type": "markdown",
   "metadata": {},
   "source": [
    "## Test Bowling Average"
   ]
  },
  {
   "cell_type": "code",
   "execution_count": 21,
   "metadata": {},
   "outputs": [
    {
     "data": {
      "text/html": [
       "<div>\n",
       "<style scoped>\n",
       "    .dataframe tbody tr th:only-of-type {\n",
       "        vertical-align: middle;\n",
       "    }\n",
       "\n",
       "    .dataframe tbody tr th {\n",
       "        vertical-align: top;\n",
       "    }\n",
       "\n",
       "    .dataframe thead th {\n",
       "        text-align: right;\n",
       "    }\n",
       "</style>\n",
       "<table border=\"1\" class=\"dataframe\">\n",
       "  <thead>\n",
       "    <tr style=\"text-align: right;\">\n",
       "      <th></th>\n",
       "      <th>Bowling Style</th>\n",
       "      <th>Innings_ODI_bowling</th>\n",
       "      <th>Innings_T20_bowling</th>\n",
       "      <th>Balls_ODI</th>\n",
       "      <th>Runs_ODI_bowling</th>\n",
       "      <th>Runs_T20_bowling</th>\n",
       "      <th>Wickets_ODI</th>\n",
       "      <th>Wickets_T20</th>\n",
       "      <th>BBI_ODI</th>\n",
       "      <th>BBI_T20</th>\n",
       "      <th>...</th>\n",
       "      <th>5_ODI</th>\n",
       "      <th>5_T20</th>\n",
       "      <th>ODI_Matches</th>\n",
       "      <th>T20_Matches</th>\n",
       "      <th>Country</th>\n",
       "      <th>SpanStart_ODI</th>\n",
       "      <th>SpanStart_T20</th>\n",
       "      <th>Bowling Hand</th>\n",
       "      <th>AgeStart_ODI</th>\n",
       "      <th>AgeStart_T20</th>\n",
       "    </tr>\n",
       "  </thead>\n",
       "  <tbody>\n",
       "    <tr>\n",
       "      <th>0</th>\n",
       "      <td>1</td>\n",
       "      <td>38</td>\n",
       "      <td>33</td>\n",
       "      <td>1995</td>\n",
       "      <td>1715</td>\n",
       "      <td>965</td>\n",
       "      <td>58</td>\n",
       "      <td>30</td>\n",
       "      <td>0.206897</td>\n",
       "      <td>0.083333</td>\n",
       "      <td>...</td>\n",
       "      <td>2</td>\n",
       "      <td>0</td>\n",
       "      <td>40</td>\n",
       "      <td>33</td>\n",
       "      <td>7</td>\n",
       "      <td>2012</td>\n",
       "      <td>2012</td>\n",
       "      <td>1</td>\n",
       "      <td>18.819178</td>\n",
       "      <td>18.819178</td>\n",
       "    </tr>\n",
       "    <tr>\n",
       "      <th>1</th>\n",
       "      <td>1</td>\n",
       "      <td>34</td>\n",
       "      <td>10</td>\n",
       "      <td>1917</td>\n",
       "      <td>1511</td>\n",
       "      <td>240</td>\n",
       "      <td>64</td>\n",
       "      <td>16</td>\n",
       "      <td>0.125000</td>\n",
       "      <td>0.125000</td>\n",
       "      <td>...</td>\n",
       "      <td>2</td>\n",
       "      <td>0</td>\n",
       "      <td>36</td>\n",
       "      <td>10</td>\n",
       "      <td>2</td>\n",
       "      <td>2003</td>\n",
       "      <td>2010</td>\n",
       "      <td>1</td>\n",
       "      <td>20.679452</td>\n",
       "      <td>27.679452</td>\n",
       "    </tr>\n",
       "    <tr>\n",
       "      <th>2</th>\n",
       "      <td>1</td>\n",
       "      <td>2</td>\n",
       "      <td>12</td>\n",
       "      <td>102</td>\n",
       "      <td>80</td>\n",
       "      <td>289</td>\n",
       "      <td>1</td>\n",
       "      <td>4</td>\n",
       "      <td>0.034483</td>\n",
       "      <td>0.071429</td>\n",
       "      <td>...</td>\n",
       "      <td>0</td>\n",
       "      <td>0</td>\n",
       "      <td>2</td>\n",
       "      <td>12</td>\n",
       "      <td>6</td>\n",
       "      <td>2019</td>\n",
       "      <td>2019</td>\n",
       "      <td>0</td>\n",
       "      <td>23.506849</td>\n",
       "      <td>23.506849</td>\n",
       "    </tr>\n",
       "    <tr>\n",
       "      <th>3</th>\n",
       "      <td>0</td>\n",
       "      <td>76</td>\n",
       "      <td>2</td>\n",
       "      <td>3801</td>\n",
       "      <td>2935</td>\n",
       "      <td>42</td>\n",
       "      <td>106</td>\n",
       "      <td>2</td>\n",
       "      <td>0.111111</td>\n",
       "      <td>0.105263</td>\n",
       "      <td>...</td>\n",
       "      <td>1</td>\n",
       "      <td>0</td>\n",
       "      <td>79</td>\n",
       "      <td>2</td>\n",
       "      <td>0</td>\n",
       "      <td>2001</td>\n",
       "      <td>2005</td>\n",
       "      <td>1</td>\n",
       "      <td>24.038356</td>\n",
       "      <td>28.038356</td>\n",
       "    </tr>\n",
       "    <tr>\n",
       "      <th>4</th>\n",
       "      <td>0</td>\n",
       "      <td>21</td>\n",
       "      <td>41</td>\n",
       "      <td>1006</td>\n",
       "      <td>982</td>\n",
       "      <td>1016</td>\n",
       "      <td>36</td>\n",
       "      <td>53</td>\n",
       "      <td>0.078431</td>\n",
       "      <td>0.571429</td>\n",
       "      <td>...</td>\n",
       "      <td>0</td>\n",
       "      <td>0</td>\n",
       "      <td>22</td>\n",
       "      <td>42</td>\n",
       "      <td>0</td>\n",
       "      <td>2019</td>\n",
       "      <td>2019</td>\n",
       "      <td>1</td>\n",
       "      <td>25.701370</td>\n",
       "      <td>25.701370</td>\n",
       "    </tr>\n",
       "  </tbody>\n",
       "</table>\n",
       "<p>5 rows × 29 columns</p>\n",
       "</div>"
      ],
      "text/plain": [
       "   Bowling Style  Innings_ODI_bowling  Innings_T20_bowling  Balls_ODI  \\\n",
       "0              1                   38                   33       1995   \n",
       "1              1                   34                   10       1917   \n",
       "2              1                    2                   12        102   \n",
       "3              0                   76                    2       3801   \n",
       "4              0                   21                   41       1006   \n",
       "\n",
       "   Runs_ODI_bowling  Runs_T20_bowling  Wickets_ODI  Wickets_T20   BBI_ODI  \\\n",
       "0              1715               965           58           30  0.206897   \n",
       "1              1511               240           64           16  0.125000   \n",
       "2                80               289            1            4  0.034483   \n",
       "3              2935                42          106            2  0.111111   \n",
       "4               982              1016           36           53  0.078431   \n",
       "\n",
       "    BBI_T20  ...  5_ODI  5_T20  ODI_Matches  T20_Matches  Country  \\\n",
       "0  0.083333  ...      2      0           40           33        7   \n",
       "1  0.125000  ...      2      0           36           10        2   \n",
       "2  0.071429  ...      0      0            2           12        6   \n",
       "3  0.105263  ...      1      0           79            2        0   \n",
       "4  0.571429  ...      0      0           22           42        0   \n",
       "\n",
       "   SpanStart_ODI  SpanStart_T20  Bowling Hand  AgeStart_ODI  AgeStart_T20  \n",
       "0           2012           2012             1     18.819178     18.819178  \n",
       "1           2003           2010             1     20.679452     27.679452  \n",
       "2           2019           2019             0     23.506849     23.506849  \n",
       "3           2001           2005             1     24.038356     28.038356  \n",
       "4           2019           2019             1     25.701370     25.701370  \n",
       "\n",
       "[5 rows x 29 columns]"
      ]
     },
     "execution_count": 21,
     "metadata": {},
     "output_type": "execute_result"
    }
   ],
   "source": [
    "df = pd.read_csv('Data/Final/test_bowl_processed_data.csv')\n",
    "df.head()"
   ]
  },
  {
   "cell_type": "code",
   "execution_count": 22,
   "metadata": {},
   "outputs": [],
   "source": [
    "X = df.drop('Ave_Test_bowling', axis = 1)"
   ]
  },
  {
   "cell_type": "code",
   "execution_count": 23,
   "metadata": {},
   "outputs": [],
   "source": [
    "y = df['Ave_Test_bowling']"
   ]
  },
  {
   "cell_type": "markdown",
   "metadata": {},
   "source": [
    "##### Dropping with correlation"
   ]
  },
  {
   "cell_type": "code",
   "execution_count": 24,
   "metadata": {},
   "outputs": [
    {
     "data": {
      "image/png": "[encoded data removed]",
      "text/plain": [
       "<Figure size 640x480 with 2 Axes>"
      ]
     },
     "metadata": {},
     "output_type": "display_data"
    }
   ],
   "source": [
    "cor = X.corr()\n",
    "sns.heatmap(cor, annot = False, cmap = plt.cm.CMRmap_r)\n",
    "plt.show()"
   ]
  },
  {
   "cell_type": "code",
   "execution_count": 25,
   "metadata": {},
   "outputs": [],
   "source": [
    "# Select upper triangle of correlation matrix\n",
    "upper = cor.where(np.triu(np.ones(cor.shape), k=1).astype(bool))"
   ]
  },
  {
   "cell_type": "code",
   "execution_count": 26,
   "metadata": {},
   "outputs": [],
   "source": [
    "# Find features with correlation greater than 0.8\n",
    "highly_correlated = [column for column in upper.columns if any(upper[column] > 0.8)]"
   ]
  },
  {
   "cell_type": "code",
   "execution_count": 27,
   "metadata": {},
   "outputs": [
    {
     "data": {
      "text/plain": [
       "['Balls_ODI',\n",
       " 'Runs_ODI_bowling',\n",
       " 'Runs_T20_bowling',\n",
       " 'Wickets_ODI',\n",
       " 'Wickets_T20',\n",
       " 'SR_ODI_bowling',\n",
       " 'SR_T20_bowling',\n",
       " '4_ODI',\n",
       " 'ODI_Matches',\n",
       " 'T20_Matches',\n",
       " 'SpanStart_T20']"
      ]
     },
     "execution_count": 27,
     "metadata": {},
     "output_type": "execute_result"
    }
   ],
   "source": [
    "highly_correlated"
   ]
  },
  {
   "cell_type": "code",
   "execution_count": 28,
   "metadata": {},
   "outputs": [],
   "source": [
    "# Drop highly correlated features\n",
    "X = X.drop(columns=highly_correlated)"
   ]
  },
  {
   "cell_type": "code",
   "execution_count": 29,
   "metadata": {},
   "outputs": [],
   "source": [
    "X_train, X_test, y_train, y_test = train_test_split(X, y, test_size=0.2, random_state=42)"
   ]
  },
  {
   "cell_type": "code",
   "execution_count": 30,
   "metadata": {},
   "outputs": [],
   "source": [
    "scaler = StandardScaler()\n",
    "X_train = scaler.fit_transform(X_train)\n",
    "X_test = scaler.transform(X_test)"
   ]
  },
  {
   "cell_type": "code",
   "execution_count": 31,
   "metadata": {},
   "outputs": [
    {
     "name": "stderr",
     "output_type": "stream",
     "text": [
      "/Users/henil08/College/Projects/Cricket-all-format/.venv/lib/python3.12/site-packages/keras/src/layers/core/dense.py:87: UserWarning: Do not pass an `input_shape`/`input_dim` argument to a layer. When using Sequential models, prefer using an `Input(shape)` object as the first layer in the model instead.\n",
      "  super().__init__(activity_regularizer=activity_regularizer, **kwargs)\n"
     ]
    }
   ],
   "source": [
    "model = keras.Sequential([\n",
    "    keras.layers.Dense(64, activation='relu', input_shape=(X_train.shape[1],)),\n",
    "    keras.layers.Dense(32, activation='relu'),\n",
    "    keras.layers.Dense(1)  # Regression output\n",
    "])"
   ]
  },
  {
   "cell_type": "code",
   "execution_count": 32,
   "metadata": {},
   "outputs": [],
   "source": [
    "model.compile(optimizer='adam', loss='mse', metrics=['mae'])"
   ]
  },
  {
   "cell_type": "code",
   "execution_count": 33,
   "metadata": {},
   "outputs": [],
   "source": [
    "early_stopping = keras.callbacks.EarlyStopping(monitor='val_loss', patience=20, restore_best_weights=True)\n",
    "reduce_lr = keras.callbacks.ReduceLROnPlateau(monitor='val_loss', factor=0.5, patience=10, verbose=1)"
   ]
  },
  {
   "cell_type": "code",
   "execution_count": 34,
   "metadata": {},
   "outputs": [
    {
     "name": "stdout",
     "output_type": "stream",
     "text": [
      "Epoch 1/300\n",
      "\u001b[1m18/18\u001b[0m \u001b[32m━━━━━━━━━━━━━━━━━━━━\u001b[0m\u001b[37m\u001b[0m \u001b[1m0s\u001b[0m 4ms/step - loss: 2617.7866 - mae: 41.2066 - val_loss: 1657.9484 - val_mae: 34.6993 - learning_rate: 0.0010\n",
      "Epoch 2/300\n",
      "\u001b[1m18/18\u001b[0m \u001b[32m━━━━━━━━━━━━━━━━━━━━\u001b[0m\u001b[37m\u001b[0m \u001b[1m0s\u001b[0m 2ms/step - loss: 2788.6792 - mae: 41.6933 - val_loss: 1542.6257 - val_mae: 33.3629 - learning_rate: 0.0010\n",
      "Epoch 3/300\n",
      "\u001b[1m18/18\u001b[0m \u001b[32m━━━━━━━━━━━━━━━━━━━━\u001b[0m\u001b[37m\u001b[0m \u001b[1m0s\u001b[0m 2ms/step - loss: 2456.0193 - mae: 38.8040 - val_loss: 1397.0438 - val_mae: 31.5541 - learning_rate: 0.0010\n",
      "Epoch 4/300\n",
      "\u001b[1m18/18\u001b[0m \u001b[32m━━━━━━━━━━━━━━━━━━━━\u001b[0m\u001b[37m\u001b[0m \u001b[1m0s\u001b[0m 2ms/step - loss: 2247.5225 - mae: 35.4384 - val_loss: 1210.4945 - val_mae: 28.9734 - learning_rate: 0.0010\n",
      "Epoch 5/300\n",
      "\u001b[1m18/18\u001b[0m \u001b[32m━━━━━━━━━━━━━━━━━━━━\u001b[0m\u001b[37m\u001b[0m \u001b[1m0s\u001b[0m 1ms/step - loss: 2200.1270 - mae: 34.5929 - val_loss: 999.1699 - val_mae: 25.5171 - learning_rate: 0.0010\n",
      "Epoch 6/300\n",
      "\u001b[1m18/18\u001b[0m \u001b[32m━━━━━━━━━━━━━━━━━━━━\u001b[0m\u001b[37m\u001b[0m \u001b[1m0s\u001b[0m 1ms/step - loss: 2089.5317 - mae: 30.2042 - val_loss: 799.6218 - val_mae: 21.6913 - learning_rate: 0.0010\n",
      "Epoch 7/300\n",
      "\u001b[1m18/18\u001b[0m \u001b[32m━━━━━━━━━━━━━━━━━━━━\u001b[0m\u001b[37m\u001b[0m \u001b[1m0s\u001b[0m 1ms/step - loss: 1376.1271 - mae: 25.8360 - val_loss: 654.0792 - val_mae: 18.7961 - learning_rate: 0.0010\n",
      "Epoch 8/300\n",
      "\u001b[1m18/18\u001b[0m \u001b[32m━━━━━━━━━━━━━━━━━━━━\u001b[0m\u001b[37m\u001b[0m \u001b[1m0s\u001b[0m 1ms/step - loss: 1956.6880 - mae: 23.9269 - val_loss: 604.6364 - val_mae: 17.5013 - learning_rate: 0.0010\n",
      "Epoch 9/300\n",
      "\u001b[1m18/18\u001b[0m \u001b[32m━━━━━━━━━━━━━━━━━━━━\u001b[0m\u001b[37m\u001b[0m \u001b[1m0s\u001b[0m 1ms/step - loss: 1253.5288 - mae: 20.8779 - val_loss: 644.4372 - val_mae: 17.7028 - learning_rate: 0.0010\n",
      "Epoch 10/300\n",
      "\u001b[1m18/18\u001b[0m \u001b[32m━━━━━━━━━━━━━━━━━━━━\u001b[0m\u001b[37m\u001b[0m \u001b[1m0s\u001b[0m 1ms/step - loss: 1138.6207 - mae: 18.7237 - val_loss: 697.4559 - val_mae: 18.5951 - learning_rate: 0.0010\n",
      "Epoch 11/300\n",
      "\u001b[1m18/18\u001b[0m \u001b[32m━━━━━━━━━━━━━━━━━━━━\u001b[0m\u001b[37m\u001b[0m \u001b[1m0s\u001b[0m 1ms/step - loss: 1318.9124 - mae: 19.8230 - val_loss: 758.2307 - val_mae: 19.7760 - learning_rate: 0.0010\n",
      "Epoch 12/300\n",
      "\u001b[1m18/18\u001b[0m \u001b[32m━━━━━━━━━━━━━━━━━━━━\u001b[0m\u001b[37m\u001b[0m \u001b[1m0s\u001b[0m 1ms/step - loss: 1276.0532 - mae: 20.5599 - val_loss: 792.9696 - val_mae: 20.3299 - learning_rate: 0.0010\n",
      "Epoch 13/300\n",
      "\u001b[1m18/18\u001b[0m \u001b[32m━━━━━━━━━━━━━━━━━━━━\u001b[0m\u001b[37m\u001b[0m \u001b[1m0s\u001b[0m 1ms/step - loss: 1181.6749 - mae: 19.7627 - val_loss: 818.8547 - val_mae: 20.7512 - learning_rate: 0.0010\n",
      "Epoch 14/300\n",
      "\u001b[1m18/18\u001b[0m \u001b[32m━━━━━━━━━━━━━━━━━━━━\u001b[0m\u001b[37m\u001b[0m \u001b[1m0s\u001b[0m 1ms/step - loss: 924.1006 - mae: 18.4472 - val_loss: 831.1979 - val_mae: 20.8715 - learning_rate: 0.0010\n",
      "Epoch 15/300\n",
      "\u001b[1m18/18\u001b[0m \u001b[32m━━━━━━━━━━━━━━━━━━━━\u001b[0m\u001b[37m\u001b[0m \u001b[1m0s\u001b[0m 1ms/step - loss: 949.6921 - mae: 18.6379 - val_loss: 824.5901 - val_mae: 20.6390 - learning_rate: 0.0010\n",
      "Epoch 16/300\n",
      "\u001b[1m18/18\u001b[0m \u001b[32m━━━━━━━━━━━━━━━━━━━━\u001b[0m\u001b[37m\u001b[0m \u001b[1m0s\u001b[0m 1ms/step - loss: 899.7437 - mae: 18.0398 - val_loss: 841.9147 - val_mae: 20.9289 - learning_rate: 0.0010\n",
      "Epoch 17/300\n",
      "\u001b[1m18/18\u001b[0m \u001b[32m━━━━━━━━━━━━━━━━━━━━\u001b[0m\u001b[37m\u001b[0m \u001b[1m0s\u001b[0m 1ms/step - loss: 811.4279 - mae: 18.5404 - val_loss: 874.9429 - val_mae: 21.3923 - learning_rate: 0.0010\n",
      "Epoch 18/300\n",
      "\u001b[1m 1/18\u001b[0m \u001b[32m━\u001b[0m\u001b[37m━━━━━━━━━━━━━━━━━━━\u001b[0m \u001b[1m0s\u001b[0m 6ms/step - loss: 463.8591 - mae: 14.0674\n",
      "Epoch 18: ReduceLROnPlateau reducing learning rate to 0.0005000000237487257.\n",
      "\u001b[1m18/18\u001b[0m \u001b[32m━━━━━━━━━━━━━━━━━━━━\u001b[0m\u001b[37m\u001b[0m \u001b[1m0s\u001b[0m 1ms/step - loss: 818.6905 - mae: 18.0282 - val_loss: 881.1793 - val_mae: 21.5440 - learning_rate: 0.0010\n",
      "Epoch 19/300\n",
      "\u001b[1m18/18\u001b[0m \u001b[32m━━━━━━━━━━━━━━━━━━━━\u001b[0m\u001b[37m\u001b[0m \u001b[1m0s\u001b[0m 1ms/step - loss: 1076.5699 - mae: 19.8631 - val_loss: 893.0572 - val_mae: 21.7684 - learning_rate: 5.0000e-04\n",
      "Epoch 20/300\n",
      "\u001b[1m18/18\u001b[0m \u001b[32m━━━━━━━━━━━━━━━━━━━━\u001b[0m\u001b[37m\u001b[0m \u001b[1m0s\u001b[0m 1ms/step - loss: 1237.3909 - mae: 19.4627 - val_loss: 904.0046 - val_mae: 21.8928 - learning_rate: 5.0000e-04\n",
      "Epoch 21/300\n",
      "\u001b[1m18/18\u001b[0m \u001b[32m━━━━━━━━━━━━━━━━━━━━\u001b[0m\u001b[37m\u001b[0m \u001b[1m0s\u001b[0m 1ms/step - loss: 1099.8435 - mae: 19.9825 - val_loss: 907.1713 - val_mae: 21.9323 - learning_rate: 5.0000e-04\n",
      "Epoch 22/300\n",
      "\u001b[1m18/18\u001b[0m \u001b[32m━━━━━━━━━━━━━━━━━━━━\u001b[0m\u001b[37m\u001b[0m \u001b[1m0s\u001b[0m 2ms/step - loss: 1004.5145 - mae: 18.4008 - val_loss: 907.3504 - val_mae: 21.8705 - learning_rate: 5.0000e-04\n",
      "Epoch 23/300\n",
      "\u001b[1m18/18\u001b[0m \u001b[32m━━━━━━━━━━━━━━━━━━━━\u001b[0m\u001b[37m\u001b[0m \u001b[1m0s\u001b[0m 2ms/step - loss: 1211.8002 - mae: 20.2500 - val_loss: 920.6907 - val_mae: 22.1200 - learning_rate: 5.0000e-04\n",
      "Epoch 24/300\n",
      "\u001b[1m18/18\u001b[0m \u001b[32m━━━━━━━━━━━━━━━━━━━━\u001b[0m\u001b[37m\u001b[0m \u001b[1m0s\u001b[0m 2ms/step - loss: 1707.3655 - mae: 22.7423 - val_loss: 921.1000 - val_mae: 22.0719 - learning_rate: 5.0000e-04\n",
      "Epoch 25/300\n",
      "\u001b[1m18/18\u001b[0m \u001b[32m━━━━━━━━━━━━━━━━━━━━\u001b[0m\u001b[37m\u001b[0m \u001b[1m0s\u001b[0m 2ms/step - loss: 724.1495 - mae: 16.3732 - val_loss: 915.2446 - val_mae: 22.0347 - learning_rate: 5.0000e-04\n",
      "Epoch 26/300\n",
      "\u001b[1m18/18\u001b[0m \u001b[32m━━━━━━━━━━━━━━━━━━━━\u001b[0m\u001b[37m\u001b[0m \u001b[1m0s\u001b[0m 1ms/step - loss: 1224.1409 - mae: 21.2125 - val_loss: 925.7198 - val_mae: 22.1971 - learning_rate: 5.0000e-04\n",
      "Epoch 27/300\n",
      "\u001b[1m18/18\u001b[0m \u001b[32m━━━━━━━━━━━━━━━━━━━━\u001b[0m\u001b[37m\u001b[0m \u001b[1m0s\u001b[0m 1ms/step - loss: 682.1864 - mae: 16.0464 - val_loss: 925.8480 - val_mae: 22.1214 - learning_rate: 5.0000e-04\n",
      "Epoch 28/300\n",
      "\u001b[1m 1/18\u001b[0m \u001b[32m━\u001b[0m\u001b[37m━━━━━━━━━━━━━━━━━━━\u001b[0m \u001b[1m0s\u001b[0m 6ms/step - loss: 571.4313 - mae: 16.9124\n",
      "Epoch 28: ReduceLROnPlateau reducing learning rate to 0.0002500000118743628.\n",
      "\u001b[1m18/18\u001b[0m \u001b[32m━━━━━━━━━━━━━━━━━━━━\u001b[0m\u001b[37m\u001b[0m \u001b[1m0s\u001b[0m 1ms/step - loss: 983.0383 - mae: 18.6345 - val_loss: 940.7764 - val_mae: 22.3544 - learning_rate: 5.0000e-04\n"
     ]
    }
   ],
   "source": [
    "history = model.fit(X_train, y_train, epochs=300, validation_data=(X_test, y_test), batch_size=16, verbose=1, callbacks=[early_stopping, reduce_lr])"
   ]
  },
  {
   "cell_type": "code",
   "execution_count": 35,
   "metadata": {},
   "outputs": [
    {
     "name": "stdout",
     "output_type": "stream",
     "text": [
      "\u001b[1m3/3\u001b[0m \u001b[32m━━━━━━━━━━━━━━━━━━━━\u001b[0m\u001b[37m\u001b[0m \u001b[1m0s\u001b[0m 4ms/step - loss: 597.9280 - mae: 17.1601\n",
      "Test MAE: 17.501333236694336\n"
     ]
    }
   ],
   "source": [
    "loss, mae = model.evaluate(X_test, y_test)\n",
    "print(f'Test MAE: {mae}')"
   ]
  },
  {
   "cell_type": "code",
   "execution_count": 36,
   "metadata": {},
   "outputs": [
    {
     "name": "stdout",
     "output_type": "stream",
     "text": [
      "\u001b[1m3/3\u001b[0m \u001b[32m━━━━━━━━━━━━━━━━━━━━\u001b[0m\u001b[37m\u001b[0m \u001b[1m0s\u001b[0m 8ms/step \n",
      "Test MSE: 604.636313674168\n",
      "Test R2 Score: -0.26278625947711887\n"
     ]
    }
   ],
   "source": [
    "# Predictions\n",
    "y_pred = model.predict(X_test)\n",
    "\n",
    "# Calculate MSE and R2\n",
    "mse = mean_squared_error(y_test, y_pred)\n",
    "r2 = r2_score(y_test, y_pred)\n",
    "print(f'Test MSE: {mse}')\n",
    "print(f'Test R2 Score: {r2}')"
   ]
  },
  {
   "cell_type": "code",
   "execution_count": 37,
   "metadata": {},
   "outputs": [
    {
     "data": {
      "image/png": "[encoded data removed]",
      "text/plain": [
       "<Figure size 640x480 with 1 Axes>"
      ]
     },
     "metadata": {},
     "output_type": "display_data"
    }
   ],
   "source": [
    "plt.plot(history.history['mae'], label='MAE (train)')\n",
    "plt.plot(history.history['val_mae'], label='MAE (validation)')\n",
    "plt.xlabel('Epochs')\n",
    "plt.ylabel('MAE')\n",
    "plt.legend()\n",
    "plt.show()"
   ]
  },
  {
   "cell_type": "markdown",
   "metadata": {},
   "source": [
    "## T20 Bowling Average"
   ]
  },
  {
   "cell_type": "code",
   "execution_count": 38,
   "metadata": {},
   "outputs": [
    {
     "data": {
      "text/html": [
       "<div>\n",
       "<style scoped>\n",
       "    .dataframe tbody tr th:only-of-type {\n",
       "        vertical-align: middle;\n",
       "    }\n",
       "\n",
       "    .dataframe tbody tr th {\n",
       "        vertical-align: top;\n",
       "    }\n",
       "\n",
       "    .dataframe thead th {\n",
       "        text-align: right;\n",
       "    }\n",
       "</style>\n",
       "<table border=\"1\" class=\"dataframe\">\n",
       "  <thead>\n",
       "    <tr style=\"text-align: right;\">\n",
       "      <th></th>\n",
       "      <th>Bowling Style</th>\n",
       "      <th>Innings_ODI_bowling</th>\n",
       "      <th>Innings_Test_bowling</th>\n",
       "      <th>Balls_ODI</th>\n",
       "      <th>Balls_Test</th>\n",
       "      <th>Runs_ODI_bowling</th>\n",
       "      <th>Runs_Test_bowling</th>\n",
       "      <th>Wickets_ODI</th>\n",
       "      <th>Wickets_Test</th>\n",
       "      <th>BBI_ODI</th>\n",
       "      <th>...</th>\n",
       "      <th>5_Test</th>\n",
       "      <th>10_Test</th>\n",
       "      <th>ODI_Matches</th>\n",
       "      <th>Test_Matches</th>\n",
       "      <th>Country</th>\n",
       "      <th>SpanStart_ODI</th>\n",
       "      <th>SpanStart_Test</th>\n",
       "      <th>Bowling Hand</th>\n",
       "      <th>AgeStart_ODI</th>\n",
       "      <th>AgeStart_Test</th>\n",
       "    </tr>\n",
       "  </thead>\n",
       "  <tbody>\n",
       "    <tr>\n",
       "      <th>0</th>\n",
       "      <td>0</td>\n",
       "      <td>38</td>\n",
       "      <td>12</td>\n",
       "      <td>1995</td>\n",
       "      <td>1385</td>\n",
       "      <td>1715</td>\n",
       "      <td>819</td>\n",
       "      <td>58</td>\n",
       "      <td>33</td>\n",
       "      <td>0.206897</td>\n",
       "      <td>...</td>\n",
       "      <td>4</td>\n",
       "      <td>0</td>\n",
       "      <td>40</td>\n",
       "      <td>6</td>\n",
       "      <td>7</td>\n",
       "      <td>2012</td>\n",
       "      <td>2018</td>\n",
       "      <td>1</td>\n",
       "      <td>18.819178</td>\n",
       "      <td>24.819178</td>\n",
       "    </tr>\n",
       "    <tr>\n",
       "      <th>1</th>\n",
       "      <td>0</td>\n",
       "      <td>34</td>\n",
       "      <td>40</td>\n",
       "      <td>1917</td>\n",
       "      <td>5103</td>\n",
       "      <td>1511</td>\n",
       "      <td>2715</td>\n",
       "      <td>64</td>\n",
       "      <td>76</td>\n",
       "      <td>0.125000</td>\n",
       "      <td>...</td>\n",
       "      <td>1</td>\n",
       "      <td>0</td>\n",
       "      <td>36</td>\n",
       "      <td>22</td>\n",
       "      <td>4</td>\n",
       "      <td>2003</td>\n",
       "      <td>2008</td>\n",
       "      <td>1</td>\n",
       "      <td>20.679452</td>\n",
       "      <td>25.679452</td>\n",
       "    </tr>\n",
       "    <tr>\n",
       "      <th>2</th>\n",
       "      <td>0</td>\n",
       "      <td>2</td>\n",
       "      <td>2</td>\n",
       "      <td>102</td>\n",
       "      <td>420</td>\n",
       "      <td>80</td>\n",
       "      <td>277</td>\n",
       "      <td>1</td>\n",
       "      <td>2</td>\n",
       "      <td>0.034483</td>\n",
       "      <td>...</td>\n",
       "      <td>0</td>\n",
       "      <td>0</td>\n",
       "      <td>2</td>\n",
       "      <td>2</td>\n",
       "      <td>11</td>\n",
       "      <td>2019</td>\n",
       "      <td>2020</td>\n",
       "      <td>0</td>\n",
       "      <td>23.506849</td>\n",
       "      <td>24.506849</td>\n",
       "    </tr>\n",
       "    <tr>\n",
       "      <th>3</th>\n",
       "      <td>1</td>\n",
       "      <td>76</td>\n",
       "      <td>69</td>\n",
       "      <td>3801</td>\n",
       "      <td>7630</td>\n",
       "      <td>2935</td>\n",
       "      <td>3919</td>\n",
       "      <td>106</td>\n",
       "      <td>123</td>\n",
       "      <td>0.111111</td>\n",
       "      <td>...</td>\n",
       "      <td>3</td>\n",
       "      <td>1</td>\n",
       "      <td>79</td>\n",
       "      <td>36</td>\n",
       "      <td>2</td>\n",
       "      <td>2001</td>\n",
       "      <td>2001</td>\n",
       "      <td>1</td>\n",
       "      <td>24.038356</td>\n",
       "      <td>24.038356</td>\n",
       "    </tr>\n",
       "    <tr>\n",
       "      <th>4</th>\n",
       "      <td>1</td>\n",
       "      <td>21</td>\n",
       "      <td>32</td>\n",
       "      <td>1006</td>\n",
       "      <td>3057</td>\n",
       "      <td>982</td>\n",
       "      <td>1870</td>\n",
       "      <td>36</td>\n",
       "      <td>70</td>\n",
       "      <td>0.078431</td>\n",
       "      <td>...</td>\n",
       "      <td>4</td>\n",
       "      <td>0</td>\n",
       "      <td>22</td>\n",
       "      <td>19</td>\n",
       "      <td>2</td>\n",
       "      <td>2019</td>\n",
       "      <td>2019</td>\n",
       "      <td>1</td>\n",
       "      <td>25.701370</td>\n",
       "      <td>25.701370</td>\n",
       "    </tr>\n",
       "  </tbody>\n",
       "</table>\n",
       "<p>5 rows × 30 columns</p>\n",
       "</div>"
      ],
      "text/plain": [
       "   Bowling Style  Innings_ODI_bowling  Innings_Test_bowling  Balls_ODI  \\\n",
       "0              0                   38                    12       1995   \n",
       "1              0                   34                    40       1917   \n",
       "2              0                    2                     2        102   \n",
       "3              1                   76                    69       3801   \n",
       "4              1                   21                    32       1006   \n",
       "\n",
       "   Balls_Test  Runs_ODI_bowling  Runs_Test_bowling  Wickets_ODI  Wickets_Test  \\\n",
       "0        1385              1715                819           58            33   \n",
       "1        5103              1511               2715           64            76   \n",
       "2         420                80                277            1             2   \n",
       "3        7630              2935               3919          106           123   \n",
       "4        3057               982               1870           36            70   \n",
       "\n",
       "    BBI_ODI  ...  5_Test  10_Test  ODI_Matches  Test_Matches  Country  \\\n",
       "0  0.206897  ...       4        0           40             6        7   \n",
       "1  0.125000  ...       1        0           36            22        4   \n",
       "2  0.034483  ...       0        0            2             2       11   \n",
       "3  0.111111  ...       3        1           79            36        2   \n",
       "4  0.078431  ...       4        0           22            19        2   \n",
       "\n",
       "   SpanStart_ODI  SpanStart_Test  Bowling Hand  AgeStart_ODI  AgeStart_Test  \n",
       "0           2012            2018             1     18.819178      24.819178  \n",
       "1           2003            2008             1     20.679452      25.679452  \n",
       "2           2019            2020             0     23.506849      24.506849  \n",
       "3           2001            2001             1     24.038356      24.038356  \n",
       "4           2019            2019             1     25.701370      25.701370  \n",
       "\n",
       "[5 rows x 30 columns]"
      ]
     },
     "execution_count": 38,
     "metadata": {},
     "output_type": "execute_result"
    }
   ],
   "source": [
    "df = pd.read_csv('Data/Final/t20_bowl_processed_data.csv')\n",
    "df.head()"
   ]
  },
  {
   "cell_type": "code",
   "execution_count": 39,
   "metadata": {},
   "outputs": [],
   "source": [
    "X = df.drop('Ave_T20_bowling', axis = 1)"
   ]
  },
  {
   "cell_type": "code",
   "execution_count": 40,
   "metadata": {},
   "outputs": [],
   "source": [
    "y = df['Ave_T20_bowling']"
   ]
  },
  {
   "cell_type": "markdown",
   "metadata": {},
   "source": [
    "##### Dropping with correlation"
   ]
  },
  {
   "cell_type": "code",
   "execution_count": 41,
   "metadata": {},
   "outputs": [
    {
     "data": {
      "image/png": "[encoded data removed]",
      "text/plain": [
       "<Figure size 640x480 with 2 Axes>"
      ]
     },
     "metadata": {},
     "output_type": "display_data"
    }
   ],
   "source": [
    "cor = X.corr()\n",
    "sns.heatmap(cor, annot = False, cmap = plt.cm.CMRmap_r)\n",
    "plt.show()"
   ]
  },
  {
   "cell_type": "code",
   "execution_count": 42,
   "metadata": {},
   "outputs": [],
   "source": [
    "# Select upper triangle of correlation matrix\n",
    "upper = cor.where(np.triu(np.ones(cor.shape), k=1).astype(bool))"
   ]
  },
  {
   "cell_type": "code",
   "execution_count": 43,
   "metadata": {},
   "outputs": [],
   "source": [
    "# Find features with correlation greater than 0.8\n",
    "highly_correlated = [column for column in upper.columns if any(upper[column] > 0.8)]"
   ]
  },
  {
   "cell_type": "code",
   "execution_count": 44,
   "metadata": {},
   "outputs": [
    {
     "data": {
      "text/plain": [
       "['Balls_ODI',\n",
       " 'Balls_Test',\n",
       " 'Runs_ODI_bowling',\n",
       " 'Runs_Test_bowling',\n",
       " 'Wickets_ODI',\n",
       " 'Wickets_Test',\n",
       " 'SR_ODI_bowling',\n",
       " 'SR_Test_bowling',\n",
       " '4_ODI',\n",
       " '5_Test',\n",
       " '10_Test',\n",
       " 'ODI_Matches',\n",
       " 'Test_Matches',\n",
       " 'SpanStart_Test']"
      ]
     },
     "execution_count": 44,
     "metadata": {},
     "output_type": "execute_result"
    }
   ],
   "source": [
    "highly_correlated"
   ]
  },
  {
   "cell_type": "code",
   "execution_count": 45,
   "metadata": {},
   "outputs": [],
   "source": [
    "# Drop highly correlated features\n",
    "X = X.drop(columns=highly_correlated)"
   ]
  },
  {
   "cell_type": "code",
   "execution_count": 46,
   "metadata": {},
   "outputs": [],
   "source": [
    "X_train, X_test, y_train, y_test = train_test_split(X, y, test_size=0.2, random_state=42)"
   ]
  },
  {
   "cell_type": "code",
   "execution_count": 47,
   "metadata": {},
   "outputs": [],
   "source": [
    "scaler = StandardScaler()\n",
    "X_train = scaler.fit_transform(X_train)\n",
    "X_test = scaler.transform(X_test)"
   ]
  },
  {
   "cell_type": "code",
   "execution_count": 48,
   "metadata": {},
   "outputs": [
    {
     "name": "stderr",
     "output_type": "stream",
     "text": [
      "/Users/henil08/College/Projects/Cricket-all-format/.venv/lib/python3.12/site-packages/keras/src/layers/core/dense.py:87: UserWarning: Do not pass an `input_shape`/`input_dim` argument to a layer. When using Sequential models, prefer using an `Input(shape)` object as the first layer in the model instead.\n",
      "  super().__init__(activity_regularizer=activity_regularizer, **kwargs)\n"
     ]
    }
   ],
   "source": [
    "model = keras.Sequential([\n",
    "    keras.layers.Dense(64, activation='relu', input_shape=(X_train.shape[1],)),\n",
    "    keras.layers.Dense(32, activation='relu'),\n",
    "    keras.layers.Dense(1)  # Regression output\n",
    "])"
   ]
  },
  {
   "cell_type": "code",
   "execution_count": 49,
   "metadata": {},
   "outputs": [],
   "source": [
    "model.compile(optimizer='adam', loss='mse', metrics=['mae'])"
   ]
  },
  {
   "cell_type": "code",
   "execution_count": 50,
   "metadata": {},
   "outputs": [],
   "source": [
    "early_stopping = keras.callbacks.EarlyStopping(monitor='val_loss', patience=20, restore_best_weights=True)\n",
    "reduce_lr = keras.callbacks.ReduceLROnPlateau(monitor='val_loss', factor=0.5, patience=10, verbose=1)"
   ]
  },
  {
   "cell_type": "code",
   "execution_count": 51,
   "metadata": {},
   "outputs": [
    {
     "name": "stdout",
     "output_type": "stream",
     "text": [
      "Epoch 1/300\n"
     ]
    },
    {
     "name": "stdout",
     "output_type": "stream",
     "text": [
      "\u001b[1m18/18\u001b[0m \u001b[32m━━━━━━━━━━━━━━━━━━━━\u001b[0m\u001b[37m\u001b[0m \u001b[1m0s\u001b[0m 4ms/step - loss: 884.1462 - mae: 26.0364 - val_loss: 820.1851 - val_mae: 24.7847 - learning_rate: 0.0010\n",
      "Epoch 2/300\n",
      "\u001b[1m18/18\u001b[0m \u001b[32m━━━━━━━━━━━━━━━━━━━━\u001b[0m\u001b[37m\u001b[0m \u001b[1m0s\u001b[0m 2ms/step - loss: 816.0301 - mae: 24.8491 - val_loss: 779.5857 - val_mae: 24.0564 - learning_rate: 0.0010\n",
      "Epoch 3/300\n",
      "\u001b[1m18/18\u001b[0m \u001b[32m━━━━━━━━━━━━━━━━━━━━\u001b[0m\u001b[37m\u001b[0m \u001b[1m0s\u001b[0m 2ms/step - loss: 828.2386 - mae: 25.2160 - val_loss: 717.0240 - val_mae: 22.8347 - learning_rate: 0.0010\n",
      "Epoch 4/300\n",
      "\u001b[1m18/18\u001b[0m \u001b[32m━━━━━━━━━━━━━━━━━━━━\u001b[0m\u001b[37m\u001b[0m \u001b[1m0s\u001b[0m 2ms/step - loss: 697.5715 - mae: 23.2554 - val_loss: 630.1201 - val_mae: 21.0425 - learning_rate: 0.0010\n",
      "Epoch 5/300\n",
      "\u001b[1m18/18\u001b[0m \u001b[32m━━━━━━━━━━━━━━━━━━━━\u001b[0m\u001b[37m\u001b[0m \u001b[1m0s\u001b[0m 2ms/step - loss: 548.8793 - mae: 20.1358 - val_loss: 531.4879 - val_mae: 18.7510 - learning_rate: 0.0010\n",
      "Epoch 6/300\n",
      "\u001b[1m18/18\u001b[0m \u001b[32m━━━━━━━━━━━━━━━━━━━━\u001b[0m\u001b[37m\u001b[0m \u001b[1m0s\u001b[0m 2ms/step - loss: 465.4175 - mae: 18.1161 - val_loss: 444.6572 - val_mae: 16.3745 - learning_rate: 0.0010\n",
      "Epoch 7/300\n",
      "\u001b[1m18/18\u001b[0m \u001b[32m━━━━━━━━━━━━━━━━━━━━\u001b[0m\u001b[37m\u001b[0m \u001b[1m0s\u001b[0m 2ms/step - loss: 400.4506 - mae: 16.1316 - val_loss: 395.7484 - val_mae: 14.4109 - learning_rate: 0.0010\n",
      "Epoch 8/300\n",
      "\u001b[1m18/18\u001b[0m \u001b[32m━━━━━━━━━━━━━━━━━━━━\u001b[0m\u001b[37m\u001b[0m \u001b[1m0s\u001b[0m 2ms/step - loss: 280.0922 - mae: 12.7957 - val_loss: 388.1703 - val_mae: 13.6109 - learning_rate: 0.0010\n",
      "Epoch 9/300\n",
      "\u001b[1m18/18\u001b[0m \u001b[32m━━━━━━━━━━━━━━━━━━━━\u001b[0m\u001b[37m\u001b[0m \u001b[1m0s\u001b[0m 2ms/step - loss: 256.7893 - mae: 12.5387 - val_loss: 401.5978 - val_mae: 13.4391 - learning_rate: 0.0010\n",
      "Epoch 10/300\n",
      "\u001b[1m18/18\u001b[0m \u001b[32m━━━━━━━━━━━━━━━━━━━━\u001b[0m\u001b[37m\u001b[0m \u001b[1m0s\u001b[0m 1ms/step - loss: 224.5918 - mae: 11.3156 - val_loss: 406.4690 - val_mae: 13.2236 - learning_rate: 0.0010\n",
      "Epoch 11/300\n",
      "\u001b[1m18/18\u001b[0m \u001b[32m━━━━━━━━━━━━━━━━━━━━\u001b[0m\u001b[37m\u001b[0m \u001b[1m0s\u001b[0m 1ms/step - loss: 224.5477 - mae: 11.0042 - val_loss: 405.6204 - val_mae: 13.0713 - learning_rate: 0.0010\n",
      "Epoch 12/300\n",
      "\u001b[1m18/18\u001b[0m \u001b[32m━━━━━━━━━━━━━━━━━━━━\u001b[0m\u001b[37m\u001b[0m \u001b[1m0s\u001b[0m 1ms/step - loss: 187.3262 - mae: 9.9234 - val_loss: 406.9512 - val_mae: 13.0497 - learning_rate: 0.0010\n",
      "Epoch 13/300\n",
      "\u001b[1m18/18\u001b[0m \u001b[32m━━━━━━━━━━━━━━━━━━━━\u001b[0m\u001b[37m\u001b[0m \u001b[1m0s\u001b[0m 1ms/step - loss: 205.8571 - mae: 10.9327 - val_loss: 409.5263 - val_mae: 13.0055 - learning_rate: 0.0010\n",
      "Epoch 14/300\n",
      "\u001b[1m18/18\u001b[0m \u001b[32m━━━━━━━━━━━━━━━━━━━━\u001b[0m\u001b[37m\u001b[0m \u001b[1m0s\u001b[0m 1ms/step - loss: 166.5431 - mae: 9.7381 - val_loss: 406.3391 - val_mae: 12.9191 - learning_rate: 0.0010\n",
      "Epoch 15/300\n",
      "\u001b[1m18/18\u001b[0m \u001b[32m━━━━━━━━━━━━━━━━━━━━\u001b[0m\u001b[37m\u001b[0m \u001b[1m0s\u001b[0m 1ms/step - loss: 208.7888 - mae: 10.7080 - val_loss: 411.2804 - val_mae: 12.8898 - learning_rate: 0.0010\n",
      "Epoch 16/300\n",
      "\u001b[1m18/18\u001b[0m \u001b[32m━━━━━━━━━━━━━━━━━━━━\u001b[0m\u001b[37m\u001b[0m \u001b[1m0s\u001b[0m 1ms/step - loss: 189.6888 - mae: 9.8462 - val_loss: 408.8970 - val_mae: 12.8335 - learning_rate: 0.0010\n",
      "Epoch 17/300\n",
      "\u001b[1m18/18\u001b[0m \u001b[32m━━━━━━━━━━━━━━━━━━━━\u001b[0m\u001b[37m\u001b[0m \u001b[1m0s\u001b[0m 2ms/step - loss: 211.0400 - mae: 10.7626 - val_loss: 407.6582 - val_mae: 12.7443 - learning_rate: 0.0010\n",
      "Epoch 18/300\n",
      "\u001b[1m 1/18\u001b[0m \u001b[32m━\u001b[0m\u001b[37m━━━━━━━━━━━━━━━━━━━\u001b[0m \u001b[1m0s\u001b[0m 7ms/step - loss: 400.1873 - mae: 14.6973\n",
      "Epoch 18: ReduceLROnPlateau reducing learning rate to 0.0005000000237487257.\n",
      "\u001b[1m18/18\u001b[0m \u001b[32m━━━━━━━━━━━━━━━━━━━━\u001b[0m\u001b[37m\u001b[0m \u001b[1m0s\u001b[0m 2ms/step - loss: 223.4732 - mae: 10.8179 - val_loss: 412.5975 - val_mae: 12.8398 - learning_rate: 0.0010\n",
      "Epoch 19/300\n",
      "\u001b[1m18/18\u001b[0m \u001b[32m━━━━━━━━━━━━━━━━━━━━\u001b[0m\u001b[37m\u001b[0m \u001b[1m0s\u001b[0m 2ms/step - loss: 232.9697 - mae: 10.8057 - val_loss: 409.6508 - val_mae: 12.7801 - learning_rate: 5.0000e-04\n",
      "Epoch 20/300\n",
      "\u001b[1m18/18\u001b[0m \u001b[32m━━━━━━━━━━━━━━━━━━━━\u001b[0m\u001b[37m\u001b[0m \u001b[1m0s\u001b[0m 2ms/step - loss: 174.2227 - mae: 9.6296 - val_loss: 409.7798 - val_mae: 12.7588 - learning_rate: 5.0000e-04\n",
      "Epoch 21/300\n",
      "\u001b[1m18/18\u001b[0m \u001b[32m━━━━━━━━━━━━━━━━━━━━\u001b[0m\u001b[37m\u001b[0m \u001b[1m0s\u001b[0m 2ms/step - loss: 230.4078 - mae: 11.0759 - val_loss: 408.2629 - val_mae: 12.7059 - learning_rate: 5.0000e-04\n",
      "Epoch 22/300\n",
      "\u001b[1m18/18\u001b[0m \u001b[32m━━━━━━━━━━━━━━━━━━━━\u001b[0m\u001b[37m\u001b[0m \u001b[1m0s\u001b[0m 1ms/step - loss: 202.6508 - mae: 9.9595 - val_loss: 404.9391 - val_mae: 12.6646 - learning_rate: 5.0000e-04\n",
      "Epoch 23/300\n",
      "\u001b[1m18/18\u001b[0m \u001b[32m━━━━━━━━━━━━━━━━━━━━\u001b[0m\u001b[37m\u001b[0m \u001b[1m0s\u001b[0m 1ms/step - loss: 197.4193 - mae: 10.3491 - val_loss: 404.6727 - val_mae: 12.6671 - learning_rate: 5.0000e-04\n",
      "Epoch 24/300\n",
      "\u001b[1m18/18\u001b[0m \u001b[32m━━━━━━━━━━━━━━━━━━━━\u001b[0m\u001b[37m\u001b[0m \u001b[1m0s\u001b[0m 1ms/step - loss: 195.6664 - mae: 9.9623 - val_loss: 407.3438 - val_mae: 12.7061 - learning_rate: 5.0000e-04\n",
      "Epoch 25/300\n",
      "\u001b[1m18/18\u001b[0m \u001b[32m━━━━━━━━━━━━━━━━━━━━\u001b[0m\u001b[37m\u001b[0m \u001b[1m0s\u001b[0m 1ms/step - loss: 203.4188 - mae: 10.5527 - val_loss: 402.5261 - val_mae: 12.6025 - learning_rate: 5.0000e-04\n",
      "Epoch 26/300\n",
      "\u001b[1m18/18\u001b[0m \u001b[32m━━━━━━━━━━━━━━━━━━━━\u001b[0m\u001b[37m\u001b[0m \u001b[1m0s\u001b[0m 2ms/step - loss: 183.1933 - mae: 9.9363 - val_loss: 407.4615 - val_mae: 12.7052 - learning_rate: 5.0000e-04\n",
      "Epoch 27/300\n",
      "\u001b[1m18/18\u001b[0m \u001b[32m━━━━━━━━━━━━━━━━━━━━\u001b[0m\u001b[37m\u001b[0m \u001b[1m0s\u001b[0m 1ms/step - loss: 187.8403 - mae: 10.0458 - val_loss: 406.1517 - val_mae: 12.7175 - learning_rate: 5.0000e-04\n",
      "Epoch 28/300\n",
      "\u001b[1m 1/18\u001b[0m \u001b[32m━\u001b[0m\u001b[37m━━━━━━━━━━━━━━━━━━━\u001b[0m \u001b[1m0s\u001b[0m 7ms/step - loss: 82.1595 - mae: 6.6294\n",
      "Epoch 28: ReduceLROnPlateau reducing learning rate to 0.0002500000118743628.\n",
      "\u001b[1m18/18\u001b[0m \u001b[32m━━━━━━━━━━━━━━━━━━━━\u001b[0m\u001b[37m\u001b[0m \u001b[1m0s\u001b[0m 1ms/step - loss: 184.0748 - mae: 9.8515 - val_loss: 405.5139 - val_mae: 12.6720 - learning_rate: 5.0000e-04\n"
     ]
    }
   ],
   "source": [
    "history = model.fit(X_train, y_train, epochs=300, validation_data=(X_test, y_test), batch_size=16, verbose=1, callbacks=[early_stopping, reduce_lr])"
   ]
  },
  {
   "cell_type": "code",
   "execution_count": 52,
   "metadata": {},
   "outputs": [
    {
     "name": "stdout",
     "output_type": "stream",
     "text": [
      "\u001b[1m3/3\u001b[0m \u001b[32m━━━━━━━━━━━━━━━━━━━━\u001b[0m\u001b[37m\u001b[0m \u001b[1m0s\u001b[0m 3ms/step - loss: 390.1273 - mae: 13.5029\n",
      "Test MAE: 13.610860824584961\n"
     ]
    }
   ],
   "source": [
    "loss, mae = model.evaluate(X_test, y_test)\n",
    "print(f'Test MAE: {mae}')"
   ]
  },
  {
   "cell_type": "code",
   "execution_count": 53,
   "metadata": {},
   "outputs": [
    {
     "name": "stdout",
     "output_type": "stream",
     "text": [
      "WARNING:tensorflow:5 out of the last 7 calls to <function TensorFlowTrainer.make_predict_function.<locals>.one_step_on_data_distributed at 0x313b79c60> triggered tf.function retracing. Tracing is expensive and the excessive number of tracings could be due to (1) creating @tf.function repeatedly in a loop, (2) passing tensors with different shapes, (3) passing Python objects instead of tensors. For (1), please define your @tf.function outside of the loop. For (2), @tf.function has reduce_retracing=True option that can avoid unnecessary retracing. For (3), please refer to https://www.tensorflow.org/guide/function#controlling_retracing and https://www.tensorflow.org/api_docs/python/tf/function for  more details.\n",
      "\u001b[1m1/3\u001b[0m \u001b[32m━━━━━━\u001b[0m\u001b[37m━━━━━━━━━━━━━━\u001b[0m \u001b[1m0s\u001b[0m 16ms/stepWARNING:tensorflow:6 out of the last 9 calls to <function TensorFlowTrainer.make_predict_function.<locals>.one_step_on_data_distributed at 0x313b79c60> triggered tf.function retracing. Tracing is expensive and the excessive number of tracings could be due to (1) creating @tf.function repeatedly in a loop, (2) passing tensors with different shapes, (3) passing Python objects instead of tensors. For (1), please define your @tf.function outside of the loop. For (2), @tf.function has reduce_retracing=True option that can avoid unnecessary retracing. For (3), please refer to https://www.tensorflow.org/guide/function#controlling_retracing and https://www.tensorflow.org/api_docs/python/tf/function for  more details.\n",
      "\u001b[1m3/3\u001b[0m \u001b[32m━━━━━━━━━━━━━━━━━━━━\u001b[0m\u001b[37m\u001b[0m \u001b[1m0s\u001b[0m 8ms/step \n",
      "Test MSE: 388.17034222001126\n",
      "Test R2 Score: -0.8520624558274734\n"
     ]
    }
   ],
   "source": [
    "# Predictions\n",
    "y_pred = model.predict(X_test)\n",
    "\n",
    "# Calculate MSE and R2\n",
    "mse = mean_squared_error(y_test, y_pred)\n",
    "r2 = r2_score(y_test, y_pred)\n",
    "print(f'Test MSE: {mse}')\n",
    "print(f'Test R2 Score: {r2}')"
   ]
  },
  {
   "cell_type": "code",
   "execution_count": 54,
   "metadata": {},
   "outputs": [
    {
     "data": {
      "image/png": "[encoded data removed]",
      "text/plain": [
       "<Figure size 640x480 with 1 Axes>"
      ]
     },
     "metadata": {},
     "output_type": "display_data"
    }
   ],
   "source": [
    "plt.plot(history.history['mae'], label='MAE (train)')\n",
    "plt.plot(history.history['val_mae'], label='MAE (validation)')\n",
    "plt.xlabel('Epochs')\n",
    "plt.ylabel('MAE')\n",
    "plt.legend()\n",
    "plt.show()"
   ]
  },
  {
   "cell_type": "markdown",
   "metadata": {},
   "source": [
    "## Final MSE and R2"
   ]
  },
  {
   "cell_type": "markdown",
   "metadata": {},
   "source": [
    "| Match Type | MSE                     | R²                   |\n",
    "|------------|------------------------|------------------------|\n",
    "| ODI        |   196.583 |   -0.2260|\n",
    "| Test       |   604.636|    -0.2627|\n",
    "| T20        |   388.170 |   -0.8520|"
   ]
  },
  {
   "cell_type": "markdown",
   "metadata": {},
   "source": []
  }
 ],
 "metadata": {
  "kernelspec": {
   "display_name": ".venv",
   "language": "python",
   "name": "python3"
  },
  "language_info": {
   "codemirror_mode": {
    "name": "ipython",
    "version": 3
   },
   "file_extension": ".py",
   "mimetype": "text/x-python",
   "name": "python",
   "nbconvert_exporter": "python",
   "pygments_lexer": "ipython3",
   "version": "3.12.7"
  }
 },
 "nbformat": 4,
 "nbformat_minor": 2
}
